{
 "cells": [
  {
   "cell_type": "code",
   "execution_count": 12,
   "metadata": {},
   "outputs": [],
   "source": [
    "def foo(a, *args, **kwargs):\n",
    "    print(\"a: \", a)\n",
    "    print(\"args: \", args)\n",
    "    print(\"kwargs: \", kwargs)\n",
    "    print(kwargs[\"b\"])"
   ]
  },
  {
   "cell_type": "code",
   "execution_count": 2,
   "metadata": {},
   "outputs": [
    {
     "name": "stdout",
     "output_type": "stream",
     "text": [
      "2\n",
      "('a', 'b', 3)\n",
      "{}\n"
     ]
    }
   ],
   "source": [
    "foo(2, \"a\", \"b\", 3)"
   ]
  },
  {
   "cell_type": "code",
   "execution_count": 4,
   "metadata": {},
   "outputs": [
    {
     "name": "stdout",
     "output_type": "stream",
     "text": [
      "foo() got multiple values for argument 'a'\n"
     ]
    }
   ],
   "source": [
    "try:\n",
    "    foo(2, \"a\", \"b\", 3, a=\"value for a\")\n",
    "except TypeError as e:\n",
    "    print(e)"
   ]
  },
  {
   "cell_type": "code",
   "execution_count": 13,
   "metadata": {},
   "outputs": [
    {
     "name": "stdout",
     "output_type": "stream",
     "text": [
      "a:  2\n",
      "args:  ('a', 'b')\n",
      "kwargs:  {'b': 22, 'c': 33}\n",
      "22\n"
     ]
    }
   ],
   "source": [
    "kwargs = {\"b\": 22, \"c\": 33}\n",
    "foo(2, \"a\", \"b\", b=22, c=33)"
   ]
  },
  {
   "cell_type": "code",
   "execution_count": 15,
   "metadata": {},
   "outputs": [],
   "source": [
    "a, b = {**kwargs}"
   ]
  },
  {
   "cell_type": "code",
   "execution_count": 16,
   "metadata": {},
   "outputs": [
    {
     "data": {
      "text/plain": [
       "'b'"
      ]
     },
     "execution_count": 16,
     "metadata": {},
     "output_type": "execute_result"
    }
   ],
   "source": [
    "a"
   ]
  },
  {
   "cell_type": "code",
   "execution_count": 17,
   "metadata": {},
   "outputs": [
    {
     "data": {
      "text/plain": [
       "'c'"
      ]
     },
     "execution_count": 17,
     "metadata": {},
     "output_type": "execute_result"
    }
   ],
   "source": [
    "b"
   ]
  },
  {
   "cell_type": "code",
   "execution_count": 3,
   "metadata": {},
   "outputs": [],
   "source": [
    "import os\n",
    "import json\n",
    "import argparse"
   ]
  },
  {
   "cell_type": "code",
   "execution_count": 2,
   "metadata": {},
   "outputs": [],
   "source": [
    "def set_env(**envs):\n",
    "    \"\"\"Given dict of env vars(name: value),\n",
    "    set them in the cloud run container\n",
    "    \"\"\"\n",
    "    for env_name in envs:\n",
    "        print(f\"Setting {env_name} = {envs[env_name]}\")\n",
    "        os.environ[env_name] = envs[env_name]"
   ]
  },
  {
   "cell_type": "code",
   "execution_count": 17,
   "metadata": {},
   "outputs": [
    {
     "name": "stdout",
     "output_type": "stream",
     "text": [
      "{'name1': 'var1', 'name2': 'var2'} <class 'dict'>\n",
      "{'ENV1': 'VAL1', 'ENV2': 'VAL2'} <class 'dict'>\n"
     ]
    }
   ],
   "source": [
    "def parse_env_list(env_seq: str) -> dict:\n",
    "    return {pair.split(\"=\")[0]: pair.split(\"=\")[1] for pair in env_seq.split(\",\")}\n",
    "\n",
    "\n",
    "parser = argparse.ArgumentParser()\n",
    "opt = parser.add_argument\n",
    "opt(\n",
    "    \"-i\",\n",
    "    \"--input\",\n",
    "    type=json.loads,\n",
    ")\n",
    "opt(\n",
    "    \"-s\",\n",
    "    \"--string\",\n",
    "    type=parse_env_list,\n",
    ")\n",
    "testdict = '{\"name1\": \"var1\", \"name2\": \"var2\"}'\n",
    "teststr = \"ENV1=VAL1,ENV2=VAL2\"\n",
    "args = parser.parse_args([\"-i\", testdict, \"-s\", teststr])\n",
    "\n",
    "print(args.input, type(args.input))\n",
    "print(args.string, type(args.string))"
   ]
  },
  {
   "cell_type": "code",
   "execution_count": 15,
   "metadata": {},
   "outputs": [
    {
     "data": {
      "text/plain": [
       "{'ENV1': 'VAL1', 'ENV2': 'VAL2'}"
      ]
     },
     "execution_count": 15,
     "metadata": {},
     "output_type": "execute_result"
    }
   ],
   "source": [
    "teststr = \"ENV1=VAL1,ENV2=VAL2\"\n",
    "envdict = {pair.split(\"=\")[0]: pair.split(\"=\")[1] for pair in teststr.split(\",\")}\n",
    "envdict"
   ]
  },
  {
   "cell_type": "code",
   "execution_count": 18,
   "metadata": {},
   "outputs": [
    {
     "name": "stdout",
     "output_type": "stream",
     "text": [
      "Setting ENV1 = VAL1\n",
      "Setting ENV2 = VAL2\n"
     ]
    }
   ],
   "source": [
    "set_env(**args.string)"
   ]
  },
  {
   "cell_type": "code",
   "execution_count": 19,
   "metadata": {},
   "outputs": [
    {
     "data": {
      "text/plain": [
       "'VAL1'"
      ]
     },
     "execution_count": 19,
     "metadata": {},
     "output_type": "execute_result"
    }
   ],
   "source": [
    "os.getenv(\"ENV1\")"
   ]
  },
  {
   "cell_type": "code",
   "execution_count": null,
   "metadata": {},
   "outputs": [],
   "source": []
  }
 ],
 "metadata": {
  "kernelspec": {
   "display_name": "Python 3",
   "language": "python",
   "name": "python3"
  },
  "language_info": {
   "codemirror_mode": {
    "name": "ipython",
    "version": 3
   },
   "file_extension": ".py",
   "mimetype": "text/x-python",
   "name": "python",
   "nbconvert_exporter": "python",
   "pygments_lexer": "ipython3",
   "version": "3.10.6"
  },
  "orig_nbformat": 4
 },
 "nbformat": 4,
 "nbformat_minor": 2
}
