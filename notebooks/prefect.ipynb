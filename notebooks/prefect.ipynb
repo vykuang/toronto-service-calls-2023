{
 "cells": [
  {
   "cell_type": "markdown",
   "id": "43990a8d-ac38-4191-971c-9745bc6229b0",
   "metadata": {},
   "source": [
    "# Prefect\n",
    "\n",
    "Playground for interactively testing prefect flows "
   ]
  },
  {
   "cell_type": "code",
   "execution_count": 2,
   "id": "3b0c914d-650a-4c60-b52b-f2ea6fe031d6",
   "metadata": {
    "tags": []
   },
   "outputs": [],
   "source": [
    "from prefect import flow\n",
    "\n",
    "from prefect_dbt.cloud import DbtCloudCredentials\n",
    "from prefect_dbt.cloud.jobs import trigger_dbt_cloud_job_run_and_wait_for_completion\n",
    "\n",
    "import os\n",
    "from dotenv import load_dotenv"
   ]
  },
  {
   "cell_type": "code",
   "execution_count": 7,
   "id": "f931fa70-0e8a-4176-bb0c-8ec91401ff3e",
   "metadata": {
    "tags": []
   },
   "outputs": [],
   "source": [
    "load_dotenv()\n",
    "PREFECT_API_URL = os.getenv(\"PREFECT_API_URL\")\n",
    "os.environ[\"PREFECT_API_URL\"] = PREFECT_API_URL\n",
    "JOB_ID = os.getenv(\"DBT_JOB_ID\")\n",
    "DBT_CRED_NAME = os.getenv(\"DBT_CRED_NAME\")"
   ]
  },
  {
   "cell_type": "code",
   "execution_count": 12,
   "id": "096e5b88-7e03-40a2-9bf9-9ac1e5a339dd",
   "metadata": {
    "tags": []
   },
   "outputs": [],
   "source": [
    "num_id = 2\n",
    "\n",
    "\n",
    "@flow(name=f\"dbt-test-{num_id}\")\n",
    "def run_dbt_job_flow(job_id: int = JOB_ID, dbt_cred_name: str = DBT_CRED_NAME):\n",
    "    trigger_dbt_cloud_job_run_and_wait_for_completion(\n",
    "        dbt_cloud_credentials=DbtCloudCredentials.load(dbt_cred_name), job_id=JOB_ID\n",
    "    )"
   ]
  },
  {
   "cell_type": "code",
   "execution_count": 13,
   "id": "df8a043e-dd2f-49cb-84d1-0ee74dcec310",
   "metadata": {
    "collapsed": true,
    "jupyter": {
     "outputs_hidden": true
    },
    "tags": []
   },
   "outputs": [
    {
     "data": {
      "text/html": [
       "<pre style=\"white-space:pre;overflow-x:auto;line-height:normal;font-family:Menlo,'DejaVu Sans Mono',consolas,'Courier New',monospace\">16:32:12.369 | <span style=\"color: #008080; text-decoration-color: #008080\">INFO</span>    | prefect.engine - Created flow run<span style=\"color: #800080; text-decoration-color: #800080\"> 'fine-capybara'</span> for flow<span style=\"color: #800080; text-decoration-color: #800080; font-weight: bold\"> 'dbt-test-2'</span>\n",
       "</pre>\n"
      ],
      "text/plain": [
       "16:32:12.369 | \u001b[36mINFO\u001b[0m    | prefect.engine - Created flow run\u001b[35m 'fine-capybara'\u001b[0m for flow\u001b[1;35m 'dbt-test-2'\u001b[0m\n"
      ]
     },
     "metadata": {},
     "output_type": "display_data"
    },
    {
     "data": {
      "text/html": [
       "<pre style=\"white-space:pre;overflow-x:auto;line-height:normal;font-family:Menlo,'DejaVu Sans Mono',consolas,'Courier New',monospace\">16:32:17.312 | <span style=\"color: #008080; text-decoration-color: #008080\">INFO</span>    | Flow run<span style=\"color: #800080; text-decoration-color: #800080\"> 'fine-capybara'</span> - Created subflow run<span style=\"color: #800080; text-decoration-color: #800080\"> 'faithful-rooster'</span> for flow<span style=\"color: #800080; text-decoration-color: #800080; font-weight: bold\"> 'Trigger dbt Cloud job run and wait for completion'</span>\n",
       "</pre>\n"
      ],
      "text/plain": [
       "16:32:17.312 | \u001b[36mINFO\u001b[0m    | Flow run\u001b[35m 'fine-capybara'\u001b[0m - Created subflow run\u001b[35m 'faithful-rooster'\u001b[0m for flow\u001b[1;35m 'Trigger dbt Cloud job run and wait for completion'\u001b[0m\n"
      ]
     },
     "metadata": {},
     "output_type": "display_data"
    },
    {
     "data": {
      "text/html": [
       "<pre style=\"white-space:pre;overflow-x:auto;line-height:normal;font-family:Menlo,'DejaVu Sans Mono',consolas,'Courier New',monospace\">16:32:18.991 | <span style=\"color: #008080; text-decoration-color: #008080\">INFO</span>    | Flow run<span style=\"color: #800080; text-decoration-color: #800080\"> 'faithful-rooster'</span> - Created task run 'Trigger dbt Cloud job run-0' for task 'Trigger dbt Cloud job run'\n",
       "</pre>\n"
      ],
      "text/plain": [
       "16:32:18.991 | \u001b[36mINFO\u001b[0m    | Flow run\u001b[35m 'faithful-rooster'\u001b[0m - Created task run 'Trigger dbt Cloud job run-0' for task 'Trigger dbt Cloud job run'\n"
      ]
     },
     "metadata": {},
     "output_type": "display_data"
    },
    {
     "data": {
      "text/html": [
       "<pre style=\"white-space:pre;overflow-x:auto;line-height:normal;font-family:Menlo,'DejaVu Sans Mono',consolas,'Courier New',monospace\">16:32:18.997 | <span style=\"color: #008080; text-decoration-color: #008080\">INFO</span>    | Flow run<span style=\"color: #800080; text-decoration-color: #800080\"> 'faithful-rooster'</span> - Submitted task run 'Trigger dbt Cloud job run-0' for execution.\n",
       "</pre>\n"
      ],
      "text/plain": [
       "16:32:18.997 | \u001b[36mINFO\u001b[0m    | Flow run\u001b[35m 'faithful-rooster'\u001b[0m - Submitted task run 'Trigger dbt Cloud job run-0' for execution.\n"
      ]
     },
     "metadata": {},
     "output_type": "display_data"
    },
    {
     "data": {
      "text/html": [
       "<pre style=\"white-space:pre;overflow-x:auto;line-height:normal;font-family:Menlo,'DejaVu Sans Mono',consolas,'Courier New',monospace\">16:32:20.275 | <span style=\"color: #008080; text-decoration-color: #008080\">INFO</span>    | Task run 'Trigger dbt Cloud job run-0' - Triggering run for job with ID 282752\n",
       "</pre>\n"
      ],
      "text/plain": [
       "16:32:20.275 | \u001b[36mINFO\u001b[0m    | Task run 'Trigger dbt Cloud job run-0' - Triggering run for job with ID 282752\n"
      ]
     },
     "metadata": {},
     "output_type": "display_data"
    },
    {
     "data": {
      "text/html": [
       "<pre style=\"white-space:pre;overflow-x:auto;line-height:normal;font-family:Menlo,'DejaVu Sans Mono',consolas,'Courier New',monospace\">16:32:21.383 | <span style=\"color: #d70000; text-decoration-color: #d70000\">ERROR</span>   | Task run 'Trigger dbt Cloud job run-0' - Encountered exception during execution:\n",
       "Traceback (most recent call last):\n",
       "  File \"/home/klang/.cache/pypoetry/virtualenvs/to-service-2M0TdnpI-py3.10/lib/python3.10/site-packages/prefect_dbt/cloud/jobs.py\", line 179, in trigger_dbt_cloud_job_run\n",
       "    response = await client.trigger_job_run(job_id=job_id, options=options)\n",
       "  File \"/home/klang/.cache/pypoetry/virtualenvs/to-service-2M0TdnpI-py3.10/lib/python3.10/site-packages/prefect_dbt/cloud/clients.py\", line 100, in trigger_job_run\n",
       "    return await self.call_endpoint(\n",
       "  File \"/home/klang/.cache/pypoetry/virtualenvs/to-service-2M0TdnpI-py3.10/lib/python3.10/site-packages/prefect_dbt/cloud/clients.py\", line 59, in call_endpoint\n",
       "    response.raise_for_status()\n",
       "  File \"/home/klang/.cache/pypoetry/virtualenvs/to-service-2M0TdnpI-py3.10/lib/python3.10/site-packages/httpx/_models.py\", line 749, in raise_for_status\n",
       "    raise HTTPStatusError(message, request=request, response=self)\n",
       "httpx.HTTPStatusError: Client error '401 Unauthorized' for url '<span style=\"color: #0000ff; text-decoration-color: #0000ff\">https://cloud.getdbt.com/api/v2/accounts/143920/jobs/282752/run/</span>'\n",
       "For more information check: <span style=\"color: #0000ff; text-decoration-color: #0000ff\">https://httpstatuses.com/401</span>\n",
       "\n",
       "The above exception was the direct cause of the following exception:\n",
       "\n",
       "Traceback (most recent call last):\n",
       "  File \"/home/klang/.cache/pypoetry/virtualenvs/to-service-2M0TdnpI-py3.10/lib/python3.10/site-packages/prefect/engine.py\", line 1526, in orchestrate_task_run\n",
       "    result = await task.fn(*args, **kwargs)\n",
       "  File \"/home/klang/.cache/pypoetry/virtualenvs/to-service-2M0TdnpI-py3.10/lib/python3.10/site-packages/prefect_dbt/cloud/jobs.py\", line 181, in trigger_dbt_cloud_job_run\n",
       "    raise DbtCloudJobRunTrigger<span style=\"color: #d70000; text-decoration-color: #d70000\">Failed</span>(extract_user_message(ex)) from ex\n",
       "prefect_dbt.cloud.exceptions.DbtCloudJobRunTrigger<span style=\"color: #d70000; text-decoration-color: #d70000\">Failed</span>: The API is not accessible to unpaid accounts.\n",
       "</pre>\n"
      ],
      "text/plain": [
       "16:32:21.383 | \u001b[38;5;160mERROR\u001b[0m   | Task run 'Trigger dbt Cloud job run-0' - Encountered exception during execution:\n",
       "Traceback (most recent call last):\n",
       "  File \"/home/klang/.cache/pypoetry/virtualenvs/to-service-2M0TdnpI-py3.10/lib/python3.10/site-packages/prefect_dbt/cloud/jobs.py\", line 179, in trigger_dbt_cloud_job_run\n",
       "    response = await client.trigger_job_run(job_id=job_id, options=options)\n",
       "  File \"/home/klang/.cache/pypoetry/virtualenvs/to-service-2M0TdnpI-py3.10/lib/python3.10/site-packages/prefect_dbt/cloud/clients.py\", line 100, in trigger_job_run\n",
       "    return await self.call_endpoint(\n",
       "  File \"/home/klang/.cache/pypoetry/virtualenvs/to-service-2M0TdnpI-py3.10/lib/python3.10/site-packages/prefect_dbt/cloud/clients.py\", line 59, in call_endpoint\n",
       "    response.raise_for_status()\n",
       "  File \"/home/klang/.cache/pypoetry/virtualenvs/to-service-2M0TdnpI-py3.10/lib/python3.10/site-packages/httpx/_models.py\", line 749, in raise_for_status\n",
       "    raise HTTPStatusError(message, request=request, response=self)\n",
       "httpx.HTTPStatusError: Client error '401 Unauthorized' for url '\u001b[94mhttps://cloud.getdbt.com/api/v2/accounts/143920/jobs/282752/run/\u001b[0m'\n",
       "For more information check: \u001b[94mhttps://httpstatuses.com/401\u001b[0m\n",
       "\n",
       "The above exception was the direct cause of the following exception:\n",
       "\n",
       "Traceback (most recent call last):\n",
       "  File \"/home/klang/.cache/pypoetry/virtualenvs/to-service-2M0TdnpI-py3.10/lib/python3.10/site-packages/prefect/engine.py\", line 1526, in orchestrate_task_run\n",
       "    result = await task.fn(*args, **kwargs)\n",
       "  File \"/home/klang/.cache/pypoetry/virtualenvs/to-service-2M0TdnpI-py3.10/lib/python3.10/site-packages/prefect_dbt/cloud/jobs.py\", line 181, in trigger_dbt_cloud_job_run\n",
       "    raise DbtCloudJobRunTrigger\u001b[38;5;160mFailed\u001b[0m(extract_user_message(ex)) from ex\n",
       "prefect_dbt.cloud.exceptions.DbtCloudJobRunTrigger\u001b[38;5;160mFailed\u001b[0m: The API is not accessible to unpaid accounts.\n"
      ]
     },
     "metadata": {},
     "output_type": "display_data"
    },
    {
     "data": {
      "text/html": [
       "<pre style=\"white-space:pre;overflow-x:auto;line-height:normal;font-family:Menlo,'DejaVu Sans Mono',consolas,'Courier New',monospace\">16:32:22.113 | <span style=\"color: #008080; text-decoration-color: #008080\">INFO</span>    | Task run 'Trigger dbt Cloud job run-0' - Received non-final state 'AwaitingRetry' when proposing final state '<span style=\"color: #d70000; text-decoration-color: #d70000\">Failed</span>' and will attempt to run again...\n",
       "</pre>\n"
      ],
      "text/plain": [
       "16:32:22.113 | \u001b[36mINFO\u001b[0m    | Task run 'Trigger dbt Cloud job run-0' - Received non-final state 'AwaitingRetry' when proposing final state '\u001b[38;5;160mFailed\u001b[0m' and will attempt to run again...\n"
      ]
     },
     "metadata": {},
     "output_type": "display_data"
    },
    {
     "data": {
      "text/html": [
       "<pre style=\"white-space:pre;overflow-x:auto;line-height:normal;font-family:Menlo,'DejaVu Sans Mono',consolas,'Courier New',monospace\">16:32:32.804 | <span style=\"color: #008080; text-decoration-color: #008080\">INFO</span>    | Task run 'Trigger dbt Cloud job run-0' - Triggering run for job with ID 282752\n",
       "</pre>\n"
      ],
      "text/plain": [
       "16:32:32.804 | \u001b[36mINFO\u001b[0m    | Task run 'Trigger dbt Cloud job run-0' - Triggering run for job with ID 282752\n"
      ]
     },
     "metadata": {},
     "output_type": "display_data"
    },
    {
     "data": {
      "text/html": [
       "<pre style=\"white-space:pre;overflow-x:auto;line-height:normal;font-family:Menlo,'DejaVu Sans Mono',consolas,'Courier New',monospace\">16:32:33.856 | <span style=\"color: #d70000; text-decoration-color: #d70000\">ERROR</span>   | Task run 'Trigger dbt Cloud job run-0' - Encountered exception during execution:\n",
       "Traceback (most recent call last):\n",
       "  File \"/home/klang/.cache/pypoetry/virtualenvs/to-service-2M0TdnpI-py3.10/lib/python3.10/site-packages/prefect_dbt/cloud/jobs.py\", line 179, in trigger_dbt_cloud_job_run\n",
       "    response = await client.trigger_job_run(job_id=job_id, options=options)\n",
       "  File \"/home/klang/.cache/pypoetry/virtualenvs/to-service-2M0TdnpI-py3.10/lib/python3.10/site-packages/prefect_dbt/cloud/clients.py\", line 100, in trigger_job_run\n",
       "    return await self.call_endpoint(\n",
       "  File \"/home/klang/.cache/pypoetry/virtualenvs/to-service-2M0TdnpI-py3.10/lib/python3.10/site-packages/prefect_dbt/cloud/clients.py\", line 59, in call_endpoint\n",
       "    response.raise_for_status()\n",
       "  File \"/home/klang/.cache/pypoetry/virtualenvs/to-service-2M0TdnpI-py3.10/lib/python3.10/site-packages/httpx/_models.py\", line 749, in raise_for_status\n",
       "    raise HTTPStatusError(message, request=request, response=self)\n",
       "httpx.HTTPStatusError: Client error '401 Unauthorized' for url '<span style=\"color: #0000ff; text-decoration-color: #0000ff\">https://cloud.getdbt.com/api/v2/accounts/143920/jobs/282752/run/</span>'\n",
       "For more information check: <span style=\"color: #0000ff; text-decoration-color: #0000ff\">https://httpstatuses.com/401</span>\n",
       "\n",
       "The above exception was the direct cause of the following exception:\n",
       "\n",
       "Traceback (most recent call last):\n",
       "  File \"/home/klang/.cache/pypoetry/virtualenvs/to-service-2M0TdnpI-py3.10/lib/python3.10/site-packages/prefect/engine.py\", line 1526, in orchestrate_task_run\n",
       "    result = await task.fn(*args, **kwargs)\n",
       "  File \"/home/klang/.cache/pypoetry/virtualenvs/to-service-2M0TdnpI-py3.10/lib/python3.10/site-packages/prefect_dbt/cloud/jobs.py\", line 181, in trigger_dbt_cloud_job_run\n",
       "    raise DbtCloudJobRunTrigger<span style=\"color: #d70000; text-decoration-color: #d70000\">Failed</span>(extract_user_message(ex)) from ex\n",
       "prefect_dbt.cloud.exceptions.DbtCloudJobRunTrigger<span style=\"color: #d70000; text-decoration-color: #d70000\">Failed</span>: The API is not accessible to unpaid accounts.\n",
       "</pre>\n"
      ],
      "text/plain": [
       "16:32:33.856 | \u001b[38;5;160mERROR\u001b[0m   | Task run 'Trigger dbt Cloud job run-0' - Encountered exception during execution:\n",
       "Traceback (most recent call last):\n",
       "  File \"/home/klang/.cache/pypoetry/virtualenvs/to-service-2M0TdnpI-py3.10/lib/python3.10/site-packages/prefect_dbt/cloud/jobs.py\", line 179, in trigger_dbt_cloud_job_run\n",
       "    response = await client.trigger_job_run(job_id=job_id, options=options)\n",
       "  File \"/home/klang/.cache/pypoetry/virtualenvs/to-service-2M0TdnpI-py3.10/lib/python3.10/site-packages/prefect_dbt/cloud/clients.py\", line 100, in trigger_job_run\n",
       "    return await self.call_endpoint(\n",
       "  File \"/home/klang/.cache/pypoetry/virtualenvs/to-service-2M0TdnpI-py3.10/lib/python3.10/site-packages/prefect_dbt/cloud/clients.py\", line 59, in call_endpoint\n",
       "    response.raise_for_status()\n",
       "  File \"/home/klang/.cache/pypoetry/virtualenvs/to-service-2M0TdnpI-py3.10/lib/python3.10/site-packages/httpx/_models.py\", line 749, in raise_for_status\n",
       "    raise HTTPStatusError(message, request=request, response=self)\n",
       "httpx.HTTPStatusError: Client error '401 Unauthorized' for url '\u001b[94mhttps://cloud.getdbt.com/api/v2/accounts/143920/jobs/282752/run/\u001b[0m'\n",
       "For more information check: \u001b[94mhttps://httpstatuses.com/401\u001b[0m\n",
       "\n",
       "The above exception was the direct cause of the following exception:\n",
       "\n",
       "Traceback (most recent call last):\n",
       "  File \"/home/klang/.cache/pypoetry/virtualenvs/to-service-2M0TdnpI-py3.10/lib/python3.10/site-packages/prefect/engine.py\", line 1526, in orchestrate_task_run\n",
       "    result = await task.fn(*args, **kwargs)\n",
       "  File \"/home/klang/.cache/pypoetry/virtualenvs/to-service-2M0TdnpI-py3.10/lib/python3.10/site-packages/prefect_dbt/cloud/jobs.py\", line 181, in trigger_dbt_cloud_job_run\n",
       "    raise DbtCloudJobRunTrigger\u001b[38;5;160mFailed\u001b[0m(extract_user_message(ex)) from ex\n",
       "prefect_dbt.cloud.exceptions.DbtCloudJobRunTrigger\u001b[38;5;160mFailed\u001b[0m: The API is not accessible to unpaid accounts.\n"
      ]
     },
     "metadata": {},
     "output_type": "display_data"
    },
    {
     "data": {
      "text/html": [
       "<pre style=\"white-space:pre;overflow-x:auto;line-height:normal;font-family:Menlo,'DejaVu Sans Mono',consolas,'Courier New',monospace\">16:32:34.300 | <span style=\"color: #008080; text-decoration-color: #008080\">INFO</span>    | Task run 'Trigger dbt Cloud job run-0' - Received non-final state 'AwaitingRetry' when proposing final state '<span style=\"color: #d70000; text-decoration-color: #d70000\">Failed</span>' and will attempt to run again...\n",
       "</pre>\n"
      ],
      "text/plain": [
       "16:32:34.300 | \u001b[36mINFO\u001b[0m    | Task run 'Trigger dbt Cloud job run-0' - Received non-final state 'AwaitingRetry' when proposing final state '\u001b[38;5;160mFailed\u001b[0m' and will attempt to run again...\n"
      ]
     },
     "metadata": {},
     "output_type": "display_data"
    },
    {
     "data": {
      "text/html": [
       "<pre style=\"white-space:pre;overflow-x:auto;line-height:normal;font-family:Menlo,'DejaVu Sans Mono',consolas,'Courier New',monospace\">16:32:45.827 | <span style=\"color: #008080; text-decoration-color: #008080\">INFO</span>    | Task run 'Trigger dbt Cloud job run-0' - Triggering run for job with ID 282752\n",
       "</pre>\n"
      ],
      "text/plain": [
       "16:32:45.827 | \u001b[36mINFO\u001b[0m    | Task run 'Trigger dbt Cloud job run-0' - Triggering run for job with ID 282752\n"
      ]
     },
     "metadata": {},
     "output_type": "display_data"
    },
    {
     "data": {
      "text/html": [
       "<pre style=\"white-space:pre;overflow-x:auto;line-height:normal;font-family:Menlo,'DejaVu Sans Mono',consolas,'Courier New',monospace\">16:32:46.886 | <span style=\"color: #d70000; text-decoration-color: #d70000\">ERROR</span>   | Task run 'Trigger dbt Cloud job run-0' - Encountered exception during execution:\n",
       "Traceback (most recent call last):\n",
       "  File \"/home/klang/.cache/pypoetry/virtualenvs/to-service-2M0TdnpI-py3.10/lib/python3.10/site-packages/prefect_dbt/cloud/jobs.py\", line 179, in trigger_dbt_cloud_job_run\n",
       "    response = await client.trigger_job_run(job_id=job_id, options=options)\n",
       "  File \"/home/klang/.cache/pypoetry/virtualenvs/to-service-2M0TdnpI-py3.10/lib/python3.10/site-packages/prefect_dbt/cloud/clients.py\", line 100, in trigger_job_run\n",
       "    return await self.call_endpoint(\n",
       "  File \"/home/klang/.cache/pypoetry/virtualenvs/to-service-2M0TdnpI-py3.10/lib/python3.10/site-packages/prefect_dbt/cloud/clients.py\", line 59, in call_endpoint\n",
       "    response.raise_for_status()\n",
       "  File \"/home/klang/.cache/pypoetry/virtualenvs/to-service-2M0TdnpI-py3.10/lib/python3.10/site-packages/httpx/_models.py\", line 749, in raise_for_status\n",
       "    raise HTTPStatusError(message, request=request, response=self)\n",
       "httpx.HTTPStatusError: Client error '401 Unauthorized' for url '<span style=\"color: #0000ff; text-decoration-color: #0000ff\">https://cloud.getdbt.com/api/v2/accounts/143920/jobs/282752/run/</span>'\n",
       "For more information check: <span style=\"color: #0000ff; text-decoration-color: #0000ff\">https://httpstatuses.com/401</span>\n",
       "\n",
       "The above exception was the direct cause of the following exception:\n",
       "\n",
       "Traceback (most recent call last):\n",
       "  File \"/home/klang/.cache/pypoetry/virtualenvs/to-service-2M0TdnpI-py3.10/lib/python3.10/site-packages/prefect/engine.py\", line 1526, in orchestrate_task_run\n",
       "    result = await task.fn(*args, **kwargs)\n",
       "  File \"/home/klang/.cache/pypoetry/virtualenvs/to-service-2M0TdnpI-py3.10/lib/python3.10/site-packages/prefect_dbt/cloud/jobs.py\", line 181, in trigger_dbt_cloud_job_run\n",
       "    raise DbtCloudJobRunTrigger<span style=\"color: #d70000; text-decoration-color: #d70000\">Failed</span>(extract_user_message(ex)) from ex\n",
       "prefect_dbt.cloud.exceptions.DbtCloudJobRunTrigger<span style=\"color: #d70000; text-decoration-color: #d70000\">Failed</span>: The API is not accessible to unpaid accounts.\n",
       "</pre>\n"
      ],
      "text/plain": [
       "16:32:46.886 | \u001b[38;5;160mERROR\u001b[0m   | Task run 'Trigger dbt Cloud job run-0' - Encountered exception during execution:\n",
       "Traceback (most recent call last):\n",
       "  File \"/home/klang/.cache/pypoetry/virtualenvs/to-service-2M0TdnpI-py3.10/lib/python3.10/site-packages/prefect_dbt/cloud/jobs.py\", line 179, in trigger_dbt_cloud_job_run\n",
       "    response = await client.trigger_job_run(job_id=job_id, options=options)\n",
       "  File \"/home/klang/.cache/pypoetry/virtualenvs/to-service-2M0TdnpI-py3.10/lib/python3.10/site-packages/prefect_dbt/cloud/clients.py\", line 100, in trigger_job_run\n",
       "    return await self.call_endpoint(\n",
       "  File \"/home/klang/.cache/pypoetry/virtualenvs/to-service-2M0TdnpI-py3.10/lib/python3.10/site-packages/prefect_dbt/cloud/clients.py\", line 59, in call_endpoint\n",
       "    response.raise_for_status()\n",
       "  File \"/home/klang/.cache/pypoetry/virtualenvs/to-service-2M0TdnpI-py3.10/lib/python3.10/site-packages/httpx/_models.py\", line 749, in raise_for_status\n",
       "    raise HTTPStatusError(message, request=request, response=self)\n",
       "httpx.HTTPStatusError: Client error '401 Unauthorized' for url '\u001b[94mhttps://cloud.getdbt.com/api/v2/accounts/143920/jobs/282752/run/\u001b[0m'\n",
       "For more information check: \u001b[94mhttps://httpstatuses.com/401\u001b[0m\n",
       "\n",
       "The above exception was the direct cause of the following exception:\n",
       "\n",
       "Traceback (most recent call last):\n",
       "  File \"/home/klang/.cache/pypoetry/virtualenvs/to-service-2M0TdnpI-py3.10/lib/python3.10/site-packages/prefect/engine.py\", line 1526, in orchestrate_task_run\n",
       "    result = await task.fn(*args, **kwargs)\n",
       "  File \"/home/klang/.cache/pypoetry/virtualenvs/to-service-2M0TdnpI-py3.10/lib/python3.10/site-packages/prefect_dbt/cloud/jobs.py\", line 181, in trigger_dbt_cloud_job_run\n",
       "    raise DbtCloudJobRunTrigger\u001b[38;5;160mFailed\u001b[0m(extract_user_message(ex)) from ex\n",
       "prefect_dbt.cloud.exceptions.DbtCloudJobRunTrigger\u001b[38;5;160mFailed\u001b[0m: The API is not accessible to unpaid accounts.\n"
      ]
     },
     "metadata": {},
     "output_type": "display_data"
    },
    {
     "data": {
      "text/html": [
       "<pre style=\"white-space:pre;overflow-x:auto;line-height:normal;font-family:Menlo,'DejaVu Sans Mono',consolas,'Courier New',monospace\">16:32:47.330 | <span style=\"color: #008080; text-decoration-color: #008080\">INFO</span>    | Task run 'Trigger dbt Cloud job run-0' - Received non-final state 'AwaitingRetry' when proposing final state '<span style=\"color: #d70000; text-decoration-color: #d70000\">Failed</span>' and will attempt to run again...\n",
       "</pre>\n"
      ],
      "text/plain": [
       "16:32:47.330 | \u001b[36mINFO\u001b[0m    | Task run 'Trigger dbt Cloud job run-0' - Received non-final state 'AwaitingRetry' when proposing final state '\u001b[38;5;160mFailed\u001b[0m' and will attempt to run again...\n"
      ]
     },
     "metadata": {},
     "output_type": "display_data"
    },
    {
     "data": {
      "text/html": [
       "<pre style=\"white-space:pre;overflow-x:auto;line-height:normal;font-family:Menlo,'DejaVu Sans Mono',consolas,'Courier New',monospace\">16:32:58.850 | <span style=\"color: #008080; text-decoration-color: #008080\">INFO</span>    | Task run 'Trigger dbt Cloud job run-0' - Triggering run for job with ID 282752\n",
       "</pre>\n"
      ],
      "text/plain": [
       "16:32:58.850 | \u001b[36mINFO\u001b[0m    | Task run 'Trigger dbt Cloud job run-0' - Triggering run for job with ID 282752\n"
      ]
     },
     "metadata": {},
     "output_type": "display_data"
    },
    {
     "data": {
      "text/html": [
       "<pre style=\"white-space:pre;overflow-x:auto;line-height:normal;font-family:Menlo,'DejaVu Sans Mono',consolas,'Courier New',monospace\">16:32:59.912 | <span style=\"color: #d70000; text-decoration-color: #d70000\">ERROR</span>   | Task run 'Trigger dbt Cloud job run-0' - Encountered exception during execution:\n",
       "Traceback (most recent call last):\n",
       "  File \"/home/klang/.cache/pypoetry/virtualenvs/to-service-2M0TdnpI-py3.10/lib/python3.10/site-packages/prefect_dbt/cloud/jobs.py\", line 179, in trigger_dbt_cloud_job_run\n",
       "    response = await client.trigger_job_run(job_id=job_id, options=options)\n",
       "  File \"/home/klang/.cache/pypoetry/virtualenvs/to-service-2M0TdnpI-py3.10/lib/python3.10/site-packages/prefect_dbt/cloud/clients.py\", line 100, in trigger_job_run\n",
       "    return await self.call_endpoint(\n",
       "  File \"/home/klang/.cache/pypoetry/virtualenvs/to-service-2M0TdnpI-py3.10/lib/python3.10/site-packages/prefect_dbt/cloud/clients.py\", line 59, in call_endpoint\n",
       "    response.raise_for_status()\n",
       "  File \"/home/klang/.cache/pypoetry/virtualenvs/to-service-2M0TdnpI-py3.10/lib/python3.10/site-packages/httpx/_models.py\", line 749, in raise_for_status\n",
       "    raise HTTPStatusError(message, request=request, response=self)\n",
       "httpx.HTTPStatusError: Client error '401 Unauthorized' for url '<span style=\"color: #0000ff; text-decoration-color: #0000ff\">https://cloud.getdbt.com/api/v2/accounts/143920/jobs/282752/run/</span>'\n",
       "For more information check: <span style=\"color: #0000ff; text-decoration-color: #0000ff\">https://httpstatuses.com/401</span>\n",
       "\n",
       "The above exception was the direct cause of the following exception:\n",
       "\n",
       "Traceback (most recent call last):\n",
       "  File \"/home/klang/.cache/pypoetry/virtualenvs/to-service-2M0TdnpI-py3.10/lib/python3.10/site-packages/prefect/engine.py\", line 1526, in orchestrate_task_run\n",
       "    result = await task.fn(*args, **kwargs)\n",
       "  File \"/home/klang/.cache/pypoetry/virtualenvs/to-service-2M0TdnpI-py3.10/lib/python3.10/site-packages/prefect_dbt/cloud/jobs.py\", line 181, in trigger_dbt_cloud_job_run\n",
       "    raise DbtCloudJobRunTrigger<span style=\"color: #d70000; text-decoration-color: #d70000\">Failed</span>(extract_user_message(ex)) from ex\n",
       "prefect_dbt.cloud.exceptions.DbtCloudJobRunTrigger<span style=\"color: #d70000; text-decoration-color: #d70000\">Failed</span>: The API is not accessible to unpaid accounts.\n",
       "</pre>\n"
      ],
      "text/plain": [
       "16:32:59.912 | \u001b[38;5;160mERROR\u001b[0m   | Task run 'Trigger dbt Cloud job run-0' - Encountered exception during execution:\n",
       "Traceback (most recent call last):\n",
       "  File \"/home/klang/.cache/pypoetry/virtualenvs/to-service-2M0TdnpI-py3.10/lib/python3.10/site-packages/prefect_dbt/cloud/jobs.py\", line 179, in trigger_dbt_cloud_job_run\n",
       "    response = await client.trigger_job_run(job_id=job_id, options=options)\n",
       "  File \"/home/klang/.cache/pypoetry/virtualenvs/to-service-2M0TdnpI-py3.10/lib/python3.10/site-packages/prefect_dbt/cloud/clients.py\", line 100, in trigger_job_run\n",
       "    return await self.call_endpoint(\n",
       "  File \"/home/klang/.cache/pypoetry/virtualenvs/to-service-2M0TdnpI-py3.10/lib/python3.10/site-packages/prefect_dbt/cloud/clients.py\", line 59, in call_endpoint\n",
       "    response.raise_for_status()\n",
       "  File \"/home/klang/.cache/pypoetry/virtualenvs/to-service-2M0TdnpI-py3.10/lib/python3.10/site-packages/httpx/_models.py\", line 749, in raise_for_status\n",
       "    raise HTTPStatusError(message, request=request, response=self)\n",
       "httpx.HTTPStatusError: Client error '401 Unauthorized' for url '\u001b[94mhttps://cloud.getdbt.com/api/v2/accounts/143920/jobs/282752/run/\u001b[0m'\n",
       "For more information check: \u001b[94mhttps://httpstatuses.com/401\u001b[0m\n",
       "\n",
       "The above exception was the direct cause of the following exception:\n",
       "\n",
       "Traceback (most recent call last):\n",
       "  File \"/home/klang/.cache/pypoetry/virtualenvs/to-service-2M0TdnpI-py3.10/lib/python3.10/site-packages/prefect/engine.py\", line 1526, in orchestrate_task_run\n",
       "    result = await task.fn(*args, **kwargs)\n",
       "  File \"/home/klang/.cache/pypoetry/virtualenvs/to-service-2M0TdnpI-py3.10/lib/python3.10/site-packages/prefect_dbt/cloud/jobs.py\", line 181, in trigger_dbt_cloud_job_run\n",
       "    raise DbtCloudJobRunTrigger\u001b[38;5;160mFailed\u001b[0m(extract_user_message(ex)) from ex\n",
       "prefect_dbt.cloud.exceptions.DbtCloudJobRunTrigger\u001b[38;5;160mFailed\u001b[0m: The API is not accessible to unpaid accounts.\n"
      ]
     },
     "metadata": {},
     "output_type": "display_data"
    },
    {
     "data": {
      "text/html": [
       "<pre style=\"white-space:pre;overflow-x:auto;line-height:normal;font-family:Menlo,'DejaVu Sans Mono',consolas,'Courier New',monospace\">16:33:00.354 | <span style=\"color: #d70000; text-decoration-color: #d70000\">ERROR</span>   | Task run 'Trigger dbt Cloud job run-0' - Finished in state <span style=\"color: #d70000; text-decoration-color: #d70000\">Failed</span>('Task run encountered an exception: Traceback (most recent call last):\\n  File \"/home/klang/.cache/pypoetry/virtualenvs/to-service-2M0TdnpI-py3.10/lib/python3.10/site-packages/prefect_dbt/cloud/jobs.py\", line 179, in trigger_dbt_cloud_job_run\\n    response = await client.trigger_job_run(job_id=job_id, options=options)\\n  File \"/home/klang/.cache/pypoetry/virtualenvs/to-service-2M0TdnpI-py3.10/lib/python3.10/site-packages/prefect_dbt/cloud/clients.py\", line 100, in trigger_job_run\\n    return await self.call_endpoint(\\n  File \"/home/klang/.cache/pypoetry/virtualenvs/to-service-2M0TdnpI-py3.10/lib/python3.10/site-packages/prefect_dbt/cloud/clients.py\", line 59, in call_endpoint\\n    response.raise_for_status()\\n  File \"/home/klang/.cache/pypoetry/virtualenvs/to-service-2M0TdnpI-py3.10/lib/python3.10/site-packages/httpx/_models.py\", line 749, in raise_for_status\\n    raise HTTPStatusError(message, request=request, response=self)\\nhttpx.HTTPStatusError: Client error \\'401 Unauthorized\\' for url \\'<span style=\"color: #0000ff; text-decoration-color: #0000ff\">https://cloud.getdbt.com/api/v2/accounts/143920/jobs/282752/run/</span>\\'\\nFor more information check: <span style=\"color: #0000ff; text-decoration-color: #0000ff\">https://httpstatuses.com/401</span>\\n\\nThe above exception was the direct cause of the following exception:\\n\\nprefect_dbt.cloud.exceptions.DbtCloudJobRunTrigger<span style=\"color: #d70000; text-decoration-color: #d70000\">Failed</span>: The API is not accessible to unpaid accounts.\\n')\n",
       "</pre>\n"
      ],
      "text/plain": [
       "16:33:00.354 | \u001b[38;5;160mERROR\u001b[0m   | Task run 'Trigger dbt Cloud job run-0' - Finished in state \u001b[38;5;160mFailed\u001b[0m('Task run encountered an exception: Traceback (most recent call last):\\n  File \"/home/klang/.cache/pypoetry/virtualenvs/to-service-2M0TdnpI-py3.10/lib/python3.10/site-packages/prefect_dbt/cloud/jobs.py\", line 179, in trigger_dbt_cloud_job_run\\n    response = await client.trigger_job_run(job_id=job_id, options=options)\\n  File \"/home/klang/.cache/pypoetry/virtualenvs/to-service-2M0TdnpI-py3.10/lib/python3.10/site-packages/prefect_dbt/cloud/clients.py\", line 100, in trigger_job_run\\n    return await self.call_endpoint(\\n  File \"/home/klang/.cache/pypoetry/virtualenvs/to-service-2M0TdnpI-py3.10/lib/python3.10/site-packages/prefect_dbt/cloud/clients.py\", line 59, in call_endpoint\\n    response.raise_for_status()\\n  File \"/home/klang/.cache/pypoetry/virtualenvs/to-service-2M0TdnpI-py3.10/lib/python3.10/site-packages/httpx/_models.py\", line 749, in raise_for_status\\n    raise HTTPStatusError(message, request=request, response=self)\\nhttpx.HTTPStatusError: Client error \\'401 Unauthorized\\' for url \\'\u001b[94mhttps://cloud.getdbt.com/api/v2/accounts/143920/jobs/282752/run/\u001b[0m\\'\\nFor more information check: \u001b[94mhttps://httpstatuses.com/401\u001b[0m\\n\\nThe above exception was the direct cause of the following exception:\\n\\nprefect_dbt.cloud.exceptions.DbtCloudJobRunTrigger\u001b[38;5;160mFailed\u001b[0m: The API is not accessible to unpaid accounts.\\n')\n"
      ]
     },
     "metadata": {},
     "output_type": "display_data"
    },
    {
     "data": {
      "text/html": [
       "<pre style=\"white-space:pre;overflow-x:auto;line-height:normal;font-family:Menlo,'DejaVu Sans Mono',consolas,'Courier New',monospace\">16:33:00.357 | <span style=\"color: #d70000; text-decoration-color: #d70000\">ERROR</span>   | Flow run<span style=\"color: #800080; text-decoration-color: #800080\"> 'faithful-rooster'</span> - Encountered exception during execution:\n",
       "Traceback (most recent call last):\n",
       "  File \"/home/klang/.cache/pypoetry/virtualenvs/to-service-2M0TdnpI-py3.10/lib/python3.10/site-packages/prefect_dbt/cloud/jobs.py\", line 179, in trigger_dbt_cloud_job_run\n",
       "    response = await client.trigger_job_run(job_id=job_id, options=options)\n",
       "  File \"/home/klang/.cache/pypoetry/virtualenvs/to-service-2M0TdnpI-py3.10/lib/python3.10/site-packages/prefect_dbt/cloud/clients.py\", line 100, in trigger_job_run\n",
       "    return await self.call_endpoint(\n",
       "  File \"/home/klang/.cache/pypoetry/virtualenvs/to-service-2M0TdnpI-py3.10/lib/python3.10/site-packages/prefect_dbt/cloud/clients.py\", line 59, in call_endpoint\n",
       "    response.raise_for_status()\n",
       "  File \"/home/klang/.cache/pypoetry/virtualenvs/to-service-2M0TdnpI-py3.10/lib/python3.10/site-packages/httpx/_models.py\", line 749, in raise_for_status\n",
       "    raise HTTPStatusError(message, request=request, response=self)\n",
       "httpx.HTTPStatusError: Client error '401 Unauthorized' for url '<span style=\"color: #0000ff; text-decoration-color: #0000ff\">https://cloud.getdbt.com/api/v2/accounts/143920/jobs/282752/run/</span>'\n",
       "For more information check: <span style=\"color: #0000ff; text-decoration-color: #0000ff\">https://httpstatuses.com/401</span>\n",
       "\n",
       "The above exception was the direct cause of the following exception:\n",
       "\n",
       "Traceback (most recent call last):\n",
       "  File \"/home/klang/.cache/pypoetry/virtualenvs/to-service-2M0TdnpI-py3.10/lib/python3.10/site-packages/prefect/engine.py\", line 658, in orchestrate_flow_run\n",
       "    result = await flow_call()\n",
       "  File \"/home/klang/.cache/pypoetry/virtualenvs/to-service-2M0TdnpI-py3.10/lib/python3.10/site-packages/prefect_dbt/cloud/jobs.py\", line 354, in trigger_dbt_cloud_job_run_and_wait_for_completion\n",
       "    run_id = (await triggered_run_data_future.result()).get(\"id\")\n",
       "  File \"/home/klang/.cache/pypoetry/virtualenvs/to-service-2M0TdnpI-py3.10/lib/python3.10/site-packages/prefect/futures.py\", line 237, in _result\n",
       "    return await final_state.result(raise_on_failure=raise_on_failure, fetch=True)\n",
       "  File \"/home/klang/.cache/pypoetry/virtualenvs/to-service-2M0TdnpI-py3.10/lib/python3.10/site-packages/prefect/states.py\", line 91, in _get_state_result\n",
       "    raise await get_state_exception(state)\n",
       "  File \"/home/klang/.cache/pypoetry/virtualenvs/to-service-2M0TdnpI-py3.10/lib/python3.10/site-packages/prefect/engine.py\", line 1526, in orchestrate_task_run\n",
       "    result = await task.fn(*args, **kwargs)\n",
       "  File \"/home/klang/.cache/pypoetry/virtualenvs/to-service-2M0TdnpI-py3.10/lib/python3.10/site-packages/prefect_dbt/cloud/jobs.py\", line 181, in trigger_dbt_cloud_job_run\n",
       "    raise DbtCloudJobRunTrigger<span style=\"color: #d70000; text-decoration-color: #d70000\">Failed</span>(extract_user_message(ex)) from ex\n",
       "prefect_dbt.cloud.exceptions.DbtCloudJobRunTrigger<span style=\"color: #d70000; text-decoration-color: #d70000\">Failed</span>: The API is not accessible to unpaid accounts.\n",
       "</pre>\n"
      ],
      "text/plain": [
       "16:33:00.357 | \u001b[38;5;160mERROR\u001b[0m   | Flow run\u001b[35m 'faithful-rooster'\u001b[0m - Encountered exception during execution:\n",
       "Traceback (most recent call last):\n",
       "  File \"/home/klang/.cache/pypoetry/virtualenvs/to-service-2M0TdnpI-py3.10/lib/python3.10/site-packages/prefect_dbt/cloud/jobs.py\", line 179, in trigger_dbt_cloud_job_run\n",
       "    response = await client.trigger_job_run(job_id=job_id, options=options)\n",
       "  File \"/home/klang/.cache/pypoetry/virtualenvs/to-service-2M0TdnpI-py3.10/lib/python3.10/site-packages/prefect_dbt/cloud/clients.py\", line 100, in trigger_job_run\n",
       "    return await self.call_endpoint(\n",
       "  File \"/home/klang/.cache/pypoetry/virtualenvs/to-service-2M0TdnpI-py3.10/lib/python3.10/site-packages/prefect_dbt/cloud/clients.py\", line 59, in call_endpoint\n",
       "    response.raise_for_status()\n",
       "  File \"/home/klang/.cache/pypoetry/virtualenvs/to-service-2M0TdnpI-py3.10/lib/python3.10/site-packages/httpx/_models.py\", line 749, in raise_for_status\n",
       "    raise HTTPStatusError(message, request=request, response=self)\n",
       "httpx.HTTPStatusError: Client error '401 Unauthorized' for url '\u001b[94mhttps://cloud.getdbt.com/api/v2/accounts/143920/jobs/282752/run/\u001b[0m'\n",
       "For more information check: \u001b[94mhttps://httpstatuses.com/401\u001b[0m\n",
       "\n",
       "The above exception was the direct cause of the following exception:\n",
       "\n",
       "Traceback (most recent call last):\n",
       "  File \"/home/klang/.cache/pypoetry/virtualenvs/to-service-2M0TdnpI-py3.10/lib/python3.10/site-packages/prefect/engine.py\", line 658, in orchestrate_flow_run\n",
       "    result = await flow_call()\n",
       "  File \"/home/klang/.cache/pypoetry/virtualenvs/to-service-2M0TdnpI-py3.10/lib/python3.10/site-packages/prefect_dbt/cloud/jobs.py\", line 354, in trigger_dbt_cloud_job_run_and_wait_for_completion\n",
       "    run_id = (await triggered_run_data_future.result()).get(\"id\")\n",
       "  File \"/home/klang/.cache/pypoetry/virtualenvs/to-service-2M0TdnpI-py3.10/lib/python3.10/site-packages/prefect/futures.py\", line 237, in _result\n",
       "    return await final_state.result(raise_on_failure=raise_on_failure, fetch=True)\n",
       "  File \"/home/klang/.cache/pypoetry/virtualenvs/to-service-2M0TdnpI-py3.10/lib/python3.10/site-packages/prefect/states.py\", line 91, in _get_state_result\n",
       "    raise await get_state_exception(state)\n",
       "  File \"/home/klang/.cache/pypoetry/virtualenvs/to-service-2M0TdnpI-py3.10/lib/python3.10/site-packages/prefect/engine.py\", line 1526, in orchestrate_task_run\n",
       "    result = await task.fn(*args, **kwargs)\n",
       "  File \"/home/klang/.cache/pypoetry/virtualenvs/to-service-2M0TdnpI-py3.10/lib/python3.10/site-packages/prefect_dbt/cloud/jobs.py\", line 181, in trigger_dbt_cloud_job_run\n",
       "    raise DbtCloudJobRunTrigger\u001b[38;5;160mFailed\u001b[0m(extract_user_message(ex)) from ex\n",
       "prefect_dbt.cloud.exceptions.DbtCloudJobRunTrigger\u001b[38;5;160mFailed\u001b[0m: The API is not accessible to unpaid accounts.\n"
      ]
     },
     "metadata": {},
     "output_type": "display_data"
    },
    {
     "data": {
      "text/html": [
       "<pre style=\"white-space:pre;overflow-x:auto;line-height:normal;font-family:Menlo,'DejaVu Sans Mono',consolas,'Courier New',monospace\">16:33:00.992 | <span style=\"color: #d70000; text-decoration-color: #d70000\">ERROR</span>   | Flow run<span style=\"color: #800080; text-decoration-color: #800080\"> 'faithful-rooster'</span> - Finished in state <span style=\"color: #d70000; text-decoration-color: #d70000\">Failed</span>('Flow run encountered an exception. Traceback (most recent call last):\\n  File \"/home/klang/.cache/pypoetry/virtualenvs/to-service-2M0TdnpI-py3.10/lib/python3.10/site-packages/prefect_dbt/cloud/jobs.py\", line 179, in trigger_dbt_cloud_job_run\\n    response = await client.trigger_job_run(job_id=job_id, options=options)\\n  File \"/home/klang/.cache/pypoetry/virtualenvs/to-service-2M0TdnpI-py3.10/lib/python3.10/site-packages/prefect_dbt/cloud/clients.py\", line 100, in trigger_job_run\\n    return await self.call_endpoint(\\n  File \"/home/klang/.cache/pypoetry/virtualenvs/to-service-2M0TdnpI-py3.10/lib/python3.10/site-packages/prefect_dbt/cloud/clients.py\", line 59, in call_endpoint\\n    response.raise_for_status()\\n  File \"/home/klang/.cache/pypoetry/virtualenvs/to-service-2M0TdnpI-py3.10/lib/python3.10/site-packages/httpx/_models.py\", line 749, in raise_for_status\\n    raise HTTPStatusError(message, request=request, response=self)\\nhttpx.HTTPStatusError: Client error \\'401 Unauthorized\\' for url \\'<span style=\"color: #0000ff; text-decoration-color: #0000ff\">https://cloud.getdbt.com/api/v2/accounts/143920/jobs/282752/run/</span>\\'\\nFor more information check: <span style=\"color: #0000ff; text-decoration-color: #0000ff\">https://httpstatuses.com/401</span>\\n\\nThe above exception was the direct cause of the following exception:\\n\\nprefect_dbt.cloud.exceptions.DbtCloudJobRunTrigger<span style=\"color: #d70000; text-decoration-color: #d70000\">Failed</span>: The API is not accessible to unpaid accounts.\\n')\n",
       "</pre>\n"
      ],
      "text/plain": [
       "16:33:00.992 | \u001b[38;5;160mERROR\u001b[0m   | Flow run\u001b[35m 'faithful-rooster'\u001b[0m - Finished in state \u001b[38;5;160mFailed\u001b[0m('Flow run encountered an exception. Traceback (most recent call last):\\n  File \"/home/klang/.cache/pypoetry/virtualenvs/to-service-2M0TdnpI-py3.10/lib/python3.10/site-packages/prefect_dbt/cloud/jobs.py\", line 179, in trigger_dbt_cloud_job_run\\n    response = await client.trigger_job_run(job_id=job_id, options=options)\\n  File \"/home/klang/.cache/pypoetry/virtualenvs/to-service-2M0TdnpI-py3.10/lib/python3.10/site-packages/prefect_dbt/cloud/clients.py\", line 100, in trigger_job_run\\n    return await self.call_endpoint(\\n  File \"/home/klang/.cache/pypoetry/virtualenvs/to-service-2M0TdnpI-py3.10/lib/python3.10/site-packages/prefect_dbt/cloud/clients.py\", line 59, in call_endpoint\\n    response.raise_for_status()\\n  File \"/home/klang/.cache/pypoetry/virtualenvs/to-service-2M0TdnpI-py3.10/lib/python3.10/site-packages/httpx/_models.py\", line 749, in raise_for_status\\n    raise HTTPStatusError(message, request=request, response=self)\\nhttpx.HTTPStatusError: Client error \\'401 Unauthorized\\' for url \\'\u001b[94mhttps://cloud.getdbt.com/api/v2/accounts/143920/jobs/282752/run/\u001b[0m\\'\\nFor more information check: \u001b[94mhttps://httpstatuses.com/401\u001b[0m\\n\\nThe above exception was the direct cause of the following exception:\\n\\nprefect_dbt.cloud.exceptions.DbtCloudJobRunTrigger\u001b[38;5;160mFailed\u001b[0m: The API is not accessible to unpaid accounts.\\n')\n"
      ]
     },
     "metadata": {},
     "output_type": "display_data"
    },
    {
     "data": {
      "text/html": [
       "<pre style=\"white-space:pre;overflow-x:auto;line-height:normal;font-family:Menlo,'DejaVu Sans Mono',consolas,'Courier New',monospace\">16:33:00.995 | <span style=\"color: #d70000; text-decoration-color: #d70000\">ERROR</span>   | Flow run<span style=\"color: #800080; text-decoration-color: #800080\"> 'fine-capybara'</span> - Encountered exception during execution:\n",
       "Traceback (most recent call last):\n",
       "  File \"/home/klang/.cache/pypoetry/virtualenvs/to-service-2M0TdnpI-py3.10/lib/python3.10/site-packages/prefect_dbt/cloud/jobs.py\", line 179, in trigger_dbt_cloud_job_run\n",
       "    response = await client.trigger_job_run(job_id=job_id, options=options)\n",
       "  File \"/home/klang/.cache/pypoetry/virtualenvs/to-service-2M0TdnpI-py3.10/lib/python3.10/site-packages/prefect_dbt/cloud/clients.py\", line 100, in trigger_job_run\n",
       "    return await self.call_endpoint(\n",
       "  File \"/home/klang/.cache/pypoetry/virtualenvs/to-service-2M0TdnpI-py3.10/lib/python3.10/site-packages/prefect_dbt/cloud/clients.py\", line 59, in call_endpoint\n",
       "    response.raise_for_status()\n",
       "  File \"/home/klang/.cache/pypoetry/virtualenvs/to-service-2M0TdnpI-py3.10/lib/python3.10/site-packages/httpx/_models.py\", line 749, in raise_for_status\n",
       "    raise HTTPStatusError(message, request=request, response=self)\n",
       "httpx.HTTPStatusError: Client error '401 Unauthorized' for url '<span style=\"color: #0000ff; text-decoration-color: #0000ff\">https://cloud.getdbt.com/api/v2/accounts/143920/jobs/282752/run/</span>'\n",
       "For more information check: <span style=\"color: #0000ff; text-decoration-color: #0000ff\">https://httpstatuses.com/401</span>\n",
       "\n",
       "The above exception was the direct cause of the following exception:\n",
       "\n",
       "Traceback (most recent call last):\n",
       "  File \"/home/klang/.cache/pypoetry/virtualenvs/to-service-2M0TdnpI-py3.10/lib/python3.10/site-packages/prefect/engine.py\", line 665, in orchestrate_flow_run\n",
       "    result = await run_sync(flow_call)\n",
       "  File \"/home/klang/.cache/pypoetry/virtualenvs/to-service-2M0TdnpI-py3.10/lib/python3.10/site-packages/prefect/utilities/asyncutils.py\", line 154, in run_sync_in_interruptible_worker_thread\n",
       "    async with anyio.create_task_group() as tg:\n",
       "  File \"/home/klang/.cache/pypoetry/virtualenvs/to-service-2M0TdnpI-py3.10/lib/python3.10/site-packages/anyio/_backends/_asyncio.py\", line 662, in __aexit__\n",
       "    raise exceptions[0]\n",
       "  File \"/home/klang/.cache/pypoetry/virtualenvs/to-service-2M0TdnpI-py3.10/lib/python3.10/site-packages/anyio/to_thread.py\", line 31, in run_sync\n",
       "    return await get_asynclib().run_sync_in_worker_thread(\n",
       "  File \"/home/klang/.cache/pypoetry/virtualenvs/to-service-2M0TdnpI-py3.10/lib/python3.10/site-packages/anyio/_backends/_asyncio.py\", line 937, in run_sync_in_worker_thread\n",
       "    return await future\n",
       "  File \"/home/klang/.cache/pypoetry/virtualenvs/to-service-2M0TdnpI-py3.10/lib/python3.10/site-packages/anyio/_backends/_asyncio.py\", line 867, in run\n",
       "    result = context.run(func, *args)\n",
       "  File \"/home/klang/.cache/pypoetry/virtualenvs/to-service-2M0TdnpI-py3.10/lib/python3.10/site-packages/prefect/utilities/asyncutils.py\", line 135, in capture_worker_thread_and_result\n",
       "    result = __fn(*args, **kwargs)\n",
       "  File \"/tmp/ipykernel_1529/3395514089.py\", line 4, in run_dbt_job_flow\n",
       "    trigger_dbt_cloud_job_run_and_wait_for_completion(\n",
       "  File \"/home/klang/.cache/pypoetry/virtualenvs/to-service-2M0TdnpI-py3.10/lib/python3.10/site-packages/prefect/flows.py\", line 468, in __call__\n",
       "    return enter_flow_run_engine_from_flow_call(\n",
       "  File \"/home/klang/.cache/pypoetry/virtualenvs/to-service-2M0TdnpI-py3.10/lib/python3.10/site-packages/prefect/engine.py\", line 179, in enter_flow_run_engine_from_flow_call\n",
       "    return run_async_from_worker_thread(begin_run)\n",
       "  File \"/home/klang/.cache/pypoetry/virtualenvs/to-service-2M0TdnpI-py3.10/lib/python3.10/site-packages/prefect/utilities/asyncutils.py\", line 177, in run_async_from_worker_thread\n",
       "    return anyio.from_thread.run(call)\n",
       "  File \"/home/klang/.cache/pypoetry/virtualenvs/to-service-2M0TdnpI-py3.10/lib/python3.10/site-packages/anyio/from_thread.py\", line 49, in run\n",
       "    return asynclib.run_async_from_thread(func, *args)\n",
       "  File \"/home/klang/.cache/pypoetry/virtualenvs/to-service-2M0TdnpI-py3.10/lib/python3.10/site-packages/anyio/_backends/_asyncio.py\", line 970, in run_async_from_thread\n",
       "    return f.result()\n",
       "  File \"/home/klang/.pyenv/versions/3.10.6/lib/python3.10/concurrent/futures/_base.py\", line 458, in result\n",
       "    return self.__get_result()\n",
       "  File \"/home/klang/.pyenv/versions/3.10.6/lib/python3.10/concurrent/futures/_base.py\", line 403, in __get_result\n",
       "    raise self._exception\n",
       "  File \"/home/klang/.cache/pypoetry/virtualenvs/to-service-2M0TdnpI-py3.10/lib/python3.10/site-packages/prefect/client/utilities.py\", line 47, in with_injected_client\n",
       "    return await fn(*args, **kwargs)\n",
       "  File \"/home/klang/.cache/pypoetry/virtualenvs/to-service-2M0TdnpI-py3.10/lib/python3.10/site-packages/prefect/engine.py\", line 568, in create_and_begin_subflow_run\n",
       "    return await terminal_state.result(fetch=True)\n",
       "  File \"/home/klang/.cache/pypoetry/virtualenvs/to-service-2M0TdnpI-py3.10/lib/python3.10/site-packages/prefect/states.py\", line 91, in _get_state_result\n",
       "    raise await get_state_exception(state)\n",
       "  File \"/home/klang/.cache/pypoetry/virtualenvs/to-service-2M0TdnpI-py3.10/lib/python3.10/site-packages/prefect/engine.py\", line 658, in orchestrate_flow_run\n",
       "    result = await flow_call()\n",
       "  File \"/home/klang/.cache/pypoetry/virtualenvs/to-service-2M0TdnpI-py3.10/lib/python3.10/site-packages/prefect_dbt/cloud/jobs.py\", line 354, in trigger_dbt_cloud_job_run_and_wait_for_completion\n",
       "    run_id = (await triggered_run_data_future.result()).get(\"id\")\n",
       "  File \"/home/klang/.cache/pypoetry/virtualenvs/to-service-2M0TdnpI-py3.10/lib/python3.10/site-packages/prefect/futures.py\", line 237, in _result\n",
       "    return await final_state.result(raise_on_failure=raise_on_failure, fetch=True)\n",
       "  File \"/home/klang/.cache/pypoetry/virtualenvs/to-service-2M0TdnpI-py3.10/lib/python3.10/site-packages/prefect/states.py\", line 91, in _get_state_result\n",
       "    raise await get_state_exception(state)\n",
       "  File \"/home/klang/.cache/pypoetry/virtualenvs/to-service-2M0TdnpI-py3.10/lib/python3.10/site-packages/prefect/engine.py\", line 1526, in orchestrate_task_run\n",
       "    result = await task.fn(*args, **kwargs)\n",
       "  File \"/home/klang/.cache/pypoetry/virtualenvs/to-service-2M0TdnpI-py3.10/lib/python3.10/site-packages/prefect_dbt/cloud/jobs.py\", line 181, in trigger_dbt_cloud_job_run\n",
       "    raise DbtCloudJobRunTrigger<span style=\"color: #d70000; text-decoration-color: #d70000\">Failed</span>(extract_user_message(ex)) from ex\n",
       "prefect_dbt.cloud.exceptions.DbtCloudJobRunTrigger<span style=\"color: #d70000; text-decoration-color: #d70000\">Failed</span>: The API is not accessible to unpaid accounts.\n",
       "</pre>\n"
      ],
      "text/plain": [
       "16:33:00.995 | \u001b[38;5;160mERROR\u001b[0m   | Flow run\u001b[35m 'fine-capybara'\u001b[0m - Encountered exception during execution:\n",
       "Traceback (most recent call last):\n",
       "  File \"/home/klang/.cache/pypoetry/virtualenvs/to-service-2M0TdnpI-py3.10/lib/python3.10/site-packages/prefect_dbt/cloud/jobs.py\", line 179, in trigger_dbt_cloud_job_run\n",
       "    response = await client.trigger_job_run(job_id=job_id, options=options)\n",
       "  File \"/home/klang/.cache/pypoetry/virtualenvs/to-service-2M0TdnpI-py3.10/lib/python3.10/site-packages/prefect_dbt/cloud/clients.py\", line 100, in trigger_job_run\n",
       "    return await self.call_endpoint(\n",
       "  File \"/home/klang/.cache/pypoetry/virtualenvs/to-service-2M0TdnpI-py3.10/lib/python3.10/site-packages/prefect_dbt/cloud/clients.py\", line 59, in call_endpoint\n",
       "    response.raise_for_status()\n",
       "  File \"/home/klang/.cache/pypoetry/virtualenvs/to-service-2M0TdnpI-py3.10/lib/python3.10/site-packages/httpx/_models.py\", line 749, in raise_for_status\n",
       "    raise HTTPStatusError(message, request=request, response=self)\n",
       "httpx.HTTPStatusError: Client error '401 Unauthorized' for url '\u001b[94mhttps://cloud.getdbt.com/api/v2/accounts/143920/jobs/282752/run/\u001b[0m'\n",
       "For more information check: \u001b[94mhttps://httpstatuses.com/401\u001b[0m\n",
       "\n",
       "The above exception was the direct cause of the following exception:\n",
       "\n",
       "Traceback (most recent call last):\n",
       "  File \"/home/klang/.cache/pypoetry/virtualenvs/to-service-2M0TdnpI-py3.10/lib/python3.10/site-packages/prefect/engine.py\", line 665, in orchestrate_flow_run\n",
       "    result = await run_sync(flow_call)\n",
       "  File \"/home/klang/.cache/pypoetry/virtualenvs/to-service-2M0TdnpI-py3.10/lib/python3.10/site-packages/prefect/utilities/asyncutils.py\", line 154, in run_sync_in_interruptible_worker_thread\n",
       "    async with anyio.create_task_group() as tg:\n",
       "  File \"/home/klang/.cache/pypoetry/virtualenvs/to-service-2M0TdnpI-py3.10/lib/python3.10/site-packages/anyio/_backends/_asyncio.py\", line 662, in __aexit__\n",
       "    raise exceptions[0]\n",
       "  File \"/home/klang/.cache/pypoetry/virtualenvs/to-service-2M0TdnpI-py3.10/lib/python3.10/site-packages/anyio/to_thread.py\", line 31, in run_sync\n",
       "    return await get_asynclib().run_sync_in_worker_thread(\n",
       "  File \"/home/klang/.cache/pypoetry/virtualenvs/to-service-2M0TdnpI-py3.10/lib/python3.10/site-packages/anyio/_backends/_asyncio.py\", line 937, in run_sync_in_worker_thread\n",
       "    return await future\n",
       "  File \"/home/klang/.cache/pypoetry/virtualenvs/to-service-2M0TdnpI-py3.10/lib/python3.10/site-packages/anyio/_backends/_asyncio.py\", line 867, in run\n",
       "    result = context.run(func, *args)\n",
       "  File \"/home/klang/.cache/pypoetry/virtualenvs/to-service-2M0TdnpI-py3.10/lib/python3.10/site-packages/prefect/utilities/asyncutils.py\", line 135, in capture_worker_thread_and_result\n",
       "    result = __fn(*args, **kwargs)\n",
       "  File \"/tmp/ipykernel_1529/3395514089.py\", line 4, in run_dbt_job_flow\n",
       "    trigger_dbt_cloud_job_run_and_wait_for_completion(\n",
       "  File \"/home/klang/.cache/pypoetry/virtualenvs/to-service-2M0TdnpI-py3.10/lib/python3.10/site-packages/prefect/flows.py\", line 468, in __call__\n",
       "    return enter_flow_run_engine_from_flow_call(\n",
       "  File \"/home/klang/.cache/pypoetry/virtualenvs/to-service-2M0TdnpI-py3.10/lib/python3.10/site-packages/prefect/engine.py\", line 179, in enter_flow_run_engine_from_flow_call\n",
       "    return run_async_from_worker_thread(begin_run)\n",
       "  File \"/home/klang/.cache/pypoetry/virtualenvs/to-service-2M0TdnpI-py3.10/lib/python3.10/site-packages/prefect/utilities/asyncutils.py\", line 177, in run_async_from_worker_thread\n",
       "    return anyio.from_thread.run(call)\n",
       "  File \"/home/klang/.cache/pypoetry/virtualenvs/to-service-2M0TdnpI-py3.10/lib/python3.10/site-packages/anyio/from_thread.py\", line 49, in run\n",
       "    return asynclib.run_async_from_thread(func, *args)\n",
       "  File \"/home/klang/.cache/pypoetry/virtualenvs/to-service-2M0TdnpI-py3.10/lib/python3.10/site-packages/anyio/_backends/_asyncio.py\", line 970, in run_async_from_thread\n",
       "    return f.result()\n",
       "  File \"/home/klang/.pyenv/versions/3.10.6/lib/python3.10/concurrent/futures/_base.py\", line 458, in result\n",
       "    return self.__get_result()\n",
       "  File \"/home/klang/.pyenv/versions/3.10.6/lib/python3.10/concurrent/futures/_base.py\", line 403, in __get_result\n",
       "    raise self._exception\n",
       "  File \"/home/klang/.cache/pypoetry/virtualenvs/to-service-2M0TdnpI-py3.10/lib/python3.10/site-packages/prefect/client/utilities.py\", line 47, in with_injected_client\n",
       "    return await fn(*args, **kwargs)\n",
       "  File \"/home/klang/.cache/pypoetry/virtualenvs/to-service-2M0TdnpI-py3.10/lib/python3.10/site-packages/prefect/engine.py\", line 568, in create_and_begin_subflow_run\n",
       "    return await terminal_state.result(fetch=True)\n",
       "  File \"/home/klang/.cache/pypoetry/virtualenvs/to-service-2M0TdnpI-py3.10/lib/python3.10/site-packages/prefect/states.py\", line 91, in _get_state_result\n",
       "    raise await get_state_exception(state)\n",
       "  File \"/home/klang/.cache/pypoetry/virtualenvs/to-service-2M0TdnpI-py3.10/lib/python3.10/site-packages/prefect/engine.py\", line 658, in orchestrate_flow_run\n",
       "    result = await flow_call()\n",
       "  File \"/home/klang/.cache/pypoetry/virtualenvs/to-service-2M0TdnpI-py3.10/lib/python3.10/site-packages/prefect_dbt/cloud/jobs.py\", line 354, in trigger_dbt_cloud_job_run_and_wait_for_completion\n",
       "    run_id = (await triggered_run_data_future.result()).get(\"id\")\n",
       "  File \"/home/klang/.cache/pypoetry/virtualenvs/to-service-2M0TdnpI-py3.10/lib/python3.10/site-packages/prefect/futures.py\", line 237, in _result\n",
       "    return await final_state.result(raise_on_failure=raise_on_failure, fetch=True)\n",
       "  File \"/home/klang/.cache/pypoetry/virtualenvs/to-service-2M0TdnpI-py3.10/lib/python3.10/site-packages/prefect/states.py\", line 91, in _get_state_result\n",
       "    raise await get_state_exception(state)\n",
       "  File \"/home/klang/.cache/pypoetry/virtualenvs/to-service-2M0TdnpI-py3.10/lib/python3.10/site-packages/prefect/engine.py\", line 1526, in orchestrate_task_run\n",
       "    result = await task.fn(*args, **kwargs)\n",
       "  File \"/home/klang/.cache/pypoetry/virtualenvs/to-service-2M0TdnpI-py3.10/lib/python3.10/site-packages/prefect_dbt/cloud/jobs.py\", line 181, in trigger_dbt_cloud_job_run\n",
       "    raise DbtCloudJobRunTrigger\u001b[38;5;160mFailed\u001b[0m(extract_user_message(ex)) from ex\n",
       "prefect_dbt.cloud.exceptions.DbtCloudJobRunTrigger\u001b[38;5;160mFailed\u001b[0m: The API is not accessible to unpaid accounts.\n"
      ]
     },
     "metadata": {},
     "output_type": "display_data"
    },
    {
     "data": {
      "text/html": [
       "<pre style=\"white-space:pre;overflow-x:auto;line-height:normal;font-family:Menlo,'DejaVu Sans Mono',consolas,'Courier New',monospace\">16:33:01.656 | <span style=\"color: #d70000; text-decoration-color: #d70000\">ERROR</span>   | Flow run<span style=\"color: #800080; text-decoration-color: #800080\"> 'fine-capybara'</span> - Finished in state <span style=\"color: #d70000; text-decoration-color: #d70000\">Failed</span>('Flow run encountered an exception. Traceback (most recent call last):\\n  File \"/home/klang/.cache/pypoetry/virtualenvs/to-service-2M0TdnpI-py3.10/lib/python3.10/site-packages/prefect_dbt/cloud/jobs.py\", line 179, in trigger_dbt_cloud_job_run\\n    response = await client.trigger_job_run(job_id=job_id, options=options)\\n  File \"/home/klang/.cache/pypoetry/virtualenvs/to-service-2M0TdnpI-py3.10/lib/python3.10/site-packages/prefect_dbt/cloud/clients.py\", line 100, in trigger_job_run\\n    return await self.call_endpoint(\\n  File \"/home/klang/.cache/pypoetry/virtualenvs/to-service-2M0TdnpI-py3.10/lib/python3.10/site-packages/prefect_dbt/cloud/clients.py\", line 59, in call_endpoint\\n    response.raise_for_status()\\n  File \"/home/klang/.cache/pypoetry/virtualenvs/to-service-2M0TdnpI-py3.10/lib/python3.10/site-packages/httpx/_models.py\", line 749, in raise_for_status\\n    raise HTTPStatusError(message, request=request, response=self)\\nhttpx.HTTPStatusError: Client error \\'401 Unauthorized\\' for url \\'<span style=\"color: #0000ff; text-decoration-color: #0000ff\">https://cloud.getdbt.com/api/v2/accounts/143920/jobs/282752/run/</span>\\'\\nFor more information check: <span style=\"color: #0000ff; text-decoration-color: #0000ff\">https://httpstatuses.com/401</span>\\n\\nThe above exception was the direct cause of the following exception:\\n\\nprefect_dbt.cloud.exceptions.DbtCloudJobRunTrigger<span style=\"color: #d70000; text-decoration-color: #d70000\">Failed</span>: The API is not accessible to unpaid accounts.\\n')\n",
       "</pre>\n"
      ],
      "text/plain": [
       "16:33:01.656 | \u001b[38;5;160mERROR\u001b[0m   | Flow run\u001b[35m 'fine-capybara'\u001b[0m - Finished in state \u001b[38;5;160mFailed\u001b[0m('Flow run encountered an exception. Traceback (most recent call last):\\n  File \"/home/klang/.cache/pypoetry/virtualenvs/to-service-2M0TdnpI-py3.10/lib/python3.10/site-packages/prefect_dbt/cloud/jobs.py\", line 179, in trigger_dbt_cloud_job_run\\n    response = await client.trigger_job_run(job_id=job_id, options=options)\\n  File \"/home/klang/.cache/pypoetry/virtualenvs/to-service-2M0TdnpI-py3.10/lib/python3.10/site-packages/prefect_dbt/cloud/clients.py\", line 100, in trigger_job_run\\n    return await self.call_endpoint(\\n  File \"/home/klang/.cache/pypoetry/virtualenvs/to-service-2M0TdnpI-py3.10/lib/python3.10/site-packages/prefect_dbt/cloud/clients.py\", line 59, in call_endpoint\\n    response.raise_for_status()\\n  File \"/home/klang/.cache/pypoetry/virtualenvs/to-service-2M0TdnpI-py3.10/lib/python3.10/site-packages/httpx/_models.py\", line 749, in raise_for_status\\n    raise HTTPStatusError(message, request=request, response=self)\\nhttpx.HTTPStatusError: Client error \\'401 Unauthorized\\' for url \\'\u001b[94mhttps://cloud.getdbt.com/api/v2/accounts/143920/jobs/282752/run/\u001b[0m\\'\\nFor more information check: \u001b[94mhttps://httpstatuses.com/401\u001b[0m\\n\\nThe above exception was the direct cause of the following exception:\\n\\nprefect_dbt.cloud.exceptions.DbtCloudJobRunTrigger\u001b[38;5;160mFailed\u001b[0m: The API is not accessible to unpaid accounts.\\n')\n"
      ]
     },
     "metadata": {},
     "output_type": "display_data"
    },
    {
     "ename": "DbtCloudJobRunTriggerFailed",
     "evalue": "The API is not accessible to unpaid accounts.",
     "output_type": "error",
     "traceback": [
      "\u001b[0;31m---------------------------------------------------------------------------\u001b[0m",
      "\u001b[0;31mHTTPStatusError\u001b[0m                           Traceback (most recent call last)",
      "File \u001b[0;32m~/.cache/pypoetry/virtualenvs/to-service-2M0TdnpI-py3.10/lib/python3.10/site-packages/prefect_dbt/cloud/jobs.py:179\u001b[0m, in \u001b[0;36mtrigger_dbt_cloud_job_run\u001b[0;34m(dbt_cloud_credentials, job_id, options)\u001b[0m\n\u001b[1;32m    178\u001b[0m     \u001b[38;5;28;01masync\u001b[39;00m \u001b[38;5;28;01mwith\u001b[39;00m dbt_cloud_credentials\u001b[38;5;241m.\u001b[39mget_administrative_client() \u001b[38;5;28;01mas\u001b[39;00m client:\n\u001b[0;32m--> 179\u001b[0m         response \u001b[38;5;241m=\u001b[39m \u001b[38;5;28;01mawait\u001b[39;00m client\u001b[38;5;241m.\u001b[39mtrigger_job_run(job_id\u001b[38;5;241m=\u001b[39mjob_id, options\u001b[38;5;241m=\u001b[39moptions)\n\u001b[1;32m    180\u001b[0m \u001b[38;5;28;01mexcept\u001b[39;00m HTTPStatusError \u001b[38;5;28;01mas\u001b[39;00m ex:\n",
      "File \u001b[0;32m~/.cache/pypoetry/virtualenvs/to-service-2M0TdnpI-py3.10/lib/python3.10/site-packages/prefect_dbt/cloud/clients.py:100\u001b[0m, in \u001b[0;36mDbtCloudAdministrativeClient.trigger_job_run\u001b[0;34m(self, job_id, options)\u001b[0m\n\u001b[1;32m     98\u001b[0m     options \u001b[38;5;241m=\u001b[39m TriggerJobRunOptions()\n\u001b[0;32m--> 100\u001b[0m \u001b[38;5;28;01mreturn\u001b[39;00m \u001b[38;5;28;01mawait\u001b[39;00m \u001b[38;5;28mself\u001b[39m\u001b[38;5;241m.\u001b[39mcall_endpoint(\n\u001b[1;32m    101\u001b[0m     path\u001b[38;5;241m=\u001b[39m\u001b[38;5;124mf\u001b[39m\u001b[38;5;124m\"\u001b[39m\u001b[38;5;124m/jobs/\u001b[39m\u001b[38;5;132;01m{\u001b[39;00mjob_id\u001b[38;5;132;01m}\u001b[39;00m\u001b[38;5;124m/run/\u001b[39m\u001b[38;5;124m\"\u001b[39m,\n\u001b[1;32m    102\u001b[0m     http_method\u001b[38;5;241m=\u001b[39m\u001b[38;5;124m\"\u001b[39m\u001b[38;5;124mPOST\u001b[39m\u001b[38;5;124m\"\u001b[39m,\n\u001b[1;32m    103\u001b[0m     json\u001b[38;5;241m=\u001b[39moptions\u001b[38;5;241m.\u001b[39mdict(exclude_none\u001b[38;5;241m=\u001b[39m\u001b[38;5;28;01mTrue\u001b[39;00m),\n\u001b[1;32m    104\u001b[0m )\n",
      "File \u001b[0;32m~/.cache/pypoetry/virtualenvs/to-service-2M0TdnpI-py3.10/lib/python3.10/site-packages/prefect_dbt/cloud/clients.py:59\u001b[0m, in \u001b[0;36mDbtCloudAdministrativeClient.call_endpoint\u001b[0;34m(self, http_method, path, params, json)\u001b[0m\n\u001b[1;32m     55\u001b[0m response \u001b[38;5;241m=\u001b[39m \u001b[38;5;28;01mawait\u001b[39;00m \u001b[38;5;28mself\u001b[39m\u001b[38;5;241m.\u001b[39m_admin_client\u001b[38;5;241m.\u001b[39mrequest(\n\u001b[1;32m     56\u001b[0m     method\u001b[38;5;241m=\u001b[39mhttp_method, url\u001b[38;5;241m=\u001b[39mpath, params\u001b[38;5;241m=\u001b[39mparams, json\u001b[38;5;241m=\u001b[39mjson\n\u001b[1;32m     57\u001b[0m )\n\u001b[0;32m---> 59\u001b[0m \u001b[43mresponse\u001b[49m\u001b[38;5;241;43m.\u001b[39;49m\u001b[43mraise_for_status\u001b[49m\u001b[43m(\u001b[49m\u001b[43m)\u001b[49m\n\u001b[1;32m     61\u001b[0m \u001b[38;5;28;01mreturn\u001b[39;00m response\n",
      "File \u001b[0;32m~/.cache/pypoetry/virtualenvs/to-service-2M0TdnpI-py3.10/lib/python3.10/site-packages/httpx/_models.py:749\u001b[0m, in \u001b[0;36mResponse.raise_for_status\u001b[0;34m(self)\u001b[0m\n\u001b[1;32m    748\u001b[0m message \u001b[38;5;241m=\u001b[39m message\u001b[38;5;241m.\u001b[39mformat(\u001b[38;5;28mself\u001b[39m, error_type\u001b[38;5;241m=\u001b[39merror_type)\n\u001b[0;32m--> 749\u001b[0m \u001b[38;5;28;01mraise\u001b[39;00m HTTPStatusError(message, request\u001b[38;5;241m=\u001b[39mrequest, response\u001b[38;5;241m=\u001b[39m\u001b[38;5;28mself\u001b[39m)\n",
      "\u001b[0;31mHTTPStatusError\u001b[0m: Client error '401 Unauthorized' for url 'https://cloud.getdbt.com/api/v2/accounts/143920/jobs/282752/run/'\nFor more information check: https://httpstatuses.com/401",
      "\nThe above exception was the direct cause of the following exception:\n",
      "\u001b[0;31mDbtCloudJobRunTriggerFailed\u001b[0m               Traceback (most recent call last)",
      "Cell \u001b[0;32mIn[13], line 1\u001b[0m\n\u001b[0;32m----> 1\u001b[0m \u001b[43mrun_dbt_job_flow\u001b[49m\u001b[43m(\u001b[49m\u001b[43m)\u001b[49m\n",
      "File \u001b[0;32m~/.cache/pypoetry/virtualenvs/to-service-2M0TdnpI-py3.10/lib/python3.10/site-packages/prefect/flows.py:468\u001b[0m, in \u001b[0;36mFlow.__call__\u001b[0;34m(self, return_state, wait_for, *args, **kwargs)\u001b[0m\n\u001b[1;32m    464\u001b[0m parameters \u001b[38;5;241m=\u001b[39m get_call_parameters(\u001b[38;5;28mself\u001b[39m\u001b[38;5;241m.\u001b[39mfn, args, kwargs)\n\u001b[1;32m    466\u001b[0m return_type \u001b[38;5;241m=\u001b[39m \u001b[38;5;124m\"\u001b[39m\u001b[38;5;124mstate\u001b[39m\u001b[38;5;124m\"\u001b[39m \u001b[38;5;28;01mif\u001b[39;00m return_state \u001b[38;5;28;01melse\u001b[39;00m \u001b[38;5;124m\"\u001b[39m\u001b[38;5;124mresult\u001b[39m\u001b[38;5;124m\"\u001b[39m\n\u001b[0;32m--> 468\u001b[0m \u001b[38;5;28;01mreturn\u001b[39;00m \u001b[43menter_flow_run_engine_from_flow_call\u001b[49m\u001b[43m(\u001b[49m\n\u001b[1;32m    469\u001b[0m \u001b[43m    \u001b[49m\u001b[38;5;28;43mself\u001b[39;49m\u001b[43m,\u001b[49m\n\u001b[1;32m    470\u001b[0m \u001b[43m    \u001b[49m\u001b[43mparameters\u001b[49m\u001b[43m,\u001b[49m\n\u001b[1;32m    471\u001b[0m \u001b[43m    \u001b[49m\u001b[43mwait_for\u001b[49m\u001b[38;5;241;43m=\u001b[39;49m\u001b[43mwait_for\u001b[49m\u001b[43m,\u001b[49m\n\u001b[1;32m    472\u001b[0m \u001b[43m    \u001b[49m\u001b[43mreturn_type\u001b[49m\u001b[38;5;241;43m=\u001b[39;49m\u001b[43mreturn_type\u001b[49m\u001b[43m,\u001b[49m\n\u001b[1;32m    473\u001b[0m \u001b[43m\u001b[49m\u001b[43m)\u001b[49m\n",
      "File \u001b[0;32m~/.cache/pypoetry/virtualenvs/to-service-2M0TdnpI-py3.10/lib/python3.10/site-packages/prefect/engine.py:172\u001b[0m, in \u001b[0;36menter_flow_run_engine_from_flow_call\u001b[0;34m(flow, parameters, wait_for, return_type)\u001b[0m\n\u001b[1;32m    168\u001b[0m \u001b[38;5;28;01melif\u001b[39;00m in_async_main_thread():\n\u001b[1;32m    169\u001b[0m     \u001b[38;5;66;03m# An event loop is already running and we must create a blocking portal to\u001b[39;00m\n\u001b[1;32m    170\u001b[0m     \u001b[38;5;66;03m# run async code from this synchronous context\u001b[39;00m\n\u001b[1;32m    171\u001b[0m     \u001b[38;5;28;01mwith\u001b[39;00m start_blocking_portal() \u001b[38;5;28;01mas\u001b[39;00m portal:\n\u001b[0;32m--> 172\u001b[0m         \u001b[38;5;28;01mreturn\u001b[39;00m \u001b[43mportal\u001b[49m\u001b[38;5;241;43m.\u001b[39;49m\u001b[43mcall\u001b[49m\u001b[43m(\u001b[49m\u001b[43mbegin_run\u001b[49m\u001b[43m)\u001b[49m\n\u001b[1;32m    173\u001b[0m \u001b[38;5;28;01melse\u001b[39;00m:\n\u001b[1;32m    174\u001b[0m     \u001b[38;5;66;03m# An event loop is not running so we will create one\u001b[39;00m\n\u001b[1;32m    175\u001b[0m     \u001b[38;5;28;01mreturn\u001b[39;00m anyio\u001b[38;5;241m.\u001b[39mrun(begin_run)\n",
      "File \u001b[0;32m~/.cache/pypoetry/virtualenvs/to-service-2M0TdnpI-py3.10/lib/python3.10/site-packages/anyio/from_thread.py:283\u001b[0m, in \u001b[0;36mBlockingPortal.call\u001b[0;34m(self, func, *args)\u001b[0m\n\u001b[1;32m    268\u001b[0m \u001b[38;5;28;01mdef\u001b[39;00m \u001b[38;5;21mcall\u001b[39m(\n\u001b[1;32m    269\u001b[0m     \u001b[38;5;28mself\u001b[39m,\n\u001b[1;32m    270\u001b[0m     func: Callable[\u001b[38;5;241m.\u001b[39m\u001b[38;5;241m.\u001b[39m\u001b[38;5;241m.\u001b[39m, Union[Coroutine[Any, Any, T_Retval], T_Retval]],\n\u001b[1;32m    271\u001b[0m     \u001b[38;5;241m*\u001b[39margs: \u001b[38;5;28mobject\u001b[39m\n\u001b[1;32m    272\u001b[0m ) \u001b[38;5;241m-\u001b[39m\u001b[38;5;241m>\u001b[39m T_Retval:\n\u001b[1;32m    273\u001b[0m \u001b[38;5;250m    \u001b[39m\u001b[38;5;124;03m\"\"\"\u001b[39;00m\n\u001b[1;32m    274\u001b[0m \u001b[38;5;124;03m    Call the given function in the event loop thread.\u001b[39;00m\n\u001b[1;32m    275\u001b[0m \n\u001b[0;32m   (...)\u001b[0m\n\u001b[1;32m    281\u001b[0m \n\u001b[1;32m    282\u001b[0m \u001b[38;5;124;03m    \"\"\"\u001b[39;00m\n\u001b[0;32m--> 283\u001b[0m     \u001b[38;5;28;01mreturn\u001b[39;00m cast(T_Retval, \u001b[38;5;28;43mself\u001b[39;49m\u001b[38;5;241;43m.\u001b[39;49m\u001b[43mstart_task_soon\u001b[49m\u001b[43m(\u001b[49m\u001b[43mfunc\u001b[49m\u001b[43m,\u001b[49m\u001b[43m \u001b[49m\u001b[38;5;241;43m*\u001b[39;49m\u001b[43margs\u001b[49m\u001b[43m)\u001b[49m\u001b[38;5;241;43m.\u001b[39;49m\u001b[43mresult\u001b[49m\u001b[43m(\u001b[49m\u001b[43m)\u001b[49m)\n",
      "File \u001b[0;32m~/.pyenv/versions/3.10.6/lib/python3.10/concurrent/futures/_base.py:458\u001b[0m, in \u001b[0;36mFuture.result\u001b[0;34m(self, timeout)\u001b[0m\n\u001b[1;32m    456\u001b[0m     \u001b[38;5;28;01mraise\u001b[39;00m CancelledError()\n\u001b[1;32m    457\u001b[0m \u001b[38;5;28;01melif\u001b[39;00m \u001b[38;5;28mself\u001b[39m\u001b[38;5;241m.\u001b[39m_state \u001b[38;5;241m==\u001b[39m FINISHED:\n\u001b[0;32m--> 458\u001b[0m     \u001b[38;5;28;01mreturn\u001b[39;00m \u001b[38;5;28;43mself\u001b[39;49m\u001b[38;5;241;43m.\u001b[39;49m\u001b[43m__get_result\u001b[49m\u001b[43m(\u001b[49m\u001b[43m)\u001b[49m\n\u001b[1;32m    459\u001b[0m \u001b[38;5;28;01melse\u001b[39;00m:\n\u001b[1;32m    460\u001b[0m     \u001b[38;5;28;01mraise\u001b[39;00m \u001b[38;5;167;01mTimeoutError\u001b[39;00m()\n",
      "File \u001b[0;32m~/.pyenv/versions/3.10.6/lib/python3.10/concurrent/futures/_base.py:403\u001b[0m, in \u001b[0;36mFuture.__get_result\u001b[0;34m(self)\u001b[0m\n\u001b[1;32m    401\u001b[0m \u001b[38;5;28;01mif\u001b[39;00m \u001b[38;5;28mself\u001b[39m\u001b[38;5;241m.\u001b[39m_exception:\n\u001b[1;32m    402\u001b[0m     \u001b[38;5;28;01mtry\u001b[39;00m:\n\u001b[0;32m--> 403\u001b[0m         \u001b[38;5;28;01mraise\u001b[39;00m \u001b[38;5;28mself\u001b[39m\u001b[38;5;241m.\u001b[39m_exception\n\u001b[1;32m    404\u001b[0m     \u001b[38;5;28;01mfinally\u001b[39;00m:\n\u001b[1;32m    405\u001b[0m         \u001b[38;5;66;03m# Break a reference cycle with the exception in self._exception\u001b[39;00m\n\u001b[1;32m    406\u001b[0m         \u001b[38;5;28mself\u001b[39m \u001b[38;5;241m=\u001b[39m \u001b[38;5;28;01mNone\u001b[39;00m\n",
      "File \u001b[0;32m~/.cache/pypoetry/virtualenvs/to-service-2M0TdnpI-py3.10/lib/python3.10/site-packages/anyio/from_thread.py:219\u001b[0m, in \u001b[0;36mBlockingPortal._call_func\u001b[0;34m(self, func, args, kwargs, future)\u001b[0m\n\u001b[1;32m    216\u001b[0m             \u001b[38;5;28;01melse\u001b[39;00m:\n\u001b[1;32m    217\u001b[0m                 future\u001b[38;5;241m.\u001b[39madd_done_callback(callback)\n\u001b[0;32m--> 219\u001b[0m             retval \u001b[38;5;241m=\u001b[39m \u001b[38;5;28;01mawait\u001b[39;00m retval\n\u001b[1;32m    220\u001b[0m \u001b[38;5;28;01mexcept\u001b[39;00m \u001b[38;5;28mself\u001b[39m\u001b[38;5;241m.\u001b[39m_cancelled_exc_class:\n\u001b[1;32m    221\u001b[0m     future\u001b[38;5;241m.\u001b[39mcancel()\n",
      "File \u001b[0;32m~/.cache/pypoetry/virtualenvs/to-service-2M0TdnpI-py3.10/lib/python3.10/site-packages/prefect/client/utilities.py:47\u001b[0m, in \u001b[0;36minject_client.<locals>.with_injected_client\u001b[0;34m(*args, **kwargs)\u001b[0m\n\u001b[1;32m     45\u001b[0m \u001b[38;5;28;01masync\u001b[39;00m \u001b[38;5;28;01mwith\u001b[39;00m client_context \u001b[38;5;28;01mas\u001b[39;00m new_client:\n\u001b[1;32m     46\u001b[0m     kwargs\u001b[38;5;241m.\u001b[39msetdefault(\u001b[38;5;124m\"\u001b[39m\u001b[38;5;124mclient\u001b[39m\u001b[38;5;124m\"\u001b[39m, new_client \u001b[38;5;129;01mor\u001b[39;00m client)\n\u001b[0;32m---> 47\u001b[0m     \u001b[38;5;28;01mreturn\u001b[39;00m \u001b[38;5;28;01mawait\u001b[39;00m fn(\u001b[38;5;241m*\u001b[39margs, \u001b[38;5;241m*\u001b[39m\u001b[38;5;241m*\u001b[39mkwargs)\n",
      "File \u001b[0;32m~/.cache/pypoetry/virtualenvs/to-service-2M0TdnpI-py3.10/lib/python3.10/site-packages/prefect/engine.py:256\u001b[0m, in \u001b[0;36mcreate_then_begin_flow_run\u001b[0;34m(flow, parameters, wait_for, return_type, client)\u001b[0m\n\u001b[1;32m    254\u001b[0m     \u001b[38;5;28;01mreturn\u001b[39;00m state\n\u001b[1;32m    255\u001b[0m \u001b[38;5;28;01melif\u001b[39;00m return_type \u001b[38;5;241m==\u001b[39m \u001b[38;5;124m\"\u001b[39m\u001b[38;5;124mresult\u001b[39m\u001b[38;5;124m\"\u001b[39m:\n\u001b[0;32m--> 256\u001b[0m     \u001b[38;5;28;01mreturn\u001b[39;00m \u001b[38;5;28;01mawait\u001b[39;00m state\u001b[38;5;241m.\u001b[39mresult(fetch\u001b[38;5;241m=\u001b[39m\u001b[38;5;28;01mTrue\u001b[39;00m)\n\u001b[1;32m    257\u001b[0m \u001b[38;5;28;01melse\u001b[39;00m:\n\u001b[1;32m    258\u001b[0m     \u001b[38;5;28;01mraise\u001b[39;00m \u001b[38;5;167;01mValueError\u001b[39;00m(\u001b[38;5;124mf\u001b[39m\u001b[38;5;124m\"\u001b[39m\u001b[38;5;124mInvalid return type for flow engine \u001b[39m\u001b[38;5;132;01m{\u001b[39;00mreturn_type\u001b[38;5;132;01m!r}\u001b[39;00m\u001b[38;5;124m.\u001b[39m\u001b[38;5;124m\"\u001b[39m)\n",
      "File \u001b[0;32m~/.cache/pypoetry/virtualenvs/to-service-2M0TdnpI-py3.10/lib/python3.10/site-packages/prefect/states.py:91\u001b[0m, in \u001b[0;36m_get_state_result\u001b[0;34m(state, raise_on_failure)\u001b[0m\n\u001b[1;32m     86\u001b[0m     \u001b[38;5;28;01mraise\u001b[39;00m PausedRun(\u001b[38;5;124m\"\u001b[39m\u001b[38;5;124mRun paused.\u001b[39m\u001b[38;5;124m\"\u001b[39m)\n\u001b[1;32m     88\u001b[0m \u001b[38;5;28;01mif\u001b[39;00m raise_on_failure \u001b[38;5;129;01mand\u001b[39;00m (\n\u001b[1;32m     89\u001b[0m     state\u001b[38;5;241m.\u001b[39mis_crashed() \u001b[38;5;129;01mor\u001b[39;00m state\u001b[38;5;241m.\u001b[39mis_failed() \u001b[38;5;129;01mor\u001b[39;00m state\u001b[38;5;241m.\u001b[39mis_cancelled()\n\u001b[1;32m     90\u001b[0m ):\n\u001b[0;32m---> 91\u001b[0m     \u001b[38;5;28;01mraise\u001b[39;00m \u001b[38;5;28;01mawait\u001b[39;00m get_state_exception(state)\n\u001b[1;32m     93\u001b[0m \u001b[38;5;28;01mif\u001b[39;00m \u001b[38;5;28misinstance\u001b[39m(state\u001b[38;5;241m.\u001b[39mdata, DataDocument):\n\u001b[1;32m     94\u001b[0m     result \u001b[38;5;241m=\u001b[39m result_from_state_with_data_document(\n\u001b[1;32m     95\u001b[0m         state, raise_on_failure\u001b[38;5;241m=\u001b[39mraise_on_failure\n\u001b[1;32m     96\u001b[0m     )\n",
      "File \u001b[0;32m~/.cache/pypoetry/virtualenvs/to-service-2M0TdnpI-py3.10/lib/python3.10/site-packages/prefect/engine.py:665\u001b[0m, in \u001b[0;36morchestrate_flow_run\u001b[0;34m(flow, flow_run, parameters, wait_for, interruptible, client, partial_flow_run_context)\u001b[0m\n\u001b[1;32m    659\u001b[0m             \u001b[38;5;28;01melse\u001b[39;00m:\n\u001b[1;32m    660\u001b[0m                 run_sync \u001b[38;5;241m=\u001b[39m (\n\u001b[1;32m    661\u001b[0m                     run_sync_in_interruptible_worker_thread\n\u001b[1;32m    662\u001b[0m                     \u001b[38;5;28;01mif\u001b[39;00m interruptible \u001b[38;5;129;01mor\u001b[39;00m timeout_scope\n\u001b[1;32m    663\u001b[0m                     \u001b[38;5;28;01melse\u001b[39;00m run_sync_in_worker_thread\n\u001b[1;32m    664\u001b[0m                 )\n\u001b[0;32m--> 665\u001b[0m                 result \u001b[38;5;241m=\u001b[39m \u001b[38;5;28;01mawait\u001b[39;00m run_sync(flow_call)\n\u001b[1;32m    667\u001b[0m         waited_for_task_runs \u001b[38;5;241m=\u001b[39m \u001b[38;5;28;01mawait\u001b[39;00m wait_for_task_runs_and_report_crashes(\n\u001b[1;32m    668\u001b[0m             flow_run_context\u001b[38;5;241m.\u001b[39mtask_run_futures, client\u001b[38;5;241m=\u001b[39mclient\n\u001b[1;32m    669\u001b[0m         )\n\u001b[1;32m    670\u001b[0m \u001b[38;5;28;01mexcept\u001b[39;00m PausedRun:\n",
      "File \u001b[0;32m~/.cache/pypoetry/virtualenvs/to-service-2M0TdnpI-py3.10/lib/python3.10/site-packages/prefect/utilities/asyncutils.py:154\u001b[0m, in \u001b[0;36mrun_sync_in_interruptible_worker_thread\u001b[0;34m(__fn, *args, **kwargs)\u001b[0m\n\u001b[1;32m    151\u001b[0m         raise_async_exception_in_thread(thread, anyio\u001b[38;5;241m.\u001b[39mget_cancelled_exc_class())\n\u001b[1;32m    152\u001b[0m         \u001b[38;5;28;01mraise\u001b[39;00m\n\u001b[0;32m--> 154\u001b[0m \u001b[38;5;28;01masync\u001b[39;00m \u001b[38;5;28;01mwith\u001b[39;00m anyio\u001b[38;5;241m.\u001b[39mcreate_task_group() \u001b[38;5;28;01mas\u001b[39;00m tg:\n\u001b[1;32m    155\u001b[0m     tg\u001b[38;5;241m.\u001b[39mstart_soon(send_interrupt_to_thread)\n\u001b[1;32m    156\u001b[0m     tg\u001b[38;5;241m.\u001b[39mstart_soon(\n\u001b[1;32m    157\u001b[0m         partial(\n\u001b[1;32m    158\u001b[0m             anyio\u001b[38;5;241m.\u001b[39mto_thread\u001b[38;5;241m.\u001b[39mrun_sync,\n\u001b[0;32m   (...)\u001b[0m\n\u001b[1;32m    162\u001b[0m         )\n\u001b[1;32m    163\u001b[0m     )\n",
      "File \u001b[0;32m~/.cache/pypoetry/virtualenvs/to-service-2M0TdnpI-py3.10/lib/python3.10/site-packages/anyio/_backends/_asyncio.py:662\u001b[0m, in \u001b[0;36mTaskGroup.__aexit__\u001b[0;34m(self, exc_type, exc_val, exc_tb)\u001b[0m\n\u001b[1;32m    660\u001b[0m             \u001b[38;5;28;01mraise\u001b[39;00m ExceptionGroup(exceptions)\n\u001b[1;32m    661\u001b[0m     \u001b[38;5;28;01melif\u001b[39;00m exceptions \u001b[38;5;129;01mand\u001b[39;00m exceptions[\u001b[38;5;241m0\u001b[39m] \u001b[38;5;129;01mis\u001b[39;00m \u001b[38;5;129;01mnot\u001b[39;00m exc_val:\n\u001b[0;32m--> 662\u001b[0m         \u001b[38;5;28;01mraise\u001b[39;00m exceptions[\u001b[38;5;241m0\u001b[39m]\n\u001b[1;32m    663\u001b[0m \u001b[38;5;28;01mexcept\u001b[39;00m \u001b[38;5;167;01mBaseException\u001b[39;00m \u001b[38;5;28;01mas\u001b[39;00m exc:\n\u001b[1;32m    664\u001b[0m     \u001b[38;5;66;03m# Clear the context here, as it can only be done in-flight.\u001b[39;00m\n\u001b[1;32m    665\u001b[0m     \u001b[38;5;66;03m# If the context is not cleared, it can result in recursive tracebacks (see #145).\u001b[39;00m\n\u001b[1;32m    666\u001b[0m     exc\u001b[38;5;241m.\u001b[39m__context__ \u001b[38;5;241m=\u001b[39m \u001b[38;5;28;01mNone\u001b[39;00m\n",
      "File \u001b[0;32m~/.cache/pypoetry/virtualenvs/to-service-2M0TdnpI-py3.10/lib/python3.10/site-packages/anyio/to_thread.py:31\u001b[0m, in \u001b[0;36mrun_sync\u001b[0;34m(func, cancellable, limiter, *args)\u001b[0m\n\u001b[1;32m     10\u001b[0m \u001b[38;5;28;01masync\u001b[39;00m \u001b[38;5;28;01mdef\u001b[39;00m \u001b[38;5;21mrun_sync\u001b[39m(\n\u001b[1;32m     11\u001b[0m     func: Callable[\u001b[38;5;241m.\u001b[39m\u001b[38;5;241m.\u001b[39m\u001b[38;5;241m.\u001b[39m, T_Retval],\n\u001b[1;32m     12\u001b[0m     \u001b[38;5;241m*\u001b[39margs: \u001b[38;5;28mobject\u001b[39m,\n\u001b[1;32m     13\u001b[0m     cancellable: \u001b[38;5;28mbool\u001b[39m \u001b[38;5;241m=\u001b[39m \u001b[38;5;28;01mFalse\u001b[39;00m,\n\u001b[1;32m     14\u001b[0m     limiter: Optional[CapacityLimiter] \u001b[38;5;241m=\u001b[39m \u001b[38;5;28;01mNone\u001b[39;00m\n\u001b[1;32m     15\u001b[0m ) \u001b[38;5;241m-\u001b[39m\u001b[38;5;241m>\u001b[39m T_Retval:\n\u001b[1;32m     16\u001b[0m \u001b[38;5;250m    \u001b[39m\u001b[38;5;124;03m\"\"\"\u001b[39;00m\n\u001b[1;32m     17\u001b[0m \u001b[38;5;124;03m    Call the given function with the given arguments in a worker thread.\u001b[39;00m\n\u001b[1;32m     18\u001b[0m \n\u001b[0;32m   (...)\u001b[0m\n\u001b[1;32m     29\u001b[0m \n\u001b[1;32m     30\u001b[0m \u001b[38;5;124;03m    \"\"\"\u001b[39;00m\n\u001b[0;32m---> 31\u001b[0m     \u001b[38;5;28;01mreturn\u001b[39;00m \u001b[38;5;28;01mawait\u001b[39;00m get_asynclib()\u001b[38;5;241m.\u001b[39mrun_sync_in_worker_thread(\n\u001b[1;32m     32\u001b[0m         func, \u001b[38;5;241m*\u001b[39margs, cancellable\u001b[38;5;241m=\u001b[39mcancellable, limiter\u001b[38;5;241m=\u001b[39mlimiter\n\u001b[1;32m     33\u001b[0m     )\n",
      "File \u001b[0;32m~/.cache/pypoetry/virtualenvs/to-service-2M0TdnpI-py3.10/lib/python3.10/site-packages/anyio/_backends/_asyncio.py:937\u001b[0m, in \u001b[0;36mrun_sync_in_worker_thread\u001b[0;34m(func, cancellable, limiter, *args)\u001b[0m\n\u001b[1;32m    935\u001b[0m context\u001b[38;5;241m.\u001b[39mrun(sniffio\u001b[38;5;241m.\u001b[39mcurrent_async_library_cvar\u001b[38;5;241m.\u001b[39mset, \u001b[38;5;28;01mNone\u001b[39;00m)\n\u001b[1;32m    936\u001b[0m worker\u001b[38;5;241m.\u001b[39mqueue\u001b[38;5;241m.\u001b[39mput_nowait((context, func, args, future))\n\u001b[0;32m--> 937\u001b[0m \u001b[38;5;28;01mreturn\u001b[39;00m \u001b[38;5;28;01mawait\u001b[39;00m future\n",
      "File \u001b[0;32m~/.cache/pypoetry/virtualenvs/to-service-2M0TdnpI-py3.10/lib/python3.10/site-packages/anyio/_backends/_asyncio.py:867\u001b[0m, in \u001b[0;36mWorkerThread.run\u001b[0;34m(self)\u001b[0m\n\u001b[1;32m    865\u001b[0m exception: Optional[\u001b[38;5;167;01mBaseException\u001b[39;00m] \u001b[38;5;241m=\u001b[39m \u001b[38;5;28;01mNone\u001b[39;00m\n\u001b[1;32m    866\u001b[0m \u001b[38;5;28;01mtry\u001b[39;00m:\n\u001b[0;32m--> 867\u001b[0m     result \u001b[38;5;241m=\u001b[39m \u001b[43mcontext\u001b[49m\u001b[38;5;241;43m.\u001b[39;49m\u001b[43mrun\u001b[49m\u001b[43m(\u001b[49m\u001b[43mfunc\u001b[49m\u001b[43m,\u001b[49m\u001b[43m \u001b[49m\u001b[38;5;241;43m*\u001b[39;49m\u001b[43margs\u001b[49m\u001b[43m)\u001b[49m\n\u001b[1;32m    868\u001b[0m \u001b[38;5;28;01mexcept\u001b[39;00m \u001b[38;5;167;01mBaseException\u001b[39;00m \u001b[38;5;28;01mas\u001b[39;00m exc:\n\u001b[1;32m    869\u001b[0m     exception \u001b[38;5;241m=\u001b[39m exc\n",
      "File \u001b[0;32m~/.cache/pypoetry/virtualenvs/to-service-2M0TdnpI-py3.10/lib/python3.10/site-packages/prefect/utilities/asyncutils.py:135\u001b[0m, in \u001b[0;36mrun_sync_in_interruptible_worker_thread.<locals>.capture_worker_thread_and_result\u001b[0;34m()\u001b[0m\n\u001b[1;32m    133\u001b[0m \u001b[38;5;28;01mtry\u001b[39;00m:\n\u001b[1;32m    134\u001b[0m     thread \u001b[38;5;241m=\u001b[39m threading\u001b[38;5;241m.\u001b[39mcurrent_thread()\n\u001b[0;32m--> 135\u001b[0m     result \u001b[38;5;241m=\u001b[39m \u001b[43m__fn\u001b[49m\u001b[43m(\u001b[49m\u001b[38;5;241;43m*\u001b[39;49m\u001b[43margs\u001b[49m\u001b[43m,\u001b[49m\u001b[43m \u001b[49m\u001b[38;5;241;43m*\u001b[39;49m\u001b[38;5;241;43m*\u001b[39;49m\u001b[43mkwargs\u001b[49m\u001b[43m)\u001b[49m\n\u001b[1;32m    136\u001b[0m \u001b[38;5;28;01mexcept\u001b[39;00m \u001b[38;5;167;01mBaseException\u001b[39;00m \u001b[38;5;28;01mas\u001b[39;00m exc:\n\u001b[1;32m    137\u001b[0m     result \u001b[38;5;241m=\u001b[39m exc\n",
      "Cell \u001b[0;32mIn[12], line 4\u001b[0m, in \u001b[0;36mrun_dbt_job_flow\u001b[0;34m(job_id, dbt_cred_name)\u001b[0m\n\u001b[1;32m      2\u001b[0m \u001b[38;5;129m@flow\u001b[39m(name\u001b[38;5;241m=\u001b[39m\u001b[38;5;124mf\u001b[39m\u001b[38;5;124m'\u001b[39m\u001b[38;5;124mdbt-test-\u001b[39m\u001b[38;5;132;01m{\u001b[39;00mnum_id\u001b[38;5;132;01m}\u001b[39;00m\u001b[38;5;124m'\u001b[39m)\n\u001b[1;32m      3\u001b[0m \u001b[38;5;28;01mdef\u001b[39;00m \u001b[38;5;21mrun_dbt_job_flow\u001b[39m(job_id: \u001b[38;5;28mint\u001b[39m \u001b[38;5;241m=\u001b[39m JOB_ID, dbt_cred_name: \u001b[38;5;28mstr\u001b[39m \u001b[38;5;241m=\u001b[39m DBT_CRED_NAME):\n\u001b[0;32m----> 4\u001b[0m     \u001b[43mtrigger_dbt_cloud_job_run_and_wait_for_completion\u001b[49m\u001b[43m(\u001b[49m\n\u001b[1;32m      5\u001b[0m \u001b[43m        \u001b[49m\u001b[43mdbt_cloud_credentials\u001b[49m\u001b[38;5;241;43m=\u001b[39;49m\u001b[43mDbtCloudCredentials\u001b[49m\u001b[38;5;241;43m.\u001b[39;49m\u001b[43mload\u001b[49m\u001b[43m(\u001b[49m\u001b[43mdbt_cred_name\u001b[49m\u001b[43m)\u001b[49m\u001b[43m,\u001b[49m\u001b[43m \u001b[49m\n\u001b[1;32m      6\u001b[0m \u001b[43m        \u001b[49m\u001b[43mjob_id\u001b[49m\u001b[38;5;241;43m=\u001b[39;49m\u001b[43mJOB_ID\u001b[49m\n\u001b[1;32m      7\u001b[0m \u001b[43m    \u001b[49m\u001b[43m)\u001b[49m\n",
      "File \u001b[0;32m~/.cache/pypoetry/virtualenvs/to-service-2M0TdnpI-py3.10/lib/python3.10/site-packages/prefect/flows.py:468\u001b[0m, in \u001b[0;36mFlow.__call__\u001b[0;34m(self, return_state, wait_for, *args, **kwargs)\u001b[0m\n\u001b[1;32m    464\u001b[0m parameters \u001b[38;5;241m=\u001b[39m get_call_parameters(\u001b[38;5;28mself\u001b[39m\u001b[38;5;241m.\u001b[39mfn, args, kwargs)\n\u001b[1;32m    466\u001b[0m return_type \u001b[38;5;241m=\u001b[39m \u001b[38;5;124m\"\u001b[39m\u001b[38;5;124mstate\u001b[39m\u001b[38;5;124m\"\u001b[39m \u001b[38;5;28;01mif\u001b[39;00m return_state \u001b[38;5;28;01melse\u001b[39;00m \u001b[38;5;124m\"\u001b[39m\u001b[38;5;124mresult\u001b[39m\u001b[38;5;124m\"\u001b[39m\n\u001b[0;32m--> 468\u001b[0m \u001b[38;5;28;01mreturn\u001b[39;00m \u001b[43menter_flow_run_engine_from_flow_call\u001b[49m\u001b[43m(\u001b[49m\n\u001b[1;32m    469\u001b[0m \u001b[43m    \u001b[49m\u001b[38;5;28;43mself\u001b[39;49m\u001b[43m,\u001b[49m\n\u001b[1;32m    470\u001b[0m \u001b[43m    \u001b[49m\u001b[43mparameters\u001b[49m\u001b[43m,\u001b[49m\n\u001b[1;32m    471\u001b[0m \u001b[43m    \u001b[49m\u001b[43mwait_for\u001b[49m\u001b[38;5;241;43m=\u001b[39;49m\u001b[43mwait_for\u001b[49m\u001b[43m,\u001b[49m\n\u001b[1;32m    472\u001b[0m \u001b[43m    \u001b[49m\u001b[43mreturn_type\u001b[49m\u001b[38;5;241;43m=\u001b[39;49m\u001b[43mreturn_type\u001b[49m\u001b[43m,\u001b[49m\n\u001b[1;32m    473\u001b[0m \u001b[43m\u001b[49m\u001b[43m)\u001b[49m\n",
      "File \u001b[0;32m~/.cache/pypoetry/virtualenvs/to-service-2M0TdnpI-py3.10/lib/python3.10/site-packages/prefect/engine.py:179\u001b[0m, in \u001b[0;36menter_flow_run_engine_from_flow_call\u001b[0;34m(flow, parameters, wait_for, return_type)\u001b[0m\n\u001b[1;32m    175\u001b[0m         \u001b[38;5;28;01mreturn\u001b[39;00m anyio\u001b[38;5;241m.\u001b[39mrun(begin_run)\n\u001b[1;32m    177\u001b[0m \u001b[38;5;28;01mif\u001b[39;00m \u001b[38;5;129;01mnot\u001b[39;00m parent_flow_run_context\u001b[38;5;241m.\u001b[39mflow\u001b[38;5;241m.\u001b[39misasync:\n\u001b[1;32m    178\u001b[0m     \u001b[38;5;66;03m# Async subflow run in sync flow run\u001b[39;00m\n\u001b[0;32m--> 179\u001b[0m     \u001b[38;5;28;01mreturn\u001b[39;00m \u001b[43mrun_async_from_worker_thread\u001b[49m\u001b[43m(\u001b[49m\u001b[43mbegin_run\u001b[49m\u001b[43m)\u001b[49m\n\u001b[1;32m    180\u001b[0m \u001b[38;5;28;01melif\u001b[39;00m parent_flow_run_context\u001b[38;5;241m.\u001b[39mflow\u001b[38;5;241m.\u001b[39misasync \u001b[38;5;129;01mand\u001b[39;00m flow\u001b[38;5;241m.\u001b[39misasync:\n\u001b[1;32m    181\u001b[0m     \u001b[38;5;66;03m# Async subflow run in async flow run\u001b[39;00m\n\u001b[1;32m    182\u001b[0m     \u001b[38;5;28;01mreturn\u001b[39;00m begin_run()\n",
      "File \u001b[0;32m~/.cache/pypoetry/virtualenvs/to-service-2M0TdnpI-py3.10/lib/python3.10/site-packages/prefect/utilities/asyncutils.py:177\u001b[0m, in \u001b[0;36mrun_async_from_worker_thread\u001b[0;34m(__fn, *args, **kwargs)\u001b[0m\n\u001b[1;32m    172\u001b[0m \u001b[38;5;250m\u001b[39m\u001b[38;5;124;03m\"\"\"\u001b[39;00m\n\u001b[1;32m    173\u001b[0m \u001b[38;5;124;03mRuns an async function in the main thread's event loop, blocking the worker\u001b[39;00m\n\u001b[1;32m    174\u001b[0m \u001b[38;5;124;03mthread until completion\u001b[39;00m\n\u001b[1;32m    175\u001b[0m \u001b[38;5;124;03m\"\"\"\u001b[39;00m\n\u001b[1;32m    176\u001b[0m call \u001b[38;5;241m=\u001b[39m partial(__fn, \u001b[38;5;241m*\u001b[39margs, \u001b[38;5;241m*\u001b[39m\u001b[38;5;241m*\u001b[39mkwargs)\n\u001b[0;32m--> 177\u001b[0m \u001b[38;5;28;01mreturn\u001b[39;00m \u001b[43manyio\u001b[49m\u001b[38;5;241;43m.\u001b[39;49m\u001b[43mfrom_thread\u001b[49m\u001b[38;5;241;43m.\u001b[39;49m\u001b[43mrun\u001b[49m\u001b[43m(\u001b[49m\u001b[43mcall\u001b[49m\u001b[43m)\u001b[49m\n",
      "File \u001b[0;32m~/.cache/pypoetry/virtualenvs/to-service-2M0TdnpI-py3.10/lib/python3.10/site-packages/anyio/from_thread.py:49\u001b[0m, in \u001b[0;36mrun\u001b[0;34m(func, *args)\u001b[0m\n\u001b[1;32m     46\u001b[0m \u001b[38;5;28;01mexcept\u001b[39;00m \u001b[38;5;167;01mAttributeError\u001b[39;00m:\n\u001b[1;32m     47\u001b[0m     \u001b[38;5;28;01mraise\u001b[39;00m \u001b[38;5;167;01mRuntimeError\u001b[39;00m(\u001b[38;5;124m\"\u001b[39m\u001b[38;5;124mThis function can only be run from an AnyIO worker thread\u001b[39m\u001b[38;5;124m\"\u001b[39m)\n\u001b[0;32m---> 49\u001b[0m \u001b[38;5;28;01mreturn\u001b[39;00m \u001b[43masynclib\u001b[49m\u001b[38;5;241;43m.\u001b[39;49m\u001b[43mrun_async_from_thread\u001b[49m\u001b[43m(\u001b[49m\u001b[43mfunc\u001b[49m\u001b[43m,\u001b[49m\u001b[43m \u001b[49m\u001b[38;5;241;43m*\u001b[39;49m\u001b[43margs\u001b[49m\u001b[43m)\u001b[49m\n",
      "File \u001b[0;32m~/.cache/pypoetry/virtualenvs/to-service-2M0TdnpI-py3.10/lib/python3.10/site-packages/anyio/_backends/_asyncio.py:970\u001b[0m, in \u001b[0;36mrun_async_from_thread\u001b[0;34m(func, *args)\u001b[0m\n\u001b[1;32m    964\u001b[0m \u001b[38;5;28;01mdef\u001b[39;00m \u001b[38;5;21mrun_async_from_thread\u001b[39m(\n\u001b[1;32m    965\u001b[0m     func: Callable[\u001b[38;5;241m.\u001b[39m\u001b[38;5;241m.\u001b[39m\u001b[38;5;241m.\u001b[39m, Coroutine[Any, Any, T_Retval]], \u001b[38;5;241m*\u001b[39margs: \u001b[38;5;28mobject\u001b[39m\n\u001b[1;32m    966\u001b[0m ) \u001b[38;5;241m-\u001b[39m\u001b[38;5;241m>\u001b[39m T_Retval:\n\u001b[1;32m    967\u001b[0m     f: concurrent\u001b[38;5;241m.\u001b[39mfutures\u001b[38;5;241m.\u001b[39mFuture[T_Retval] \u001b[38;5;241m=\u001b[39m asyncio\u001b[38;5;241m.\u001b[39mrun_coroutine_threadsafe(\n\u001b[1;32m    968\u001b[0m         func(\u001b[38;5;241m*\u001b[39margs), threadlocals\u001b[38;5;241m.\u001b[39mloop\n\u001b[1;32m    969\u001b[0m     )\n\u001b[0;32m--> 970\u001b[0m     \u001b[38;5;28;01mreturn\u001b[39;00m \u001b[43mf\u001b[49m\u001b[38;5;241;43m.\u001b[39;49m\u001b[43mresult\u001b[49m\u001b[43m(\u001b[49m\u001b[43m)\u001b[49m\n",
      "File \u001b[0;32m~/.pyenv/versions/3.10.6/lib/python3.10/concurrent/futures/_base.py:458\u001b[0m, in \u001b[0;36mFuture.result\u001b[0;34m(self, timeout)\u001b[0m\n\u001b[1;32m    456\u001b[0m     \u001b[38;5;28;01mraise\u001b[39;00m CancelledError()\n\u001b[1;32m    457\u001b[0m \u001b[38;5;28;01melif\u001b[39;00m \u001b[38;5;28mself\u001b[39m\u001b[38;5;241m.\u001b[39m_state \u001b[38;5;241m==\u001b[39m FINISHED:\n\u001b[0;32m--> 458\u001b[0m     \u001b[38;5;28;01mreturn\u001b[39;00m \u001b[38;5;28;43mself\u001b[39;49m\u001b[38;5;241;43m.\u001b[39;49m\u001b[43m__get_result\u001b[49m\u001b[43m(\u001b[49m\u001b[43m)\u001b[49m\n\u001b[1;32m    459\u001b[0m \u001b[38;5;28;01melse\u001b[39;00m:\n\u001b[1;32m    460\u001b[0m     \u001b[38;5;28;01mraise\u001b[39;00m \u001b[38;5;167;01mTimeoutError\u001b[39;00m()\n",
      "File \u001b[0;32m~/.pyenv/versions/3.10.6/lib/python3.10/concurrent/futures/_base.py:403\u001b[0m, in \u001b[0;36mFuture.__get_result\u001b[0;34m(self)\u001b[0m\n\u001b[1;32m    401\u001b[0m \u001b[38;5;28;01mif\u001b[39;00m \u001b[38;5;28mself\u001b[39m\u001b[38;5;241m.\u001b[39m_exception:\n\u001b[1;32m    402\u001b[0m     \u001b[38;5;28;01mtry\u001b[39;00m:\n\u001b[0;32m--> 403\u001b[0m         \u001b[38;5;28;01mraise\u001b[39;00m \u001b[38;5;28mself\u001b[39m\u001b[38;5;241m.\u001b[39m_exception\n\u001b[1;32m    404\u001b[0m     \u001b[38;5;28;01mfinally\u001b[39;00m:\n\u001b[1;32m    405\u001b[0m         \u001b[38;5;66;03m# Break a reference cycle with the exception in self._exception\u001b[39;00m\n\u001b[1;32m    406\u001b[0m         \u001b[38;5;28mself\u001b[39m \u001b[38;5;241m=\u001b[39m \u001b[38;5;28;01mNone\u001b[39;00m\n",
      "File \u001b[0;32m~/.cache/pypoetry/virtualenvs/to-service-2M0TdnpI-py3.10/lib/python3.10/site-packages/prefect/client/utilities.py:47\u001b[0m, in \u001b[0;36minject_client.<locals>.with_injected_client\u001b[0;34m(*args, **kwargs)\u001b[0m\n\u001b[1;32m     45\u001b[0m \u001b[38;5;28;01masync\u001b[39;00m \u001b[38;5;28;01mwith\u001b[39;00m client_context \u001b[38;5;28;01mas\u001b[39;00m new_client:\n\u001b[1;32m     46\u001b[0m     kwargs\u001b[38;5;241m.\u001b[39msetdefault(\u001b[38;5;124m\"\u001b[39m\u001b[38;5;124mclient\u001b[39m\u001b[38;5;124m\"\u001b[39m, new_client \u001b[38;5;129;01mor\u001b[39;00m client)\n\u001b[0;32m---> 47\u001b[0m     \u001b[38;5;28;01mreturn\u001b[39;00m \u001b[38;5;28;01mawait\u001b[39;00m fn(\u001b[38;5;241m*\u001b[39margs, \u001b[38;5;241m*\u001b[39m\u001b[38;5;241m*\u001b[39mkwargs)\n",
      "File \u001b[0;32m~/.cache/pypoetry/virtualenvs/to-service-2M0TdnpI-py3.10/lib/python3.10/site-packages/prefect/engine.py:568\u001b[0m, in \u001b[0;36mcreate_and_begin_subflow_run\u001b[0;34m(flow, parameters, wait_for, return_type, client)\u001b[0m\n\u001b[1;32m    566\u001b[0m     \u001b[38;5;28;01mreturn\u001b[39;00m terminal_state\n\u001b[1;32m    567\u001b[0m \u001b[38;5;28;01melif\u001b[39;00m return_type \u001b[38;5;241m==\u001b[39m \u001b[38;5;124m\"\u001b[39m\u001b[38;5;124mresult\u001b[39m\u001b[38;5;124m\"\u001b[39m:\n\u001b[0;32m--> 568\u001b[0m     \u001b[38;5;28;01mreturn\u001b[39;00m \u001b[38;5;28;01mawait\u001b[39;00m terminal_state\u001b[38;5;241m.\u001b[39mresult(fetch\u001b[38;5;241m=\u001b[39m\u001b[38;5;28;01mTrue\u001b[39;00m)\n\u001b[1;32m    569\u001b[0m \u001b[38;5;28;01melse\u001b[39;00m:\n\u001b[1;32m    570\u001b[0m     \u001b[38;5;28;01mraise\u001b[39;00m \u001b[38;5;167;01mValueError\u001b[39;00m(\u001b[38;5;124mf\u001b[39m\u001b[38;5;124m\"\u001b[39m\u001b[38;5;124mInvalid return type for flow engine \u001b[39m\u001b[38;5;132;01m{\u001b[39;00mreturn_type\u001b[38;5;132;01m!r}\u001b[39;00m\u001b[38;5;124m.\u001b[39m\u001b[38;5;124m\"\u001b[39m)\n",
      "File \u001b[0;32m~/.cache/pypoetry/virtualenvs/to-service-2M0TdnpI-py3.10/lib/python3.10/site-packages/prefect/states.py:91\u001b[0m, in \u001b[0;36m_get_state_result\u001b[0;34m(state, raise_on_failure)\u001b[0m\n\u001b[1;32m     86\u001b[0m     \u001b[38;5;28;01mraise\u001b[39;00m PausedRun(\u001b[38;5;124m\"\u001b[39m\u001b[38;5;124mRun paused.\u001b[39m\u001b[38;5;124m\"\u001b[39m)\n\u001b[1;32m     88\u001b[0m \u001b[38;5;28;01mif\u001b[39;00m raise_on_failure \u001b[38;5;129;01mand\u001b[39;00m (\n\u001b[1;32m     89\u001b[0m     state\u001b[38;5;241m.\u001b[39mis_crashed() \u001b[38;5;129;01mor\u001b[39;00m state\u001b[38;5;241m.\u001b[39mis_failed() \u001b[38;5;129;01mor\u001b[39;00m state\u001b[38;5;241m.\u001b[39mis_cancelled()\n\u001b[1;32m     90\u001b[0m ):\n\u001b[0;32m---> 91\u001b[0m     \u001b[38;5;28;01mraise\u001b[39;00m \u001b[38;5;28;01mawait\u001b[39;00m get_state_exception(state)\n\u001b[1;32m     93\u001b[0m \u001b[38;5;28;01mif\u001b[39;00m \u001b[38;5;28misinstance\u001b[39m(state\u001b[38;5;241m.\u001b[39mdata, DataDocument):\n\u001b[1;32m     94\u001b[0m     result \u001b[38;5;241m=\u001b[39m result_from_state_with_data_document(\n\u001b[1;32m     95\u001b[0m         state, raise_on_failure\u001b[38;5;241m=\u001b[39mraise_on_failure\n\u001b[1;32m     96\u001b[0m     )\n",
      "File \u001b[0;32m~/.cache/pypoetry/virtualenvs/to-service-2M0TdnpI-py3.10/lib/python3.10/site-packages/prefect/engine.py:658\u001b[0m, in \u001b[0;36morchestrate_flow_run\u001b[0;34m(flow, flow_run, parameters, wait_for, interruptible, client, partial_flow_run_context)\u001b[0m\n\u001b[1;32m    655\u001b[0m flow_call \u001b[38;5;241m=\u001b[39m partial(flow\u001b[38;5;241m.\u001b[39mfn, \u001b[38;5;241m*\u001b[39margs, \u001b[38;5;241m*\u001b[39m\u001b[38;5;241m*\u001b[39mkwargs)\n\u001b[1;32m    657\u001b[0m \u001b[38;5;28;01mif\u001b[39;00m flow\u001b[38;5;241m.\u001b[39misasync:\n\u001b[0;32m--> 658\u001b[0m     result \u001b[38;5;241m=\u001b[39m \u001b[38;5;28;01mawait\u001b[39;00m flow_call()\n\u001b[1;32m    659\u001b[0m \u001b[38;5;28;01melse\u001b[39;00m:\n\u001b[1;32m    660\u001b[0m     run_sync \u001b[38;5;241m=\u001b[39m (\n\u001b[1;32m    661\u001b[0m         run_sync_in_interruptible_worker_thread\n\u001b[1;32m    662\u001b[0m         \u001b[38;5;28;01mif\u001b[39;00m interruptible \u001b[38;5;129;01mor\u001b[39;00m timeout_scope\n\u001b[1;32m    663\u001b[0m         \u001b[38;5;28;01melse\u001b[39;00m run_sync_in_worker_thread\n\u001b[1;32m    664\u001b[0m     )\n",
      "File \u001b[0;32m~/.cache/pypoetry/virtualenvs/to-service-2M0TdnpI-py3.10/lib/python3.10/site-packages/prefect_dbt/cloud/jobs.py:354\u001b[0m, in \u001b[0;36mtrigger_dbt_cloud_job_run_and_wait_for_completion\u001b[0;34m(dbt_cloud_credentials, job_id, trigger_job_run_options, max_wait_seconds, poll_frequency_seconds, retry_filtered_models_attempts)\u001b[0m\n\u001b[1;32m    347\u001b[0m logger \u001b[38;5;241m=\u001b[39m get_run_logger()\n\u001b[1;32m    349\u001b[0m triggered_run_data_future \u001b[38;5;241m=\u001b[39m \u001b[38;5;28;01mawait\u001b[39;00m trigger_dbt_cloud_job_run\u001b[38;5;241m.\u001b[39msubmit(\n\u001b[1;32m    350\u001b[0m     dbt_cloud_credentials\u001b[38;5;241m=\u001b[39mdbt_cloud_credentials,\n\u001b[1;32m    351\u001b[0m     job_id\u001b[38;5;241m=\u001b[39mjob_id,\n\u001b[1;32m    352\u001b[0m     options\u001b[38;5;241m=\u001b[39mtrigger_job_run_options,\n\u001b[1;32m    353\u001b[0m )\n\u001b[0;32m--> 354\u001b[0m run_id \u001b[38;5;241m=\u001b[39m (\u001b[38;5;28;01mawait\u001b[39;00m triggered_run_data_future\u001b[38;5;241m.\u001b[39mresult())\u001b[38;5;241m.\u001b[39mget(\u001b[38;5;124m\"\u001b[39m\u001b[38;5;124mid\u001b[39m\u001b[38;5;124m\"\u001b[39m)\n\u001b[1;32m    355\u001b[0m \u001b[38;5;28;01mif\u001b[39;00m run_id \u001b[38;5;129;01mis\u001b[39;00m \u001b[38;5;28;01mNone\u001b[39;00m:\n\u001b[1;32m    356\u001b[0m     \u001b[38;5;28;01mraise\u001b[39;00m \u001b[38;5;167;01mRuntimeError\u001b[39;00m(\u001b[38;5;124m\"\u001b[39m\u001b[38;5;124mUnable to determine run ID for triggered job.\u001b[39m\u001b[38;5;124m\"\u001b[39m)\n",
      "File \u001b[0;32m~/.cache/pypoetry/virtualenvs/to-service-2M0TdnpI-py3.10/lib/python3.10/site-packages/prefect/futures.py:237\u001b[0m, in \u001b[0;36mPrefectFuture._result\u001b[0;34m(self, timeout, raise_on_failure)\u001b[0m\n\u001b[1;32m    235\u001b[0m \u001b[38;5;28;01mif\u001b[39;00m \u001b[38;5;129;01mnot\u001b[39;00m final_state:\n\u001b[1;32m    236\u001b[0m     \u001b[38;5;28;01mraise\u001b[39;00m \u001b[38;5;167;01mTimeoutError\u001b[39;00m(\u001b[38;5;124m\"\u001b[39m\u001b[38;5;124mCall timed out before task finished.\u001b[39m\u001b[38;5;124m\"\u001b[39m)\n\u001b[0;32m--> 237\u001b[0m \u001b[38;5;28;01mreturn\u001b[39;00m \u001b[38;5;28;01mawait\u001b[39;00m final_state\u001b[38;5;241m.\u001b[39mresult(raise_on_failure\u001b[38;5;241m=\u001b[39mraise_on_failure, fetch\u001b[38;5;241m=\u001b[39m\u001b[38;5;28;01mTrue\u001b[39;00m)\n",
      "File \u001b[0;32m~/.cache/pypoetry/virtualenvs/to-service-2M0TdnpI-py3.10/lib/python3.10/site-packages/prefect/states.py:91\u001b[0m, in \u001b[0;36m_get_state_result\u001b[0;34m(state, raise_on_failure)\u001b[0m\n\u001b[1;32m     86\u001b[0m     \u001b[38;5;28;01mraise\u001b[39;00m PausedRun(\u001b[38;5;124m\"\u001b[39m\u001b[38;5;124mRun paused.\u001b[39m\u001b[38;5;124m\"\u001b[39m)\n\u001b[1;32m     88\u001b[0m \u001b[38;5;28;01mif\u001b[39;00m raise_on_failure \u001b[38;5;129;01mand\u001b[39;00m (\n\u001b[1;32m     89\u001b[0m     state\u001b[38;5;241m.\u001b[39mis_crashed() \u001b[38;5;129;01mor\u001b[39;00m state\u001b[38;5;241m.\u001b[39mis_failed() \u001b[38;5;129;01mor\u001b[39;00m state\u001b[38;5;241m.\u001b[39mis_cancelled()\n\u001b[1;32m     90\u001b[0m ):\n\u001b[0;32m---> 91\u001b[0m     \u001b[38;5;28;01mraise\u001b[39;00m \u001b[38;5;28;01mawait\u001b[39;00m get_state_exception(state)\n\u001b[1;32m     93\u001b[0m \u001b[38;5;28;01mif\u001b[39;00m \u001b[38;5;28misinstance\u001b[39m(state\u001b[38;5;241m.\u001b[39mdata, DataDocument):\n\u001b[1;32m     94\u001b[0m     result \u001b[38;5;241m=\u001b[39m result_from_state_with_data_document(\n\u001b[1;32m     95\u001b[0m         state, raise_on_failure\u001b[38;5;241m=\u001b[39mraise_on_failure\n\u001b[1;32m     96\u001b[0m     )\n",
      "File \u001b[0;32m~/.cache/pypoetry/virtualenvs/to-service-2M0TdnpI-py3.10/lib/python3.10/site-packages/prefect/engine.py:1526\u001b[0m, in \u001b[0;36morchestrate_task_run\u001b[0;34m(task, task_run, parameters, wait_for, result_factory, log_prints, interruptible, client)\u001b[0m\n\u001b[1;32m   1522\u001b[0m \u001b[38;5;28;01mwith\u001b[39;00m task_run_context\u001b[38;5;241m.\u001b[39mcopy(\n\u001b[1;32m   1523\u001b[0m     update\u001b[38;5;241m=\u001b[39m{\u001b[38;5;124m\"\u001b[39m\u001b[38;5;124mtask_run\u001b[39m\u001b[38;5;124m\"\u001b[39m: task_run, \u001b[38;5;124m\"\u001b[39m\u001b[38;5;124mstart_time\u001b[39m\u001b[38;5;124m\"\u001b[39m: pendulum\u001b[38;5;241m.\u001b[39mnow(\u001b[38;5;124m\"\u001b[39m\u001b[38;5;124mUTC\u001b[39m\u001b[38;5;124m\"\u001b[39m)}\n\u001b[1;32m   1524\u001b[0m ):\n\u001b[1;32m   1525\u001b[0m     \u001b[38;5;28;01mif\u001b[39;00m task\u001b[38;5;241m.\u001b[39misasync:\n\u001b[0;32m-> 1526\u001b[0m         result \u001b[38;5;241m=\u001b[39m \u001b[38;5;28;01mawait\u001b[39;00m task\u001b[38;5;241m.\u001b[39mfn(\u001b[38;5;241m*\u001b[39margs, \u001b[38;5;241m*\u001b[39m\u001b[38;5;241m*\u001b[39mkwargs)\n\u001b[1;32m   1527\u001b[0m     \u001b[38;5;28;01melse\u001b[39;00m:\n\u001b[1;32m   1528\u001b[0m         run_sync \u001b[38;5;241m=\u001b[39m (\n\u001b[1;32m   1529\u001b[0m             run_sync_in_interruptible_worker_thread\n\u001b[1;32m   1530\u001b[0m             \u001b[38;5;28;01mif\u001b[39;00m interruptible \u001b[38;5;129;01mor\u001b[39;00m timeout_scope\n\u001b[1;32m   1531\u001b[0m             \u001b[38;5;28;01melse\u001b[39;00m run_sync_in_worker_thread\n\u001b[1;32m   1532\u001b[0m         )\n",
      "File \u001b[0;32m~/.cache/pypoetry/virtualenvs/to-service-2M0TdnpI-py3.10/lib/python3.10/site-packages/prefect_dbt/cloud/jobs.py:181\u001b[0m, in \u001b[0;36mtrigger_dbt_cloud_job_run\u001b[0;34m(dbt_cloud_credentials, job_id, options)\u001b[0m\n\u001b[1;32m    179\u001b[0m         response \u001b[38;5;241m=\u001b[39m \u001b[38;5;28;01mawait\u001b[39;00m client\u001b[38;5;241m.\u001b[39mtrigger_job_run(job_id\u001b[38;5;241m=\u001b[39mjob_id, options\u001b[38;5;241m=\u001b[39moptions)\n\u001b[1;32m    180\u001b[0m \u001b[38;5;28;01mexcept\u001b[39;00m HTTPStatusError \u001b[38;5;28;01mas\u001b[39;00m ex:\n\u001b[0;32m--> 181\u001b[0m     \u001b[38;5;28;01mraise\u001b[39;00m DbtCloudJobRunTriggerFailed(extract_user_message(ex)) \u001b[38;5;28;01mfrom\u001b[39;00m \u001b[38;5;21;01mex\u001b[39;00m\n\u001b[1;32m    183\u001b[0m run_data \u001b[38;5;241m=\u001b[39m response\u001b[38;5;241m.\u001b[39mjson()[\u001b[38;5;124m\"\u001b[39m\u001b[38;5;124mdata\u001b[39m\u001b[38;5;124m\"\u001b[39m]\n\u001b[1;32m    185\u001b[0m \u001b[38;5;28;01mif\u001b[39;00m \u001b[38;5;124m\"\u001b[39m\u001b[38;5;124mproject_id\u001b[39m\u001b[38;5;124m\"\u001b[39m \u001b[38;5;129;01min\u001b[39;00m run_data \u001b[38;5;129;01mand\u001b[39;00m \u001b[38;5;124m\"\u001b[39m\u001b[38;5;124mid\u001b[39m\u001b[38;5;124m\"\u001b[39m \u001b[38;5;129;01min\u001b[39;00m run_data:\n",
      "\u001b[0;31mDbtCloudJobRunTriggerFailed\u001b[0m: The API is not accessible to unpaid accounts."
     ]
    }
   ],
   "source": [
    "run_dbt_job_flow()"
   ]
  },
  {
   "cell_type": "markdown",
   "id": "50e0ac8b-629c-4cb4-9adc-9ad355c0cc11",
   "metadata": {},
   "source": [
    "`prefect_dbt.cloud.exceptions.DbtCloudJobRunTriggerFailed: The API is not accessible to unpaid accounts.`\n",
    "\n",
    "Sad times"
   ]
  },
  {
   "cell_type": "code",
   "execution_count": null,
   "id": "22a897cb-d1fb-4b44-beee-d9192d917f39",
   "metadata": {},
   "outputs": [],
   "source": []
  }
 ],
 "metadata": {
  "kernelspec": {
   "display_name": "Python 3 (ipykernel)",
   "language": "python",
   "name": "python3"
  },
  "language_info": {
   "codemirror_mode": {
    "name": "ipython",
    "version": 3
   },
   "file_extension": ".py",
   "mimetype": "text/x-python",
   "name": "python",
   "nbconvert_exporter": "python",
   "pygments_lexer": "ipython3",
   "version": "3.10.6"
  }
 },
 "nbformat": 4,
 "nbformat_minor": 5
}
