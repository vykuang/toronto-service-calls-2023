{
 "cells": [
  {
   "attachments": {},
   "cell_type": "markdown",
   "metadata": {},
   "source": [
    "# Open Data Toronto\n",
    "\n",
    "Snippet taken from the [\"For Developers\" tab](https://open.toronto.ca/dataset/311-service-requests-customer-initiated/)"
   ]
  },
  {
   "cell_type": "code",
   "execution_count": 52,
   "metadata": {},
   "outputs": [
    {
     "name": "stdout",
     "output_type": "stream",
     "text": [
      "dict_keys(['cache_last_updated', 'cache_url', 'created', 'datastore_active', 'format', 'hash', 'id', 'is_datastore_cache_file', 'is_preview', 'last_modified', 'metadata_modified', 'mimetype', 'mimetype_inner', 'name', 'package_id', 'position', 'resource_type', 'revision_id', 'size', 'state', 'url', 'url_type'])\n",
      "resource name:  311-service-requests-readme\n",
      "datastore active:  False\n",
      "https://ckan0.cf.opendata.inter.prod-toronto.ca/dataset/2e54bc0e-4399-4076-b717-351df5918ae7/resource/bb11ece8-a2b3-401a-92c0-fa115f867fff/download/311-service-requests-readme.xlsx\n",
      "name:  311-service-requests-readme\n",
      "url:  https://ckan0.cf.opendata.inter.prod-toronto.ca/dataset/2e54bc0e-4399-4076-b717-351df5918ae7/resource/bb11ece8-a2b3-401a-92c0-fa115f867fff/download/311-service-requests-readme.xlsx\n",
      "resource name:  311 Service Requests 2023\n",
      "datastore active:  False\n",
      "https://ckan0.cf.opendata.inter.prod-toronto.ca/dataset/2e54bc0e-4399-4076-b717-351df5918ae7/resource/079766f3-815d-4257-8731-5ff6b0c84c13/download/sr2023.zip\n",
      "name:  311 Service Requests 2023\n",
      "url:  https://ckan0.cf.opendata.inter.prod-toronto.ca/dataset/2e54bc0e-4399-4076-b717-351df5918ae7/resource/079766f3-815d-4257-8731-5ff6b0c84c13/download/sr2023.zip\n",
      "resource name:  311 Service Requests 2022\n",
      "datastore active:  False\n",
      "https://ckan0.cf.opendata.inter.prod-toronto.ca/dataset/2e54bc0e-4399-4076-b717-351df5918ae7/resource/f00a3313-f074-463e-89a7-26563084fbef/download/sr2022.zip\n",
      "name:  311 Service Requests 2022\n",
      "url:  https://ckan0.cf.opendata.inter.prod-toronto.ca/dataset/2e54bc0e-4399-4076-b717-351df5918ae7/resource/f00a3313-f074-463e-89a7-26563084fbef/download/sr2022.zip\n",
      "resource name:  311 Service Requests 2021\n",
      "datastore active:  False\n",
      "https://www.toronto.ca/data/311/opendata/servicerequest/SR2021.zip\n",
      "name:  311 Service Requests 2021\n",
      "url:  https://www.toronto.ca/data/311/opendata/servicerequest/SR2021.zip\n"
     ]
    }
   ],
   "source": [
    "import requests\n",
    "import time\n",
    "\n",
    "# Toronto Open Data is stored in a CKAN instance. It's APIs are documented here:\n",
    "# https://docs.ckan.org/en/latest/api/\n",
    "\n",
    "# To hit our API, you'll be making requests to:\n",
    "base_url = \"https://ckan0.cf.opendata.inter.prod-toronto.ca\"\n",
    "\n",
    "# Datasets are called \"packages\". Each package can contain many \"resources\"\n",
    "# To retrieve the metadata for this package and its resources, use the package name in this page's URL:\n",
    "url = base_url + \"/api/3/action/package_show\"\n",
    "params = {\"id\": \"311-service-requests-customer-initiated\"}\n",
    "package = requests.get(url, params=params).json()\n",
    "\n",
    "# To get resource data:\n",
    "for idx, resource in enumerate(package[\"result\"][\"resources\"]):\n",
    "    if idx > 3:\n",
    "        break\n",
    "    if idx == 0:\n",
    "        print(resource.keys())\n",
    "    print(\"resource name: \", resource[\"name\"])\n",
    "    print(\"datastore active: \", resource[\"datastore_active\"])\n",
    "    print(resource[\"url\"])\n",
    "    # To get metadata for non datastore_active resources:\n",
    "    if not resource[\"datastore_active\"]:\n",
    "        url = base_url + \"/api/3/action/resource_show?id=\" + resource[\"id\"]\n",
    "        resource_metadata = requests.get(url).json()\n",
    "        # print(resource_metadata)\n",
    "        # From here, you can use the \"url\" attribute to download this file\n",
    "        print(\"name: \", resource_metadata[\"result\"][\"name\"])\n",
    "        print(\"url: \", resource_metadata[\"result\"][\"url\"])\n",
    "        time.sleep(0.5)"
   ]
  },
  {
   "cell_type": "code",
   "execution_count": 53,
   "metadata": {},
   "outputs": [
    {
     "name": "stdout",
     "output_type": "stream",
     "text": [
      "True\n",
      "True\n"
     ]
    }
   ],
   "source": [
    "foo = \"311 Service Requests 2023\"\n",
    "faa = \"311-service-requests-2023\"\n",
    "print(\"2023\" in foo)\n",
    "print(\"2023\" in faa)"
   ]
  },
  {
   "cell_type": "code",
   "execution_count": 55,
   "metadata": {},
   "outputs": [],
   "source": [
    "BASE_URL = \"https://ckan0.cf.opendata.inter.prod-toronto.ca/api/3/action/\"\n",
    "\n",
    "\n",
    "def get_package_metadata(\n",
    "    action: str = \"package_show\",\n",
    "    resource_id: str = \"311-service-requests-customer-initiated\",\n",
    "):\n",
    "    params = {\"id\": resource_id}\n",
    "    package = requests.get(BASE_URL + action, params=params, timeout=5).json()\n",
    "    return package\n",
    "\n",
    "\n",
    "def parse_url(year: str = \"2020\") -> str:\n",
    "    \"\"\"Retrieve URL of 311 service call data given the year\"\"\"\n",
    "    resource_metadata = get_package_metadata()[\"result\"][\"resources\"]\n",
    "    url = [\n",
    "        resource[\"url\"] for resource in resource_metadata if year in resource[\"name\"]\n",
    "    ][0]\n",
    "    return url"
   ]
  },
  {
   "cell_type": "code",
   "execution_count": 56,
   "metadata": {},
   "outputs": [
    {
     "data": {
      "text/plain": [
       "'https://www.toronto.ca/data/311/opendata/servicerequest/SR2020.zip'"
      ]
     },
     "execution_count": 56,
     "metadata": {},
     "output_type": "execute_result"
    }
   ],
   "source": [
    "parse_url()"
   ]
  },
  {
   "cell_type": "code",
   "execution_count": null,
   "metadata": {},
   "outputs": [],
   "source": [
    "from pathlib import Path"
   ]
  },
  {
   "cell_type": "code",
   "execution_count": 57,
   "metadata": {},
   "outputs": [],
   "source": [
    "foo = \"https://www.toronto.ca/data/311/opendata/servicerequest/SR2020.zip\""
   ]
  },
  {
   "cell_type": "code",
   "execution_count": 20,
   "metadata": {},
   "outputs": [
    {
     "data": {
      "text/plain": [
       "['https:',\n",
       " '',\n",
       " 'www.toronto.ca',\n",
       " 'data',\n",
       " '311',\n",
       " 'opendata',\n",
       " 'servicerequest',\n",
       " 'SR2020.zip']"
      ]
     },
     "execution_count": 20,
     "metadata": {},
     "output_type": "execute_result"
    }
   ],
   "source": [
    "foo.split(\"/\")[-1]"
   ]
  },
  {
   "cell_type": "code",
   "execution_count": 59,
   "metadata": {},
   "outputs": [
    {
     "data": {
      "text/plain": [
       "'SR2020.csv'"
      ]
     },
     "execution_count": 59,
     "metadata": {},
     "output_type": "execute_result"
    }
   ],
   "source": [
    "fn = foo.split(\"/\")[-1].replace(\"zip\", \"csv\")\n",
    "fn"
   ]
  },
  {
   "cell_type": "code",
   "execution_count": 21,
   "metadata": {},
   "outputs": [],
   "source": [
    "bucket = Path(\"../data/notebooks\")\n",
    "if not bucket.exists():\n",
    "    bucket.mkdir(parents=True)\n",
    "with requests.get(url=foo, stream=True, timeout=4) as dump:\n",
    "    dump.raise_for_status()\n",
    "    fpath = bucket / foo.split(\"/\")[-1]\n",
    "    with open(fpath, \"wb\") as f:\n",
    "        for chunk in dump.iter_content(chunk_size=512 * 1024):\n",
    "            f.write(chunk)"
   ]
  },
  {
   "attachments": {},
   "cell_type": "markdown",
   "metadata": {},
   "source": [
    "`zipfile` is a low-level library to manipulate compressed files"
   ]
  },
  {
   "cell_type": "code",
   "execution_count": 22,
   "metadata": {},
   "outputs": [],
   "source": [
    "import zipfile"
   ]
  },
  {
   "cell_type": "code",
   "execution_count": 24,
   "metadata": {},
   "outputs": [],
   "source": [
    "fpath = bucket / foo.split(\"/\")[-1]\n",
    "with zipfile.ZipFile(file=fpath, mode=\"r\") as zip_ref:\n",
    "    zip_ref.extractall(bucket)"
   ]
  },
  {
   "attachments": {},
   "cell_type": "markdown",
   "metadata": {},
   "source": [
    "`shutil` has higher-level functions in `make_archive` and `unpack_archive` to handle most general cases"
   ]
  },
  {
   "cell_type": "code",
   "execution_count": 25,
   "metadata": {},
   "outputs": [],
   "source": [
    "import shutil"
   ]
  },
  {
   "cell_type": "code",
   "execution_count": 26,
   "metadata": {},
   "outputs": [],
   "source": [
    "shutil.unpack_archive(filename=fpath, extract_dir=Path.cwd())"
   ]
  },
  {
   "cell_type": "code",
   "execution_count": null,
   "metadata": {},
   "outputs": [],
   "source": [
    "def fetch_from_url(url: str, fname: str):\n",
    "    with requests.get(url=url, stream=True, timeout=5) as resource_dump_data:\n",
    "        resource_dump_data.raise_for_status()"
   ]
  },
  {
   "cell_type": "code",
   "execution_count": 1,
   "metadata": {},
   "outputs": [],
   "source": [
    "import tempfile"
   ]
  },
  {
   "cell_type": "code",
   "execution_count": 2,
   "metadata": {},
   "outputs": [
    {
     "name": "stdout",
     "output_type": "stream",
     "text": [
      "temp dir: /tmp/tmpqo1warik\n",
      "type:  <class 'str'>\n"
     ]
    }
   ],
   "source": [
    "with tempfile.TemporaryDirectory() as tmpdir:\n",
    "    print(\"temp dir:\", tmpdir)\n",
    "    print(\"type: \", type(tmpdir))"
   ]
  },
  {
   "cell_type": "code",
   "execution_count": 3,
   "metadata": {},
   "outputs": [],
   "source": [
    "import pandas as pd"
   ]
  },
  {
   "cell_type": "code",
   "execution_count": 41,
   "metadata": {},
   "outputs": [],
   "source": [
    "df = pd.read_csv(\"../tests/resources/SR2020.csv\", nrows=100)"
   ]
  },
  {
   "cell_type": "code",
   "execution_count": 5,
   "metadata": {},
   "outputs": [
    {
     "data": {
      "text/plain": [
       "Creation Date                   object\n",
       "Status                          object\n",
       "First 3 Chars of Postal Code    object\n",
       "Intersection Street 1           object\n",
       "Intersection Street 2           object\n",
       "Ward                            object\n",
       "Service Request Type            object\n",
       "Division                        object\n",
       "Section                         object\n",
       "dtype: object"
      ]
     },
     "execution_count": 5,
     "metadata": {},
     "output_type": "execute_result"
    }
   ],
   "source": [
    "df.dtypes"
   ]
  },
  {
   "cell_type": "code",
   "execution_count": 6,
   "metadata": {},
   "outputs": [
    {
     "data": {
      "text/html": [
       "<div>\n",
       "<style scoped>\n",
       "    .dataframe tbody tr th:only-of-type {\n",
       "        vertical-align: middle;\n",
       "    }\n",
       "\n",
       "    .dataframe tbody tr th {\n",
       "        vertical-align: top;\n",
       "    }\n",
       "\n",
       "    .dataframe thead th {\n",
       "        text-align: right;\n",
       "    }\n",
       "</style>\n",
       "<table border=\"1\" class=\"dataframe\">\n",
       "  <thead>\n",
       "    <tr style=\"text-align: right;\">\n",
       "      <th></th>\n",
       "      <th>Creation Date</th>\n",
       "      <th>Status</th>\n",
       "      <th>First 3 Chars of Postal Code</th>\n",
       "      <th>Intersection Street 1</th>\n",
       "      <th>Intersection Street 2</th>\n",
       "      <th>Ward</th>\n",
       "      <th>Service Request Type</th>\n",
       "      <th>Division</th>\n",
       "      <th>Section</th>\n",
       "    </tr>\n",
       "  </thead>\n",
       "  <tbody>\n",
       "    <tr>\n",
       "      <th>0</th>\n",
       "      <td>2020-01-01 00:01:46.0000000</td>\n",
       "      <td>Closed</td>\n",
       "      <td>Intersection</td>\n",
       "      <td>Chaplin Cres</td>\n",
       "      <td>Davisville Ave</td>\n",
       "      <td>Toronto-St. Paul's (12)</td>\n",
       "      <td>INJUR/DIST DOMESTIC</td>\n",
       "      <td>Municipal Licensing &amp; Standards</td>\n",
       "      <td>Toronto Animal Services</td>\n",
       "    </tr>\n",
       "    <tr>\n",
       "      <th>1</th>\n",
       "      <td>2020-01-01 01:36:56.0000000</td>\n",
       "      <td>Closed</td>\n",
       "      <td>M4C</td>\n",
       "      <td>NaN</td>\n",
       "      <td>NaN</td>\n",
       "      <td>Beaches-East York (19)</td>\n",
       "      <td>Sewer Service Line-Blocked</td>\n",
       "      <td>Toronto Water</td>\n",
       "      <td>District Ops</td>\n",
       "    </tr>\n",
       "    <tr>\n",
       "      <th>2</th>\n",
       "      <td>2020-01-01 02:42:16.0000000</td>\n",
       "      <td>Closed</td>\n",
       "      <td>M9A</td>\n",
       "      <td>NaN</td>\n",
       "      <td>NaN</td>\n",
       "      <td>Etobicoke-Lakeshore (03)</td>\n",
       "      <td>ENF/INVEST MUZZLE</td>\n",
       "      <td>Municipal Licensing &amp; Standards</td>\n",
       "      <td>Toronto Animal Services</td>\n",
       "    </tr>\n",
       "    <tr>\n",
       "      <th>3</th>\n",
       "      <td>2020-01-01 02:52:29.0000000</td>\n",
       "      <td>Closed</td>\n",
       "      <td>M6C</td>\n",
       "      <td>NaN</td>\n",
       "      <td>NaN</td>\n",
       "      <td>Toronto-St. Paul's (12)</td>\n",
       "      <td>Hydrant-Damage</td>\n",
       "      <td>Toronto Water</td>\n",
       "      <td>District Ops</td>\n",
       "    </tr>\n",
       "    <tr>\n",
       "      <th>4</th>\n",
       "      <td>2020-01-01 02:56:34.0000000</td>\n",
       "      <td>Closed</td>\n",
       "      <td>Intersection</td>\n",
       "      <td>Don Mills Rd</td>\n",
       "      <td>Sheppard Ave E</td>\n",
       "      <td>Don Valley North (17)</td>\n",
       "      <td>Traffic Signal Maintenance</td>\n",
       "      <td>Transportation Services</td>\n",
       "      <td>TMC</td>\n",
       "    </tr>\n",
       "  </tbody>\n",
       "</table>\n",
       "</div>"
      ],
      "text/plain": [
       "                 Creation Date  Status First 3 Chars of Postal Code  \\\n",
       "0  2020-01-01 00:01:46.0000000  Closed                 Intersection   \n",
       "1  2020-01-01 01:36:56.0000000  Closed                          M4C   \n",
       "2  2020-01-01 02:42:16.0000000  Closed                          M9A   \n",
       "3  2020-01-01 02:52:29.0000000  Closed                          M6C   \n",
       "4  2020-01-01 02:56:34.0000000  Closed                 Intersection   \n",
       "\n",
       "  Intersection Street 1 Intersection Street 2                      Ward  \\\n",
       "0          Chaplin Cres        Davisville Ave   Toronto-St. Paul's (12)   \n",
       "1                   NaN                   NaN    Beaches-East York (19)   \n",
       "2                   NaN                   NaN  Etobicoke-Lakeshore (03)   \n",
       "3                   NaN                   NaN   Toronto-St. Paul's (12)   \n",
       "4          Don Mills Rd        Sheppard Ave E     Don Valley North (17)   \n",
       "\n",
       "         Service Request Type                         Division  \\\n",
       "0         INJUR/DIST DOMESTIC  Municipal Licensing & Standards   \n",
       "1  Sewer Service Line-Blocked                    Toronto Water   \n",
       "2           ENF/INVEST MUZZLE  Municipal Licensing & Standards   \n",
       "3              Hydrant-Damage                    Toronto Water   \n",
       "4  Traffic Signal Maintenance          Transportation Services   \n",
       "\n",
       "                   Section  \n",
       "0  Toronto Animal Services  \n",
       "1             District Ops  \n",
       "2  Toronto Animal Services  \n",
       "3             District Ops  \n",
       "4                      TMC  "
      ]
     },
     "execution_count": 6,
     "metadata": {},
     "output_type": "execute_result"
    }
   ],
   "source": [
    "df.head()"
   ]
  },
  {
   "cell_type": "code",
   "execution_count": 42,
   "metadata": {},
   "outputs": [
    {
     "data": {
      "text/plain": [
       "dtype('<M8[ns]')"
      ]
     },
     "execution_count": 42,
     "metadata": {},
     "output_type": "execute_result"
    }
   ],
   "source": [
    "df[\"creation_datetime\"] = pd.to_datetime(df[\"Creation Date\"])\n",
    "df[\"creation_datetime\"].dtype"
   ]
  },
  {
   "cell_type": "code",
   "execution_count": 9,
   "metadata": {},
   "outputs": [],
   "source": [
    "import re"
   ]
  },
  {
   "cell_type": "code",
   "execution_count": 8,
   "metadata": {},
   "outputs": [
    {
     "data": {
      "text/plain": [
       "23        Don Valley East (16)\n",
       "21       Don Valley North (17)\n",
       "66     Parkdale-High Park (04)\n",
       "68      Beaches-East York (19)\n",
       "74        Don Valley West (15)\n",
       "55     Toronto-St. Paul's (12)\n",
       "77        Don Valley West (15)\n",
       "98     Toronto-St. Paul's (12)\n",
       "71    Etobicoke-Lakeshore (03)\n",
       "83    Etobicoke-Lakeshore (03)\n",
       "Name: Ward, dtype: object"
      ]
     },
     "execution_count": 8,
     "metadata": {},
     "output_type": "execute_result"
    }
   ],
   "source": [
    "df[\"Ward\"].sample(10)"
   ]
  },
  {
   "cell_type": "code",
   "execution_count": 13,
   "metadata": {},
   "outputs": [
    {
     "data": {
      "text/plain": [
       "'16'"
      ]
     },
     "execution_count": 13,
     "metadata": {},
     "output_type": "execute_result"
    }
   ],
   "source": [
    "wardname = \"Valley East (16)\"\n",
    "idx = wardname.index(\"(\")\n",
    "ward_id = wardname[idx + 1 : idx + 3]\n",
    "ward_id"
   ]
  },
  {
   "cell_type": "code",
   "execution_count": 15,
   "metadata": {},
   "outputs": [
    {
     "data": {
      "text/plain": [
       "'16'"
      ]
     },
     "execution_count": 15,
     "metadata": {},
     "output_type": "execute_result"
    }
   ],
   "source": [
    "p = re.compile(\".*\\(([0-9]{2})\\)\")\n",
    "m = p.match(wardname)\n",
    "m.group(1)"
   ]
  },
  {
   "cell_type": "code",
   "execution_count": 17,
   "metadata": {},
   "outputs": [
    {
     "data": {
      "text/plain": [
       "'16'"
      ]
     },
     "execution_count": 17,
     "metadata": {},
     "output_type": "execute_result"
    }
   ],
   "source": [
    "re.match(pattern=\".*\\(([0-9]{2})\\)\", string=wardname).group(1)"
   ]
  },
  {
   "cell_type": "code",
   "execution_count": 19,
   "metadata": {},
   "outputs": [],
   "source": [
    "def extract_ward_id(ward: str):\n",
    "    return int(re.match(pattern=\".*\\(([0-9]{2})\\)\", string=ward).group(1))"
   ]
  },
  {
   "cell_type": "code",
   "execution_count": 20,
   "metadata": {},
   "outputs": [
    {
     "name": "stdout",
     "output_type": "stream",
     "text": [
      "282 µs ± 2.78 µs per loop (mean ± std. dev. of 7 runs, 1,000 loops each)\n"
     ]
    }
   ],
   "source": [
    "%%timeit\n",
    "df[\"Ward\"].apply(extract_ward_id)"
   ]
  },
  {
   "cell_type": "code",
   "execution_count": 21,
   "metadata": {},
   "outputs": [],
   "source": [
    "def extract_idx(ward: str):\n",
    "    idx = ward.index(\"(\")\n",
    "    return int(ward[idx + 1 : idx + 3])"
   ]
  },
  {
   "cell_type": "code",
   "execution_count": 22,
   "metadata": {},
   "outputs": [
    {
     "name": "stdout",
     "output_type": "stream",
     "text": [
      "161 µs ± 972 ns per loop (mean ± std. dev. of 7 runs, 10,000 loops each)\n"
     ]
    }
   ],
   "source": [
    "%%timeit\n",
    "df[\"Ward\"].apply(extract_idx)"
   ]
  },
  {
   "cell_type": "code",
   "execution_count": 35,
   "metadata": {},
   "outputs": [],
   "source": [
    "def extract_name_id(ward: str):\n",
    "    idx = ward.index(\"(\")\n",
    "    ward_name = ward[: idx - 1]\n",
    "    ward_id = int(ward[idx + 1 : idx + 3])\n",
    "    return pd.Series([ward_name, ward_id], [\"ward_name\", \"ward_id\"])"
   ]
  },
  {
   "cell_type": "code",
   "execution_count": 33,
   "metadata": {},
   "outputs": [
    {
     "ename": "TypeError",
     "evalue": "Field elements must be 2- or 3-tuples, got ''string''",
     "output_type": "error",
     "traceback": [
      "\u001b[0;31m---------------------------------------------------------------------------\u001b[0m",
      "\u001b[0;31mTypeError\u001b[0m                                 Traceback (most recent call last)",
      "Cell \u001b[0;32mIn[33], line 1\u001b[0m\n\u001b[0;32m----> 1\u001b[0m df[\u001b[39m'\u001b[39;49m\u001b[39mWard\u001b[39;49m\u001b[39m'\u001b[39;49m]\u001b[39m.\u001b[39;49mapply(extract_name_id)\n",
      "File \u001b[0;32m~/.cache/pypoetry/virtualenvs/to-service-qAcdV8BS-py3.10/lib/python3.10/site-packages/pandas/core/series.py:4771\u001b[0m, in \u001b[0;36mSeries.apply\u001b[0;34m(self, func, convert_dtype, args, **kwargs)\u001b[0m\n\u001b[1;32m   4661\u001b[0m \u001b[39mdef\u001b[39;00m \u001b[39mapply\u001b[39m(\n\u001b[1;32m   4662\u001b[0m     \u001b[39mself\u001b[39m,\n\u001b[1;32m   4663\u001b[0m     func: AggFuncType,\n\u001b[0;32m   (...)\u001b[0m\n\u001b[1;32m   4666\u001b[0m     \u001b[39m*\u001b[39m\u001b[39m*\u001b[39mkwargs,\n\u001b[1;32m   4667\u001b[0m ) \u001b[39m-\u001b[39m\u001b[39m>\u001b[39m DataFrame \u001b[39m|\u001b[39m Series:\n\u001b[1;32m   4668\u001b[0m \u001b[39m    \u001b[39m\u001b[39m\"\"\"\u001b[39;00m\n\u001b[1;32m   4669\u001b[0m \u001b[39m    Invoke function on values of Series.\u001b[39;00m\n\u001b[1;32m   4670\u001b[0m \n\u001b[0;32m   (...)\u001b[0m\n\u001b[1;32m   4769\u001b[0m \u001b[39m    dtype: float64\u001b[39;00m\n\u001b[1;32m   4770\u001b[0m \u001b[39m    \"\"\"\u001b[39;00m\n\u001b[0;32m-> 4771\u001b[0m     \u001b[39mreturn\u001b[39;00m SeriesApply(\u001b[39mself\u001b[39;49m, func, convert_dtype, args, kwargs)\u001b[39m.\u001b[39;49mapply()\n",
      "File \u001b[0;32m~/.cache/pypoetry/virtualenvs/to-service-qAcdV8BS-py3.10/lib/python3.10/site-packages/pandas/core/apply.py:1123\u001b[0m, in \u001b[0;36mSeriesApply.apply\u001b[0;34m(self)\u001b[0m\n\u001b[1;32m   1120\u001b[0m     \u001b[39mreturn\u001b[39;00m \u001b[39mself\u001b[39m\u001b[39m.\u001b[39mapply_str()\n\u001b[1;32m   1122\u001b[0m \u001b[39m# self.f is Callable\u001b[39;00m\n\u001b[0;32m-> 1123\u001b[0m \u001b[39mreturn\u001b[39;00m \u001b[39mself\u001b[39;49m\u001b[39m.\u001b[39;49mapply_standard()\n",
      "File \u001b[0;32m~/.cache/pypoetry/virtualenvs/to-service-qAcdV8BS-py3.10/lib/python3.10/site-packages/pandas/core/apply.py:1174\u001b[0m, in \u001b[0;36mSeriesApply.apply_standard\u001b[0;34m(self)\u001b[0m\n\u001b[1;32m   1172\u001b[0m     \u001b[39melse\u001b[39;00m:\n\u001b[1;32m   1173\u001b[0m         values \u001b[39m=\u001b[39m obj\u001b[39m.\u001b[39mastype(\u001b[39mobject\u001b[39m)\u001b[39m.\u001b[39m_values\n\u001b[0;32m-> 1174\u001b[0m         mapped \u001b[39m=\u001b[39m lib\u001b[39m.\u001b[39;49mmap_infer(\n\u001b[1;32m   1175\u001b[0m             values,\n\u001b[1;32m   1176\u001b[0m             f,\n\u001b[1;32m   1177\u001b[0m             convert\u001b[39m=\u001b[39;49m\u001b[39mself\u001b[39;49m\u001b[39m.\u001b[39;49mconvert_dtype,\n\u001b[1;32m   1178\u001b[0m         )\n\u001b[1;32m   1180\u001b[0m \u001b[39mif\u001b[39;00m \u001b[39mlen\u001b[39m(mapped) \u001b[39mand\u001b[39;00m \u001b[39misinstance\u001b[39m(mapped[\u001b[39m0\u001b[39m], ABCSeries):\n\u001b[1;32m   1181\u001b[0m     \u001b[39m# GH#43986 Need to do list(mapped) in order to get treated as nested\u001b[39;00m\n\u001b[1;32m   1182\u001b[0m     \u001b[39m#  See also GH#25959 regarding EA support\u001b[39;00m\n\u001b[1;32m   1183\u001b[0m     \u001b[39mreturn\u001b[39;00m obj\u001b[39m.\u001b[39m_constructor_expanddim(\u001b[39mlist\u001b[39m(mapped), index\u001b[39m=\u001b[39mobj\u001b[39m.\u001b[39mindex)\n",
      "File \u001b[0;32m~/.cache/pypoetry/virtualenvs/to-service-qAcdV8BS-py3.10/lib/python3.10/site-packages/pandas/_libs/lib.pyx:2924\u001b[0m, in \u001b[0;36mpandas._libs.lib.map_infer\u001b[0;34m()\u001b[0m\n",
      "Cell \u001b[0;32mIn[32], line 5\u001b[0m, in \u001b[0;36mextract_name_id\u001b[0;34m(ward)\u001b[0m\n\u001b[1;32m      3\u001b[0m ward_name \u001b[39m=\u001b[39m ward[:idx\u001b[39m-\u001b[39m\u001b[39m1\u001b[39m]\n\u001b[1;32m      4\u001b[0m ward_id \u001b[39m=\u001b[39m \u001b[39mint\u001b[39m(ward[idx\u001b[39m+\u001b[39m\u001b[39m1\u001b[39m:idx\u001b[39m+\u001b[39m\u001b[39m3\u001b[39m])\n\u001b[0;32m----> 5\u001b[0m \u001b[39mreturn\u001b[39;00m pd\u001b[39m.\u001b[39;49mSeries([ward_name, ward_id],\n\u001b[1;32m      6\u001b[0m                      [\u001b[39m'\u001b[39;49m\u001b[39mward_name\u001b[39;49m\u001b[39m'\u001b[39;49m, \u001b[39m'\u001b[39;49m\u001b[39mward_id\u001b[39;49m\u001b[39m'\u001b[39;49m],\n\u001b[1;32m      7\u001b[0m                      dtype\u001b[39m=\u001b[39;49m[\u001b[39m'\u001b[39;49m\u001b[39mstring\u001b[39;49m\u001b[39m'\u001b[39;49m, \u001b[39m'\u001b[39;49m\u001b[39mInt8\u001b[39;49m\u001b[39m'\u001b[39;49m])\n",
      "File \u001b[0;32m~/.cache/pypoetry/virtualenvs/to-service-qAcdV8BS-py3.10/lib/python3.10/site-packages/pandas/core/series.py:404\u001b[0m, in \u001b[0;36mSeries.__init__\u001b[0;34m(self, data, index, dtype, name, copy, fastpath)\u001b[0m\n\u001b[1;32m    402\u001b[0m     data \u001b[39m=\u001b[39m {}\n\u001b[1;32m    403\u001b[0m \u001b[39mif\u001b[39;00m dtype \u001b[39mis\u001b[39;00m \u001b[39mnot\u001b[39;00m \u001b[39mNone\u001b[39;00m:\n\u001b[0;32m--> 404\u001b[0m     dtype \u001b[39m=\u001b[39m \u001b[39mself\u001b[39;49m\u001b[39m.\u001b[39;49m_validate_dtype(dtype)\n\u001b[1;32m    406\u001b[0m \u001b[39mif\u001b[39;00m \u001b[39misinstance\u001b[39m(data, MultiIndex):\n\u001b[1;32m    407\u001b[0m     \u001b[39mraise\u001b[39;00m \u001b[39mNotImplementedError\u001b[39;00m(\n\u001b[1;32m    408\u001b[0m         \u001b[39m\"\u001b[39m\u001b[39minitializing a Series from a MultiIndex is not supported\u001b[39m\u001b[39m\"\u001b[39m\n\u001b[1;32m    409\u001b[0m     )\n",
      "File \u001b[0;32m~/.cache/pypoetry/virtualenvs/to-service-qAcdV8BS-py3.10/lib/python3.10/site-packages/pandas/core/generic.py:450\u001b[0m, in \u001b[0;36mNDFrame._validate_dtype\u001b[0;34m(cls, dtype)\u001b[0m\n\u001b[1;32m    448\u001b[0m \u001b[39m\u001b[39m\u001b[39m\"\"\"validate the passed dtype\"\"\"\u001b[39;00m\n\u001b[1;32m    449\u001b[0m \u001b[39mif\u001b[39;00m dtype \u001b[39mis\u001b[39;00m \u001b[39mnot\u001b[39;00m \u001b[39mNone\u001b[39;00m:\n\u001b[0;32m--> 450\u001b[0m     dtype \u001b[39m=\u001b[39m pandas_dtype(dtype)\n\u001b[1;32m    452\u001b[0m     \u001b[39m# a compound dtype\u001b[39;00m\n\u001b[1;32m    453\u001b[0m     \u001b[39mif\u001b[39;00m dtype\u001b[39m.\u001b[39mkind \u001b[39m==\u001b[39m \u001b[39m\"\u001b[39m\u001b[39mV\u001b[39m\u001b[39m\"\u001b[39m:\n",
      "File \u001b[0;32m~/.cache/pypoetry/virtualenvs/to-service-qAcdV8BS-py3.10/lib/python3.10/site-packages/pandas/core/dtypes/common.py:1781\u001b[0m, in \u001b[0;36mpandas_dtype\u001b[0;34m(dtype)\u001b[0m\n\u001b[1;32m   1778\u001b[0m \u001b[39m# try a numpy dtype\u001b[39;00m\n\u001b[1;32m   1779\u001b[0m \u001b[39m# raise a consistent TypeError if failed\u001b[39;00m\n\u001b[1;32m   1780\u001b[0m \u001b[39mtry\u001b[39;00m:\n\u001b[0;32m-> 1781\u001b[0m     npdtype \u001b[39m=\u001b[39m np\u001b[39m.\u001b[39;49mdtype(dtype)\n\u001b[1;32m   1782\u001b[0m \u001b[39mexcept\u001b[39;00m \u001b[39mSyntaxError\u001b[39;00m \u001b[39mas\u001b[39;00m err:\n\u001b[1;32m   1783\u001b[0m     \u001b[39m# np.dtype uses `eval` which can raise SyntaxError\u001b[39;00m\n\u001b[1;32m   1784\u001b[0m     \u001b[39mraise\u001b[39;00m \u001b[39mTypeError\u001b[39;00m(\u001b[39mf\u001b[39m\u001b[39m\"\u001b[39m\u001b[39mdata type \u001b[39m\u001b[39m'\u001b[39m\u001b[39m{\u001b[39;00mdtype\u001b[39m}\u001b[39;00m\u001b[39m'\u001b[39m\u001b[39m not understood\u001b[39m\u001b[39m\"\u001b[39m) \u001b[39mfrom\u001b[39;00m \u001b[39merr\u001b[39;00m\n",
      "\u001b[0;31mTypeError\u001b[0m: Field elements must be 2- or 3-tuples, got ''string''"
     ]
    }
   ],
   "source": [
    "df[\"Ward\"].apply(extract_name_id)"
   ]
  },
  {
   "cell_type": "code",
   "execution_count": 30,
   "metadata": {},
   "outputs": [
    {
     "data": {
      "text/html": [
       "<div>\n",
       "<style scoped>\n",
       "    .dataframe tbody tr th:only-of-type {\n",
       "        vertical-align: middle;\n",
       "    }\n",
       "\n",
       "    .dataframe tbody tr th {\n",
       "        vertical-align: top;\n",
       "    }\n",
       "\n",
       "    .dataframe thead th {\n",
       "        text-align: right;\n",
       "    }\n",
       "</style>\n",
       "<table border=\"1\" class=\"dataframe\">\n",
       "  <thead>\n",
       "    <tr style=\"text-align: right;\">\n",
       "      <th></th>\n",
       "      <th>ward_name</th>\n",
       "      <th>ward_id</th>\n",
       "    </tr>\n",
       "  </thead>\n",
       "  <tbody>\n",
       "    <tr>\n",
       "      <th>0</th>\n",
       "      <td>Toronto-St. Paul's</td>\n",
       "      <td>12</td>\n",
       "    </tr>\n",
       "    <tr>\n",
       "      <th>1</th>\n",
       "      <td>Beaches-East York</td>\n",
       "      <td>19</td>\n",
       "    </tr>\n",
       "    <tr>\n",
       "      <th>2</th>\n",
       "      <td>Etobicoke-Lakeshore</td>\n",
       "      <td>3</td>\n",
       "    </tr>\n",
       "    <tr>\n",
       "      <th>3</th>\n",
       "      <td>Toronto-St. Paul's</td>\n",
       "      <td>12</td>\n",
       "    </tr>\n",
       "    <tr>\n",
       "      <th>4</th>\n",
       "      <td>Don Valley North</td>\n",
       "      <td>17</td>\n",
       "    </tr>\n",
       "    <tr>\n",
       "      <th>...</th>\n",
       "      <td>...</td>\n",
       "      <td>...</td>\n",
       "    </tr>\n",
       "    <tr>\n",
       "      <th>95</th>\n",
       "      <td>Davenport</td>\n",
       "      <td>9</td>\n",
       "    </tr>\n",
       "    <tr>\n",
       "      <th>96</th>\n",
       "      <td>Parkdale-High Park</td>\n",
       "      <td>4</td>\n",
       "    </tr>\n",
       "    <tr>\n",
       "      <th>97</th>\n",
       "      <td>Toronto-Danforth</td>\n",
       "      <td>14</td>\n",
       "    </tr>\n",
       "    <tr>\n",
       "      <th>98</th>\n",
       "      <td>Toronto-St. Paul's</td>\n",
       "      <td>12</td>\n",
       "    </tr>\n",
       "    <tr>\n",
       "      <th>99</th>\n",
       "      <td>Scarborough-Rouge Park</td>\n",
       "      <td>25</td>\n",
       "    </tr>\n",
       "  </tbody>\n",
       "</table>\n",
       "<p>100 rows × 2 columns</p>\n",
       "</div>"
      ],
      "text/plain": [
       "                 ward_name  ward_id\n",
       "0       Toronto-St. Paul's       12\n",
       "1        Beaches-East York       19\n",
       "2      Etobicoke-Lakeshore        3\n",
       "3       Toronto-St. Paul's       12\n",
       "4         Don Valley North       17\n",
       "..                     ...      ...\n",
       "95               Davenport        9\n",
       "96      Parkdale-High Park        4\n",
       "97        Toronto-Danforth       14\n",
       "98      Toronto-St. Paul's       12\n",
       "99  Scarborough-Rouge Park       25\n",
       "\n",
       "[100 rows x 2 columns]"
      ]
     },
     "execution_count": 30,
     "metadata": {},
     "output_type": "execute_result"
    }
   ],
   "source": [
    "df.apply(lambda row: extract_name_id(row[\"Ward\"]), result_type=\"expand\", axis=1)"
   ]
  },
  {
   "cell_type": "code",
   "execution_count": 43,
   "metadata": {},
   "outputs": [],
   "source": [
    "ward_ids = (\n",
    "    df[\"Ward\"].apply(extract_name_id).astype({\"ward_name\": \"string\", \"ward_id\": \"Int8\"})\n",
    ")\n",
    "df_drop = df.drop(columns=[\"Creation Date\", \"Ward\"]).astype(\"string\")"
   ]
  },
  {
   "cell_type": "code",
   "execution_count": 46,
   "metadata": {},
   "outputs": [
    {
     "data": {
      "text/html": [
       "<div>\n",
       "<style scoped>\n",
       "    .dataframe tbody tr th:only-of-type {\n",
       "        vertical-align: middle;\n",
       "    }\n",
       "\n",
       "    .dataframe tbody tr th {\n",
       "        vertical-align: top;\n",
       "    }\n",
       "\n",
       "    .dataframe thead th {\n",
       "        text-align: right;\n",
       "    }\n",
       "</style>\n",
       "<table border=\"1\" class=\"dataframe\">\n",
       "  <thead>\n",
       "    <tr style=\"text-align: right;\">\n",
       "      <th></th>\n",
       "      <th>Status</th>\n",
       "      <th>First 3 Chars of Postal Code</th>\n",
       "      <th>Intersection Street 1</th>\n",
       "      <th>Intersection Street 2</th>\n",
       "      <th>Service Request Type</th>\n",
       "      <th>Division</th>\n",
       "      <th>Section</th>\n",
       "      <th>creation_datetime</th>\n",
       "      <th>ward_name</th>\n",
       "      <th>ward_id</th>\n",
       "    </tr>\n",
       "  </thead>\n",
       "  <tbody>\n",
       "    <tr>\n",
       "      <th>0</th>\n",
       "      <td>Closed</td>\n",
       "      <td>Intersection</td>\n",
       "      <td>Chaplin Cres</td>\n",
       "      <td>Davisville Ave</td>\n",
       "      <td>INJUR/DIST DOMESTIC</td>\n",
       "      <td>Municipal Licensing &amp; Standards</td>\n",
       "      <td>Toronto Animal Services</td>\n",
       "      <td>2020-01-01 00:01:46</td>\n",
       "      <td>Toronto-St. Paul's</td>\n",
       "      <td>12</td>\n",
       "    </tr>\n",
       "    <tr>\n",
       "      <th>1</th>\n",
       "      <td>Closed</td>\n",
       "      <td>M4C</td>\n",
       "      <td>&lt;NA&gt;</td>\n",
       "      <td>&lt;NA&gt;</td>\n",
       "      <td>Sewer Service Line-Blocked</td>\n",
       "      <td>Toronto Water</td>\n",
       "      <td>District Ops</td>\n",
       "      <td>2020-01-01 01:36:56</td>\n",
       "      <td>Beaches-East York</td>\n",
       "      <td>19</td>\n",
       "    </tr>\n",
       "    <tr>\n",
       "      <th>2</th>\n",
       "      <td>Closed</td>\n",
       "      <td>M9A</td>\n",
       "      <td>&lt;NA&gt;</td>\n",
       "      <td>&lt;NA&gt;</td>\n",
       "      <td>ENF/INVEST MUZZLE</td>\n",
       "      <td>Municipal Licensing &amp; Standards</td>\n",
       "      <td>Toronto Animal Services</td>\n",
       "      <td>2020-01-01 02:42:16</td>\n",
       "      <td>Etobicoke-Lakeshore</td>\n",
       "      <td>3</td>\n",
       "    </tr>\n",
       "    <tr>\n",
       "      <th>3</th>\n",
       "      <td>Closed</td>\n",
       "      <td>M6C</td>\n",
       "      <td>&lt;NA&gt;</td>\n",
       "      <td>&lt;NA&gt;</td>\n",
       "      <td>Hydrant-Damage</td>\n",
       "      <td>Toronto Water</td>\n",
       "      <td>District Ops</td>\n",
       "      <td>2020-01-01 02:52:29</td>\n",
       "      <td>Toronto-St. Paul's</td>\n",
       "      <td>12</td>\n",
       "    </tr>\n",
       "    <tr>\n",
       "      <th>4</th>\n",
       "      <td>Closed</td>\n",
       "      <td>Intersection</td>\n",
       "      <td>Don Mills Rd</td>\n",
       "      <td>Sheppard Ave E</td>\n",
       "      <td>Traffic Signal Maintenance</td>\n",
       "      <td>Transportation Services</td>\n",
       "      <td>TMC</td>\n",
       "      <td>2020-01-01 02:56:34</td>\n",
       "      <td>Don Valley North</td>\n",
       "      <td>17</td>\n",
       "    </tr>\n",
       "  </tbody>\n",
       "</table>\n",
       "</div>"
      ],
      "text/plain": [
       "   Status First 3 Chars of Postal Code Intersection Street 1  \\\n",
       "0  Closed                 Intersection          Chaplin Cres   \n",
       "1  Closed                          M4C                  <NA>   \n",
       "2  Closed                          M9A                  <NA>   \n",
       "3  Closed                          M6C                  <NA>   \n",
       "4  Closed                 Intersection          Don Mills Rd   \n",
       "\n",
       "  Intersection Street 2        Service Request Type  \\\n",
       "0        Davisville Ave         INJUR/DIST DOMESTIC   \n",
       "1                  <NA>  Sewer Service Line-Blocked   \n",
       "2                  <NA>           ENF/INVEST MUZZLE   \n",
       "3                  <NA>              Hydrant-Damage   \n",
       "4        Sheppard Ave E  Traffic Signal Maintenance   \n",
       "\n",
       "                          Division                  Section  \\\n",
       "0  Municipal Licensing & Standards  Toronto Animal Services   \n",
       "1                    Toronto Water             District Ops   \n",
       "2  Municipal Licensing & Standards  Toronto Animal Services   \n",
       "3                    Toronto Water             District Ops   \n",
       "4          Transportation Services                      TMC   \n",
       "\n",
       "     creation_datetime            ward_name  ward_id  \n",
       "0  2020-01-01 00:01:46   Toronto-St. Paul's       12  \n",
       "1  2020-01-01 01:36:56    Beaches-East York       19  \n",
       "2  2020-01-01 02:42:16  Etobicoke-Lakeshore        3  \n",
       "3  2020-01-01 02:52:29   Toronto-St. Paul's       12  \n",
       "4  2020-01-01 02:56:34     Don Valley North       17  "
      ]
     },
     "execution_count": 46,
     "metadata": {},
     "output_type": "execute_result"
    }
   ],
   "source": [
    "df_union = pd.concat([df_drop, ward_ids], axis=1)\n",
    "df_union.head()"
   ]
  },
  {
   "cell_type": "code",
   "execution_count": 47,
   "metadata": {},
   "outputs": [
    {
     "data": {
      "text/plain": [
       "Status                          string\n",
       "First 3 Chars of Postal Code    string\n",
       "Intersection Street 1           string\n",
       "Intersection Street 2           string\n",
       "Service Request Type            string\n",
       "Division                        string\n",
       "Section                         string\n",
       "creation_datetime               string\n",
       "ward_name                       string\n",
       "ward_id                           Int8\n",
       "dtype: object"
      ]
     },
     "execution_count": 47,
     "metadata": {},
     "output_type": "execute_result"
    }
   ],
   "source": [
    "df_union.dtypes"
   ]
  },
  {
   "cell_type": "code",
   "execution_count": 39,
   "metadata": {},
   "outputs": [
    {
     "data": {
      "text/plain": [
       "Status                          string\n",
       "First 3 Chars of Postal Code    string\n",
       "Intersection Street 1           string\n",
       "Intersection Street 2           string\n",
       "Service Request Type            string\n",
       "Division                        string\n",
       "Section                         string\n",
       "ward_name                       object\n",
       "ward_id                           Int8\n",
       "dtype: object"
      ]
     },
     "execution_count": 39,
     "metadata": {},
     "output_type": "execute_result"
    }
   ],
   "source": [
    "df_union[\"ward_id\"] = df_union[\"ward_id\"].astype(\"Int8\")\n",
    "df_union.dtypes"
   ]
  },
  {
   "cell_type": "code",
   "execution_count": 62,
   "metadata": {},
   "outputs": [
    {
     "data": {
      "text/html": [
       "<div>\n",
       "<style scoped>\n",
       "    .dataframe tbody tr th:only-of-type {\n",
       "        vertical-align: middle;\n",
       "    }\n",
       "\n",
       "    .dataframe tbody tr th {\n",
       "        vertical-align: top;\n",
       "    }\n",
       "\n",
       "    .dataframe thead th {\n",
       "        text-align: right;\n",
       "    }\n",
       "</style>\n",
       "<table border=\"1\" class=\"dataframe\">\n",
       "  <thead>\n",
       "    <tr style=\"text-align: right;\">\n",
       "      <th></th>\n",
       "      <th>Status</th>\n",
       "      <th>First 3 Chars of Postal Code</th>\n",
       "      <th>Intersection Street 1</th>\n",
       "      <th>Intersection Street 2</th>\n",
       "      <th>Service Request Type</th>\n",
       "      <th>Division</th>\n",
       "      <th>Section</th>\n",
       "      <th>creation_datetime</th>\n",
       "      <th>ward_name</th>\n",
       "      <th>ward_id</th>\n",
       "    </tr>\n",
       "  </thead>\n",
       "  <tbody>\n",
       "    <tr>\n",
       "      <th>0</th>\n",
       "      <td>Closed</td>\n",
       "      <td>Intersection</td>\n",
       "      <td>Chaplin Cres</td>\n",
       "      <td>Davisville Ave</td>\n",
       "      <td>INJUR/DIST DOMESTIC</td>\n",
       "      <td>Municipal Licensing &amp; Standards</td>\n",
       "      <td>Toronto Animal Services</td>\n",
       "      <td>2020-01-01 00:01:46</td>\n",
       "      <td>Toronto-St. Paul's</td>\n",
       "      <td>12</td>\n",
       "    </tr>\n",
       "    <tr>\n",
       "      <th>1</th>\n",
       "      <td>Closed</td>\n",
       "      <td>M4C</td>\n",
       "      <td>&lt;NA&gt;</td>\n",
       "      <td>&lt;NA&gt;</td>\n",
       "      <td>Sewer Service Line-Blocked</td>\n",
       "      <td>Toronto Water</td>\n",
       "      <td>District Ops</td>\n",
       "      <td>2020-01-01 01:36:56</td>\n",
       "      <td>Beaches-East York</td>\n",
       "      <td>19</td>\n",
       "    </tr>\n",
       "    <tr>\n",
       "      <th>2</th>\n",
       "      <td>Closed</td>\n",
       "      <td>M9A</td>\n",
       "      <td>&lt;NA&gt;</td>\n",
       "      <td>&lt;NA&gt;</td>\n",
       "      <td>ENF/INVEST MUZZLE</td>\n",
       "      <td>Municipal Licensing &amp; Standards</td>\n",
       "      <td>Toronto Animal Services</td>\n",
       "      <td>2020-01-01 02:42:16</td>\n",
       "      <td>Etobicoke-Lakeshore</td>\n",
       "      <td>3</td>\n",
       "    </tr>\n",
       "    <tr>\n",
       "      <th>3</th>\n",
       "      <td>Closed</td>\n",
       "      <td>M6C</td>\n",
       "      <td>&lt;NA&gt;</td>\n",
       "      <td>&lt;NA&gt;</td>\n",
       "      <td>Hydrant-Damage</td>\n",
       "      <td>Toronto Water</td>\n",
       "      <td>District Ops</td>\n",
       "      <td>2020-01-01 02:52:29</td>\n",
       "      <td>Toronto-St. Paul's</td>\n",
       "      <td>12</td>\n",
       "    </tr>\n",
       "    <tr>\n",
       "      <th>4</th>\n",
       "      <td>Closed</td>\n",
       "      <td>Intersection</td>\n",
       "      <td>Don Mills Rd</td>\n",
       "      <td>Sheppard Ave E</td>\n",
       "      <td>Traffic Signal Maintenance</td>\n",
       "      <td>Transportation Services</td>\n",
       "      <td>TMC</td>\n",
       "      <td>2020-01-01 02:56:34</td>\n",
       "      <td>Don Valley North</td>\n",
       "      <td>17</td>\n",
       "    </tr>\n",
       "  </tbody>\n",
       "</table>\n",
       "</div>"
      ],
      "text/plain": [
       "   Status First 3 Chars of Postal Code Intersection Street 1  \\\n",
       "0  Closed                 Intersection          Chaplin Cres   \n",
       "1  Closed                          M4C                  <NA>   \n",
       "2  Closed                          M9A                  <NA>   \n",
       "3  Closed                          M6C                  <NA>   \n",
       "4  Closed                 Intersection          Don Mills Rd   \n",
       "\n",
       "  Intersection Street 2        Service Request Type  \\\n",
       "0        Davisville Ave         INJUR/DIST DOMESTIC   \n",
       "1                  <NA>  Sewer Service Line-Blocked   \n",
       "2                  <NA>           ENF/INVEST MUZZLE   \n",
       "3                  <NA>              Hydrant-Damage   \n",
       "4        Sheppard Ave E  Traffic Signal Maintenance   \n",
       "\n",
       "                          Division                  Section  \\\n",
       "0  Municipal Licensing & Standards  Toronto Animal Services   \n",
       "1                    Toronto Water             District Ops   \n",
       "2  Municipal Licensing & Standards  Toronto Animal Services   \n",
       "3                    Toronto Water             District Ops   \n",
       "4          Transportation Services                      TMC   \n",
       "\n",
       "     creation_datetime            ward_name  ward_id  \n",
       "0  2020-01-01 00:01:46   Toronto-St. Paul's       12  \n",
       "1  2020-01-01 01:36:56    Beaches-East York       19  \n",
       "2  2020-01-01 02:42:16  Etobicoke-Lakeshore        3  \n",
       "3  2020-01-01 02:52:29   Toronto-St. Paul's       12  \n",
       "4  2020-01-01 02:56:34     Don Valley North       17  "
      ]
     },
     "execution_count": 62,
     "metadata": {},
     "output_type": "execute_result"
    }
   ],
   "source": [
    "df_read = pd.read_parquet(\"../data/notebooks/SR2020.parquet\")\n",
    "df_read.head()"
   ]
  },
  {
   "cell_type": "code",
   "execution_count": 64,
   "metadata": {},
   "outputs": [
    {
     "data": {
      "text/plain": [
       "Status                          string\n",
       "First 3 Chars of Postal Code    string\n",
       "Intersection Street 1           string\n",
       "Intersection Street 2           string\n",
       "Service Request Type            string\n",
       "Division                        string\n",
       "Section                         string\n",
       "creation_datetime               string\n",
       "ward_name                       string\n",
       "ward_id                           Int8\n",
       "dtype: object"
      ]
     },
     "execution_count": 64,
     "metadata": {},
     "output_type": "execute_result"
    }
   ],
   "source": [
    "df_read.dtypes"
   ]
  },
  {
   "cell_type": "code",
   "execution_count": 65,
   "metadata": {},
   "outputs": [
    {
     "data": {
      "text/plain": [
       "Int8Dtype()"
      ]
     },
     "execution_count": 65,
     "metadata": {},
     "output_type": "execute_result"
    }
   ],
   "source": [
    "df_read[\"ward_id\"].dtype"
   ]
  },
  {
   "cell_type": "code",
   "execution_count": null,
   "metadata": {},
   "outputs": [],
   "source": []
  }
 ],
 "metadata": {
  "kernelspec": {
   "display_name": "to-service-l3wrSBTU-py3.10",
   "language": "python",
   "name": "python3"
  },
  "language_info": {
   "codemirror_mode": {
    "name": "ipython",
    "version": 3
   },
   "file_extension": ".py",
   "mimetype": "text/x-python",
   "name": "python",
   "nbconvert_exporter": "python",
   "pygments_lexer": "ipython3",
   "version": "3.10.6"
  },
  "orig_nbformat": 4,
  "vscode": {
   "interpreter": {
    "hash": "3d9741e4cb4eff483c55f8ecc2b17fa9cb86b2d97001e09e4ef7e1b2ba2238f6"
   }
  }
 },
 "nbformat": 4,
 "nbformat_minor": 2
}
