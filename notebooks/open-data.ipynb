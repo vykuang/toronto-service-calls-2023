{
 "cells": [
  {
   "attachments": {},
   "cell_type": "markdown",
   "metadata": {},
   "source": [
    "# Open Data Toronto\n",
    "\n",
    "Snippet taken from the [\"For Developers\" tab](https://open.toronto.ca/dataset/311-service-requests-customer-initiated/)"
   ]
  },
  {
   "cell_type": "code",
   "execution_count": 1,
   "metadata": {},
   "outputs": [
    {
     "name": "stdout",
     "output_type": "stream",
     "text": [
      "{'help': 'https://ckan0.cf.opendata.inter.prod-toronto.ca/api/3/action/help_show?name=resource_show', 'success': True, 'result': {'cache_last_updated': None, 'cache_url': None, 'created': '2019-07-23T16:30:17.170264', 'datastore_active': False, 'format': 'XLSX', 'hash': '', 'id': 'bb11ece8-a2b3-401a-92c0-fa115f867fff', 'is_datastore_cache_file': False, 'is_preview': False, 'last_modified': '2019-07-23T16:30:17.086581', 'metadata_modified': '2022-03-10T16:08:57.037006', 'mimetype': 'application/vnd.openxmlformats-officedocument.spreadsheetml.sheet', 'mimetype_inner': None, 'name': '311-service-requests-readme', 'package_id': '2e54bc0e-4399-4076-b717-351df5918ae7', 'position': 0, 'resource_type': None, 'revision_id': 'c93dcb0a-5b4d-4048-927b-143ab63e6f8c', 'size': 13487, 'state': 'active', 'url': 'https://ckan0.cf.opendata.inter.prod-toronto.ca/dataset/2e54bc0e-4399-4076-b717-351df5918ae7/resource/bb11ece8-a2b3-401a-92c0-fa115f867fff/download/311-service-requests-readme.xlsx', 'url_type': 'upload'}}\n",
      "{'help': 'https://ckan0.cf.opendata.inter.prod-toronto.ca/api/3/action/help_show?name=resource_show', 'success': True, 'result': {'cache_last_updated': None, 'cache_url': None, 'created': '2023-02-08T21:23:22.115333', 'datastore_active': False, 'extract_job': 'Airflow: upload_remote_files', 'format': 'ZIP', 'hash': '', 'id': '079766f3-815d-4257-8731-5ff6b0c84c13', 'is_preview': 'False', 'last_modified': '2023-03-08T21:00:12', 'metadata_modified': '2023-03-08T21:15:18.936462', 'mimetype': 'application/zip', 'mimetype_inner': None, 'name': '311 Service Requests 2023', 'package_id': '2e54bc0e-4399-4076-b717-351df5918ae7', 'position': 1, 'resource_type': None, 'size': 484447, 'state': 'active', 'url': 'https://ckan0.cf.opendata.inter.prod-toronto.ca/dataset/2e54bc0e-4399-4076-b717-351df5918ae7/resource/079766f3-815d-4257-8731-5ff6b0c84c13/download/sr2023.zip', 'url_type': 'upload'}}\n",
      "{'help': 'https://ckan0.cf.opendata.inter.prod-toronto.ca/api/3/action/help_show?name=resource_show', 'success': True, 'result': {'cache_last_updated': None, 'cache_url': None, 'created': '2023-02-08T21:23:18.888560', 'datastore_active': False, 'extract_job': 'Airflow: upload_remote_files', 'format': 'ZIP', 'hash': '', 'id': 'f00a3313-f074-463e-89a7-26563084fbef', 'is_preview': 'False', 'last_modified': '2023-02-08T21:00:13', 'metadata_modified': '2023-02-08T21:23:20.108798', 'mimetype': 'application/zip', 'mimetype_inner': None, 'name': '311 Service Requests 2022', 'package_id': '2e54bc0e-4399-4076-b717-351df5918ae7', 'position': 2, 'resource_type': None, 'size': 6160127, 'state': 'active', 'url': 'https://ckan0.cf.opendata.inter.prod-toronto.ca/dataset/2e54bc0e-4399-4076-b717-351df5918ae7/resource/f00a3313-f074-463e-89a7-26563084fbef/download/sr2022.zip', 'url_type': 'upload'}}\n",
      "{'help': 'https://ckan0.cf.opendata.inter.prod-toronto.ca/api/3/action/help_show?name=resource_show', 'success': True, 'result': {'cache_last_updated': None, 'cache_url': None, 'created': '2021-07-09T19:29:34.216521', 'datastore_active': False, 'format': 'ZIP', 'hash': '', 'id': '95145825-04b4-40d8-b883-9d114b5853c4', 'is_datastore_cache_file': False, 'is_preview': False, 'last_modified': None, 'metadata_modified': '2022-03-10T16:08:57.499562', 'mimetype': 'application/zip', 'mimetype_inner': None, 'name': '311 Service Requests 2021', 'package_id': '2e54bc0e-4399-4076-b717-351df5918ae7', 'position': 3, 'resource_type': None, 'revision_id': 'b8869abc-6faf-4f2c-9095-72a805cf8776', 'size': None, 'state': 'active', 'url': 'https://www.toronto.ca/data/311/opendata/servicerequest/SR2021.zip', 'url_type': None}}\n",
      "{'help': 'https://ckan0.cf.opendata.inter.prod-toronto.ca/api/3/action/help_show?name=resource_show', 'success': True, 'result': {'cache_last_updated': None, 'cache_url': None, 'created': '2020-02-18T16:34:18.839761', 'datastore_active': False, 'format': 'ZIP', 'hash': '', 'id': '04169bcc-860f-465d-b562-caab023b6f3c', 'is_datastore_cache_file': False, 'is_preview': False, 'last_modified': None, 'metadata_modified': '2022-03-10T16:08:58.069802', 'mimetype': 'application/zip', 'mimetype_inner': None, 'name': '311 service requests 2020', 'package_id': '2e54bc0e-4399-4076-b717-351df5918ae7', 'position': 4, 'resource_type': None, 'revision_id': 'eefbfc41-cff2-4cae-b18d-1fab5abacd50', 'size': None, 'state': 'active', 'url': 'https://www.toronto.ca/data/311/opendata/servicerequest/SR2020.zip', 'url_type': None}}\n",
      "{'help': 'https://ckan0.cf.opendata.inter.prod-toronto.ca/api/3/action/help_show?name=resource_show', 'success': True, 'result': {'cache_last_updated': None, 'cache_url': None, 'created': '2019-07-23T16:30:14.083800', 'datastore_active': False, 'format': 'ZIP', 'hash': '', 'id': '120c0545-0a03-4ab0-ab08-f149d4ca61fc', 'is_datastore_cache_file': False, 'is_preview': False, 'last_modified': '2019-07-23T16:30:13.999061', 'metadata_modified': '2022-03-10T16:08:58.600698', 'mimetype': 'application/zip', 'mimetype_inner': None, 'name': '311-service-requests-2019', 'package_id': '2e54bc0e-4399-4076-b717-351df5918ae7', 'position': 5, 'resource_type': None, 'revision_id': 'eefbfc41-cff2-4cae-b18d-1fab5abacd50', 'size': 1099454, 'state': 'active', 'url': 'https://www.toronto.ca/data/311/opendata/servicerequest/SR2019.zip', 'url_type': ''}}\n",
      "{'help': 'https://ckan0.cf.opendata.inter.prod-toronto.ca/api/3/action/help_show?name=resource_show', 'success': True, 'result': {'cache_last_updated': None, 'cache_url': None, 'created': '2019-07-23T16:30:12.251317', 'datastore_active': False, 'format': 'ZIP', 'hash': '', 'id': '5cce361d-35af-4251-802e-1b1ea1306a07', 'is_datastore_cache_file': False, 'is_preview': False, 'last_modified': '2019-07-23T16:30:12.172484', 'metadata_modified': '2022-03-10T16:09:06.232160', 'mimetype': 'application/zip', 'mimetype_inner': None, 'name': '311-service-requests-2018', 'package_id': '2e54bc0e-4399-4076-b717-351df5918ae7', 'position': 6, 'resource_type': None, 'revision_id': 'eefbfc41-cff2-4cae-b18d-1fab5abacd50', 'size': 6026958, 'state': 'active', 'url': 'https://ckan0.cf.opendata.inter.prod-toronto.ca/dataset/2e54bc0e-4399-4076-b717-351df5918ae7/resource/5cce361d-35af-4251-802e-1b1ea1306a07/download/311-service-requests-2018.zip', 'url_type': 'upload'}}\n",
      "{'help': 'https://ckan0.cf.opendata.inter.prod-toronto.ca/api/3/action/help_show?name=resource_show', 'success': True, 'result': {'cache_last_updated': None, 'cache_url': None, 'created': '2019-07-23T16:30:08.718412', 'datastore_active': False, 'format': 'ZIP', 'hash': '', 'id': '0b45485e-690d-425b-a69b-8b8c4f039f2b', 'is_datastore_cache_file': False, 'is_preview': False, 'last_modified': '2019-07-23T16:30:08.635236', 'metadata_modified': '2022-03-10T16:09:13.742719', 'mimetype': 'application/zip', 'mimetype_inner': None, 'name': '311-service-requests-2017', 'package_id': '2e54bc0e-4399-4076-b717-351df5918ae7', 'position': 7, 'resource_type': None, 'revision_id': 'eefbfc41-cff2-4cae-b18d-1fab5abacd50', 'size': 5991416, 'state': 'active', 'url': 'https://ckan0.cf.opendata.inter.prod-toronto.ca/dataset/2e54bc0e-4399-4076-b717-351df5918ae7/resource/0b45485e-690d-425b-a69b-8b8c4f039f2b/download/311-service-requests-2017.zip', 'url_type': 'upload'}}\n",
      "{'help': 'https://ckan0.cf.opendata.inter.prod-toronto.ca/api/3/action/help_show?name=resource_show', 'success': True, 'result': {'cache_last_updated': None, 'cache_url': None, 'created': '2019-07-23T16:30:05.357395', 'datastore_active': False, 'format': 'ZIP', 'hash': '', 'id': '4c6f5bed-5e7f-41c9-95c0-7181e048cdcf', 'is_datastore_cache_file': False, 'is_preview': False, 'last_modified': '2019-07-23T16:30:05.287481', 'metadata_modified': '2022-03-10T16:09:21.940620', 'mimetype': 'application/zip', 'mimetype_inner': None, 'name': '311-service-requests-2016', 'package_id': '2e54bc0e-4399-4076-b717-351df5918ae7', 'position': 8, 'resource_type': None, 'revision_id': 'eefbfc41-cff2-4cae-b18d-1fab5abacd50', 'size': 6062050, 'state': 'active', 'url': 'https://ckan0.cf.opendata.inter.prod-toronto.ca/dataset/2e54bc0e-4399-4076-b717-351df5918ae7/resource/4c6f5bed-5e7f-41c9-95c0-7181e048cdcf/download/311-service-requests-2016.zip', 'url_type': 'upload'}}\n",
      "{'help': 'https://ckan0.cf.opendata.inter.prod-toronto.ca/api/3/action/help_show?name=resource_show', 'success': True, 'result': {'cache_last_updated': None, 'cache_url': None, 'created': '2019-07-23T16:30:01.921858', 'datastore_active': False, 'format': 'ZIP', 'hash': '', 'id': 'e33b6300-8899-4f73-8ed0-febe10cbce92', 'is_datastore_cache_file': False, 'is_preview': False, 'last_modified': '2019-07-23T16:30:01.847306', 'metadata_modified': '2022-03-10T16:09:29.924193', 'mimetype': 'application/zip', 'mimetype_inner': None, 'name': '311-service-requests-2015', 'package_id': '2e54bc0e-4399-4076-b717-351df5918ae7', 'position': 9, 'resource_type': None, 'revision_id': 'eefbfc41-cff2-4cae-b18d-1fab5abacd50', 'size': 6601990, 'state': 'active', 'url': 'https://ckan0.cf.opendata.inter.prod-toronto.ca/dataset/2e54bc0e-4399-4076-b717-351df5918ae7/resource/e33b6300-8899-4f73-8ed0-febe10cbce92/download/311-service-requests-2015.zip', 'url_type': 'upload'}}\n",
      "{'help': 'https://ckan0.cf.opendata.inter.prod-toronto.ca/api/3/action/help_show?name=resource_show', 'success': True, 'result': {'cache_last_updated': None, 'cache_url': None, 'created': '2019-07-23T16:29:58.468186', 'datastore_active': False, 'format': 'ZIP', 'hash': '', 'id': 'de039d83-15fe-4a22-ad84-b0389a8c04d9', 'is_datastore_cache_file': False, 'is_preview': False, 'last_modified': '2019-07-23T16:29:58.395105', 'metadata_modified': '2022-03-10T16:09:38.953881', 'mimetype': 'application/zip', 'mimetype_inner': None, 'name': '311-service-requests-2014', 'package_id': '2e54bc0e-4399-4076-b717-351df5918ae7', 'position': 10, 'resource_type': None, 'revision_id': 'eefbfc41-cff2-4cae-b18d-1fab5abacd50', 'size': 6521779, 'state': 'active', 'url': 'https://ckan0.cf.opendata.inter.prod-toronto.ca/dataset/2e54bc0e-4399-4076-b717-351df5918ae7/resource/de039d83-15fe-4a22-ad84-b0389a8c04d9/download/311-service-requests-2014.zip', 'url_type': 'upload'}}\n",
      "{'help': 'https://ckan0.cf.opendata.inter.prod-toronto.ca/api/3/action/help_show?name=resource_show', 'success': True, 'result': {'cache_last_updated': None, 'cache_url': None, 'created': '2019-07-23T16:29:54.875447', 'datastore_active': False, 'format': 'ZIP', 'hash': '', 'id': 'ddd49c44-e32f-4b9c-8053-39e0398ae665', 'is_datastore_cache_file': False, 'is_preview': False, 'last_modified': '2019-07-23T16:29:54.800765', 'metadata_modified': '2022-03-10T16:09:46.295567', 'mimetype': 'application/zip', 'mimetype_inner': None, 'name': '311-service-requests-2013', 'package_id': '2e54bc0e-4399-4076-b717-351df5918ae7', 'position': 11, 'resource_type': None, 'revision_id': 'eefbfc41-cff2-4cae-b18d-1fab5abacd50', 'size': 5535986, 'state': 'active', 'url': 'https://ckan0.cf.opendata.inter.prod-toronto.ca/dataset/2e54bc0e-4399-4076-b717-351df5918ae7/resource/ddd49c44-e32f-4b9c-8053-39e0398ae665/download/311-service-requests-2013.zip', 'url_type': 'upload'}}\n",
      "{'help': 'https://ckan0.cf.opendata.inter.prod-toronto.ca/api/3/action/help_show?name=resource_show', 'success': True, 'result': {'cache_last_updated': None, 'cache_url': None, 'created': '2019-07-23T16:29:51.641068', 'datastore_active': False, 'format': 'ZIP', 'hash': '', 'id': '5f0fd6dc-401d-422d-965d-f55cc98ec3f1', 'is_datastore_cache_file': False, 'is_preview': False, 'last_modified': '2019-07-23T16:29:51.559719', 'metadata_modified': '2022-03-10T16:09:52.712163', 'mimetype': 'application/zip', 'mimetype_inner': None, 'name': '311-service-requests-2012', 'package_id': '2e54bc0e-4399-4076-b717-351df5918ae7', 'position': 12, 'resource_type': None, 'revision_id': 'eefbfc41-cff2-4cae-b18d-1fab5abacd50', 'size': 4321731, 'state': 'active', 'url': 'https://ckan0.cf.opendata.inter.prod-toronto.ca/dataset/2e54bc0e-4399-4076-b717-351df5918ae7/resource/5f0fd6dc-401d-422d-965d-f55cc98ec3f1/download/311-service-requests-2012.zip', 'url_type': 'upload'}}\n",
      "{'help': 'https://ckan0.cf.opendata.inter.prod-toronto.ca/api/3/action/help_show?name=resource_show', 'success': True, 'result': {'cache_last_updated': None, 'cache_url': None, 'created': '2019-07-23T16:29:48.683948', 'datastore_active': False, 'format': 'ZIP', 'hash': '', 'id': 'c98df60e-530c-4e3d-a0c9-d21f0af350c9', 'is_datastore_cache_file': False, 'is_preview': False, 'last_modified': '2019-07-23T16:29:48.613739', 'metadata_modified': '2022-03-10T16:09:58.516934', 'mimetype': 'application/zip', 'mimetype_inner': None, 'name': '311-service-requests-2011', 'package_id': '2e54bc0e-4399-4076-b717-351df5918ae7', 'position': 13, 'resource_type': None, 'revision_id': 'eefbfc41-cff2-4cae-b18d-1fab5abacd50', 'size': 4010842, 'state': 'active', 'url': 'https://ckan0.cf.opendata.inter.prod-toronto.ca/dataset/2e54bc0e-4399-4076-b717-351df5918ae7/resource/c98df60e-530c-4e3d-a0c9-d21f0af350c9/download/311-service-requests-2011.zip', 'url_type': 'upload'}}\n",
      "{'help': 'https://ckan0.cf.opendata.inter.prod-toronto.ca/api/3/action/help_show?name=resource_show', 'success': True, 'result': {'cache_last_updated': None, 'cache_url': None, 'created': '2019-07-23T16:29:45.771392', 'datastore_active': False, 'format': 'ZIP', 'hash': '', 'id': 'e256aa93-1c8e-4b2e-ba63-a269081b3f55', 'is_datastore_cache_file': False, 'is_preview': False, 'last_modified': '2019-07-23T16:29:45.715180', 'metadata_modified': '2022-03-10T16:10:03.611349', 'mimetype': 'application/zip', 'mimetype_inner': None, 'name': '311-service-requests-2010', 'package_id': '2e54bc0e-4399-4076-b717-351df5918ae7', 'position': 14, 'resource_type': None, 'revision_id': 'eefbfc41-cff2-4cae-b18d-1fab5abacd50', 'size': 3526598, 'state': 'active', 'url': 'https://ckan0.cf.opendata.inter.prod-toronto.ca/dataset/2e54bc0e-4399-4076-b717-351df5918ae7/resource/e256aa93-1c8e-4b2e-ba63-a269081b3f55/download/311-service-requests-2010.zip', 'url_type': 'upload'}}\n"
     ]
    }
   ],
   "source": [
    "import requests\n",
    "\n",
    "# Toronto Open Data is stored in a CKAN instance. It's APIs are documented here:\n",
    "# https://docs.ckan.org/en/latest/api/\n",
    "\n",
    "# To hit our API, you'll be making requests to:\n",
    "base_url = \"https://ckan0.cf.opendata.inter.prod-toronto.ca\"\n",
    "\n",
    "# Datasets are called \"packages\". Each package can contain many \"resources\"\n",
    "# To retrieve the metadata for this package and its resources, use the package name in this page's URL:\n",
    "url = base_url + \"/api/3/action/package_show\"\n",
    "params = { \"id\": \"311-service-requests-customer-initiated\"}\n",
    "package = requests.get(url, params = params).json()\n",
    "\n",
    "# To get resource data:\n",
    "for idx, resource in enumerate(package[\"result\"][\"resources\"]):\n",
    "\n",
    "       # To get metadata for non datastore_active resources:\n",
    "       if not resource[\"datastore_active\"]:\n",
    "           url = base_url + \"/api/3/action/resource_show?id=\" + resource[\"id\"]\n",
    "           resource_metadata = requests.get(url).json()\n",
    "           print(resource_metadata)\n",
    "           # From here, you can use the \"url\" attribute to download this file\n"
   ]
  },
  {
   "cell_type": "code",
   "execution_count": null,
   "metadata": {},
   "outputs": [],
   "source": []
  }
 ],
 "metadata": {
  "kernelspec": {
   "display_name": "to-service-l3wrSBTU-py3.10",
   "language": "python",
   "name": "python3"
  },
  "language_info": {
   "codemirror_mode": {
    "name": "ipython",
    "version": 3
   },
   "file_extension": ".py",
   "mimetype": "text/x-python",
   "name": "python",
   "nbconvert_exporter": "python",
   "pygments_lexer": "ipython3",
   "version": "3.10.6"
  },
  "orig_nbformat": 4,
  "vscode": {
   "interpreter": {
    "hash": "3d9741e4cb4eff483c55f8ecc2b17fa9cb86b2d97001e09e4ef7e1b2ba2238f6"
   }
  }
 },
 "nbformat": 4,
 "nbformat_minor": 2
}
