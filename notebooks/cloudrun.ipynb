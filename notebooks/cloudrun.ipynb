{
 "cells": [
  {
   "cell_type": "code",
   "execution_count": 1,
   "metadata": {},
   "outputs": [],
   "source": [
    "from google.cloud import run_v2"
   ]
  },
  {
   "cell_type": "code",
   "execution_count": 2,
   "metadata": {},
   "outputs": [],
   "source": [
    "GOOGLE_CLOUD_PROJECT = \"service-calls-dev\"\n",
    "LOCATION = \"us-west1\"\n",
    "ARTIFACT_REPO = \"task-containers\""
   ]
  },
  {
   "cell_type": "code",
   "execution_count": 3,
   "metadata": {},
   "outputs": [],
   "source": [
    "def create_job(client: run_v2.JobsClient, job_id: str):\n",
    "    job = run_v2.Job()\n",
    "\n",
    "    request = run_v2.CreateJobRequest(\n",
    "        parent=f\"projects/{GOOGLE_CLOUD_PROJECT}/locations/{LOCATION}\",\n",
    "        job=job,\n",
    "        job_id=job_id,\n",
    "    )\n",
    "\n",
    "    op = client.create_job(request=request)\n",
    "    return op.result()"
   ]
  },
  {
   "cell_type": "code",
   "execution_count": 8,
   "metadata": {},
   "outputs": [],
   "source": [
    "def update_cloud_run(\n",
    "    client: run_v2.JobsClient,\n",
    "    job_id: str,\n",
    "    bucket_name: str,\n",
    "    dataset_name: str,\n",
    "    year: int,\n",
    "    overwrite: bool = True,\n",
    "    test: bool = False,\n",
    "):\n",
    "    \"\"\"\n",
    "    Updates cloud run job config\n",
    "    \"\"\"\n",
    "    # Initialize request argument(s)\n",
    "    new_envs = [\n",
    "        run_v2.EnvVar(name=\"var\", value=\"newbatch\")\n",
    "    ]\n",
    "    # the below boilerplate was necessary to properly encapsulate \"new_envs\"\n",
    "    if \"job\" in job_id.lower():\n",
    "        # leaving command blank uses default container entrypoint\n",
    "        # command = [\"run\"]\n",
    "        args = [\"run\", \"--is_test\", str(test)]\n",
    "    else:\n",
    "        # command=[\"python3\", \"cloudrun_elt.py\"]\n",
    "        args = [\n",
    "            \"--bucket_name\",\n",
    "            str(bucket_name),\n",
    "            \"--dataset_name\",\n",
    "            str(dataset_name),\n",
    "            \"--year\",\n",
    "            str(year),\n",
    "            \"--overwrite\",\n",
    "            str(overwrite),\n",
    "            \"--test\",\n",
    "            str(test),\n",
    "        ]\n",
    "    container = run_v2.Container(\n",
    "        image=f\"{LOCATION}-docker.pkg.dev/{GOOGLE_CLOUD_PROJECT}/{ARTIFACT_REPO}/agent:test\",\n",
    "        # command=command,\n",
    "        args=args,\n",
    "        env=new_envs,\n",
    "    )\n",
    "    task_template = run_v2.TaskTemplate(\n",
    "        containers=[container],\n",
    "        max_retries=3,\n",
    "    )\n",
    "    execution_template = run_v2.ExecutionTemplate(\n",
    "        task_count=1,\n",
    "        template=task_template,\n",
    "    )\n",
    "    job = run_v2.Job(\n",
    "        name=f\"projects/{GOOGLE_CLOUD_PROJECT}/locations/{LOCATION}/jobs/{job_id}\",\n",
    "        template=execution_template,\n",
    "    )\n",
    "    # job.template.template.max_retries = 3\n",
    "    # job.template.template.containers.env = envs\n",
    "\n",
    "    # instantiate updatejobrequest\n",
    "    request = run_v2.UpdateJobRequest(job=job)\n",
    "\n",
    "    # send the request\n",
    "    operation = client.update_job(request=request)\n",
    "\n",
    "    print(\"Waiting for operation to complete...\")\n",
    "\n",
    "    return operation.result()"
   ]
  },
  {
   "cell_type": "code",
   "execution_count": 9,
   "metadata": {},
   "outputs": [
    {
     "name": "stdout",
     "output_type": "stream",
     "text": [
      "Waiting for operation to complete...\n"
     ]
    }
   ],
   "source": [
    "client = run_v2.JobsClient()\n",
    "job_id = \"agent\"\n",
    "resp = update_cloud_run(\n",
    "    client,\n",
    "    job_id,\n",
    "    bucket_name=\"bigger-buck\",\n",
    "    dataset_name=\"bigger-data\",\n",
    "    year=2011,\n",
    ")"
   ]
  },
  {
   "cell_type": "code",
   "execution_count": 4,
   "metadata": {},
   "outputs": [
    {
     "ename": "NameError",
     "evalue": "name 'client' is not defined",
     "output_type": "error",
     "traceback": [
      "\u001b[0;31m---------------------------------------------------------------------------\u001b[0m",
      "\u001b[0;31mNameError\u001b[0m                                 Traceback (most recent call last)",
      "Cell \u001b[0;32mIn[4], line 3\u001b[0m\n\u001b[1;32m      1\u001b[0m job_id \u001b[39m=\u001b[39m \u001b[39m\"\u001b[39m\u001b[39mjob\u001b[39m\u001b[39m\"\u001b[39m  \u001b[39m# trigger alternate command/args\u001b[39;00m\n\u001b[1;32m      2\u001b[0m resp \u001b[39m=\u001b[39m update_cloud_run(\n\u001b[0;32m----> 3\u001b[0m     client,\n\u001b[1;32m      4\u001b[0m     job_id,\n\u001b[1;32m      5\u001b[0m     bucket_name\u001b[39m=\u001b[39m\u001b[39m\"\u001b[39m\u001b[39mdbt-bucketer\u001b[39m\u001b[39m\"\u001b[39m,\n\u001b[1;32m      6\u001b[0m     dataset_name\u001b[39m=\u001b[39m\u001b[39m\"\u001b[39m\u001b[39mdbt-dataseter\u001b[39m\u001b[39m\"\u001b[39m,\n\u001b[1;32m      7\u001b[0m     year\u001b[39m=\u001b[39m\u001b[39m2011\u001b[39m,\n\u001b[1;32m      8\u001b[0m )\n",
      "\u001b[0;31mNameError\u001b[0m: name 'client' is not defined"
     ]
    }
   ],
   "source": [
    "job_id = \"job\"  # trigger alternate command/args\n",
    "resp = update_cloud_run(\n",
    "    client,\n",
    "    job_id,\n",
    "    bucket_name=\"dbt-bucketer\",\n",
    "    dataset_name=\"dbt-dataseter\",\n",
    "    year=2011,\n",
    ")"
   ]
  },
  {
   "cell_type": "code",
   "execution_count": 20,
   "metadata": {},
   "outputs": [
    {
     "data": {
      "text/plain": [
       "'True'"
      ]
     },
     "execution_count": 20,
     "metadata": {},
     "output_type": "execute_result"
    }
   ],
   "source": [
    "foo = True\n",
    "str(foo)"
   ]
  },
  {
   "cell_type": "code",
   "execution_count": 23,
   "metadata": {},
   "outputs": [
    {
     "data": {
      "text/plain": [
       "name: \"projects/service-calls-dev/locations/us-west1/jobs/agent\"\n",
       "uid: \"b097275b-7fd1-4405-956d-191ff789eb22\"\n",
       "generation: 5\n",
       "create_time {\n",
       "  seconds: 1686977199\n",
       "  nanos: 229650000\n",
       "}\n",
       "update_time {\n",
       "  seconds: 1687224412\n",
       "  nanos: 564605000\n",
       "}\n",
       "launch_stage: GA\n",
       "template {\n",
       "  task_count: 1\n",
       "  template {\n",
       "    containers {\n",
       "      image: \"us-west1-docker.pkg.dev/service-calls-dev/task-containers/agent:test\"\n",
       "      command: \"python3\"\n",
       "      command: \"main.py\"\n",
       "      args: \"--bucket_name\"\n",
       "      args: \"my-buck4\"\n",
       "      args: \"--dataset_name\"\n",
       "      args: \"models4\"\n",
       "      args: \"--year\"\n",
       "      args: \"2017\"\n",
       "      args: \"--overwrite\"\n",
       "      args: \"True\"\n",
       "      args: \"--test\"\n",
       "      args: \"False\"\n",
       "      env {\n",
       "        name: \"var\"\n",
       "        value: \"newbatch\"\n",
       "      }\n",
       "      resources {\n",
       "        limits {\n",
       "          key: \"memory\"\n",
       "          value: \"512Mi\"\n",
       "        }\n",
       "        limits {\n",
       "          key: \"cpu\"\n",
       "          value: \"1000m\"\n",
       "        }\n",
       "      }\n",
       "    }\n",
       "    max_retries: 3\n",
       "    timeout {\n",
       "      seconds: 600\n",
       "    }\n",
       "    service_account: \"23753207316-compute@developer.gserviceaccount.com\"\n",
       "    execution_environment: EXECUTION_ENVIRONMENT_GEN2\n",
       "  }\n",
       "}\n",
       "observed_generation: 5\n",
       "terminal_condition {\n",
       "  type_: \"Ready\"\n",
       "  state: CONDITION_SUCCEEDED\n",
       "  last_transition_time {\n",
       "    seconds: 1686977199\n",
       "    nanos: 355661000\n",
       "  }\n",
       "}\n",
       "execution_count: 1\n",
       "latest_created_execution {\n",
       "  name: \"agent-cxp7z\"\n",
       "  create_time {\n",
       "    seconds: 1686977220\n",
       "    nanos: 749950000\n",
       "  }\n",
       "  completion_time {\n",
       "    seconds: 1686977238\n",
       "    nanos: 641930000\n",
       "  }\n",
       "}\n",
       "etag: \"\\\"CNyAxKQGEMjgnI0C/cHJvamVjdHMvc2VydmljZS1jYWxscy1kZXYvbG9jYXRpb25zL3VzLXdlc3QxL2pvYnMvYWdlbnQ\\\"\""
      ]
     },
     "execution_count": 23,
     "metadata": {},
     "output_type": "execute_result"
    }
   ],
   "source": [
    "resp"
   ]
  },
  {
   "cell_type": "code",
   "execution_count": 24,
   "metadata": {},
   "outputs": [
    {
     "data": {
      "text/plain": [
       "google.cloud.run_v2.types.job.Job"
      ]
     },
     "execution_count": 24,
     "metadata": {},
     "output_type": "execute_result"
    }
   ],
   "source": [
    "type(resp)"
   ]
  },
  {
   "cell_type": "code",
   "execution_count": 29,
   "metadata": {},
   "outputs": [
    {
     "data": {
      "text/plain": [
       "['observed_generation',\n",
       " 'generation',\n",
       " 'update_time',\n",
       " 'terminal_condition',\n",
       " 'template',\n",
       " 'reconciling',\n",
       " 'conditions',\n",
       " 'launch_stage',\n",
       " 'uid',\n",
       " 'annotations',\n",
       " 'LabelsEntry',\n",
       " 'last_modifier',\n",
       " 'etag',\n",
       " 'delete_time',\n",
       " 'labels',\n",
       " 'expire_time',\n",
       " 'name',\n",
       " 'create_time',\n",
       " 'satisfies_pzs',\n",
       " 'client',\n",
       " 'client_version',\n",
       " 'binary_authorization',\n",
       " 'latest_created_execution',\n",
       " 'creator',\n",
       " 'AnnotationsEntry',\n",
       " 'execution_count']"
      ]
     },
     "execution_count": 29,
     "metadata": {},
     "output_type": "execute_result"
    }
   ],
   "source": [
    "[att for att in resp.__dir__() if \"__\" not in att]"
   ]
  },
  {
   "cell_type": "code",
   "execution_count": 10,
   "metadata": {},
   "outputs": [
    {
     "data": {
      "text/plain": [
       "containers {\n",
       "  image: \"us-west1-docker.pkg.dev/service-calls-dev/task-containers/agent:test\"\n",
       "  args: \"--bucket_name\"\n",
       "  args: \"bigger-buck\"\n",
       "  args: \"--dataset_name\"\n",
       "  args: \"bigger-data\"\n",
       "  args: \"--year\"\n",
       "  args: \"2011\"\n",
       "  args: \"--overwrite\"\n",
       "  args: \"True\"\n",
       "  args: \"--test\"\n",
       "  args: \"False\"\n",
       "  env {\n",
       "    name: \"var\"\n",
       "    value: \"newbatch\"\n",
       "  }\n",
       "  resources {\n",
       "    limits {\n",
       "      key: \"memory\"\n",
       "      value: \"512Mi\"\n",
       "    }\n",
       "    limits {\n",
       "      key: \"cpu\"\n",
       "      value: \"1000m\"\n",
       "    }\n",
       "  }\n",
       "}\n",
       "max_retries: 3\n",
       "timeout {\n",
       "  seconds: 600\n",
       "}\n",
       "service_account: \"23753207316-compute@developer.gserviceaccount.com\"\n",
       "execution_environment: EXECUTION_ENVIRONMENT_GEN2"
      ]
     },
     "execution_count": 10,
     "metadata": {},
     "output_type": "execute_result"
    }
   ],
   "source": [
    "resp.template.template"
   ]
  },
  {
   "cell_type": "code",
   "execution_count": 15,
   "metadata": {},
   "outputs": [
    {
     "data": {
      "text/plain": [
       "[image: \"us-west1-docker.pkg.dev/service-calls-dev/task-containers/agent:test\"\n",
       "args: \"--bucket_name\"\n",
       "args: \"bigger-buck\"\n",
       "args: \"--dataset_name\"\n",
       "args: \"bigger-data\"\n",
       "args: \"--year\"\n",
       "args: \"2011\"\n",
       "args: \"--overwrite\"\n",
       "args: \"True\"\n",
       "args: \"--test\"\n",
       "args: \"False\"\n",
       "env {\n",
       "  name: \"var\"\n",
       "  value: \"newbatch\"\n",
       "}\n",
       "resources {\n",
       "  limits {\n",
       "    key: \"memory\"\n",
       "    value: \"512Mi\"\n",
       "  }\n",
       "  limits {\n",
       "    key: \"cpu\"\n",
       "    value: \"1000m\"\n",
       "  }\n",
       "}\n",
       "]"
      ]
     },
     "execution_count": 15,
     "metadata": {},
     "output_type": "execute_result"
    }
   ],
   "source": [
    "# type: proto.marshal.collections.repeated.RepeatedComposite\n",
    "# list of containers. select the first to get the inside\n",
    "resp.template.template.containers"
   ]
  },
  {
   "cell_type": "code",
   "execution_count": 23,
   "metadata": {},
   "outputs": [
    {
     "data": {
      "text/plain": [
       "'var'"
      ]
     },
     "execution_count": 23,
     "metadata": {},
     "output_type": "execute_result"
    }
   ],
   "source": [
    "resp.template.template.containers[0].env[0].name"
   ]
  },
  {
   "cell_type": "code",
   "execution_count": 36,
   "metadata": {},
   "outputs": [
    {
     "data": {
      "text/plain": [
       "[name: \"VAR0\"\n",
       " value: \"0\",\n",
       " name: \"VAR1\"\n",
       " value: \"1\",\n",
       " name: \"VAR2\"\n",
       " value: \"2\"]"
      ]
     },
     "execution_count": 36,
     "metadata": {},
     "output_type": "execute_result"
    }
   ],
   "source": [
    "[run_v2.EnvVar(name=str(f\"VAR{i}\"), value=(str(i))) for i in range(3)]"
   ]
  },
  {
   "cell_type": "code",
   "execution_count": null,
   "metadata": {},
   "outputs": [],
   "source": []
  }
 ],
 "metadata": {
  "kernelspec": {
   "display_name": "to-service-2M0TdnpI-py3.10",
   "language": "python",
   "name": "python3"
  },
  "language_info": {
   "codemirror_mode": {
    "name": "ipython",
    "version": 3
   },
   "file_extension": ".py",
   "mimetype": "text/x-python",
   "name": "python",
   "nbconvert_exporter": "python",
   "pygments_lexer": "ipython3",
   "version": "3.10.6"
  },
  "orig_nbformat": 4
 },
 "nbformat": 4,
 "nbformat_minor": 2
}
