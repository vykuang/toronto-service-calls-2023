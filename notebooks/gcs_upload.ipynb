{
 "cells": [
  {
   "attachments": {},
   "cell_type": "markdown",
   "metadata": {},
   "source": [
    "# Fetch testing\n",
    "\n",
    "Testing ground for `fetch.py` script"
   ]
  },
  {
   "cell_type": "code",
   "execution_count": 1,
   "metadata": {},
   "outputs": [],
   "source": [
    "import os"
   ]
  },
  {
   "cell_type": "code",
   "execution_count": 9,
   "metadata": {},
   "outputs": [
    {
     "data": {
      "text/plain": [
       "'gs://service-calls-data-lake/calls.csv'"
      ]
     },
     "execution_count": 9,
     "metadata": {},
     "output_type": "execute_result"
    }
   ],
   "source": [
    "bucket_url = \"gs://service-calls-data-lake\"\n",
    "fname = \"calls.csv\"\n",
    "csvpath = os.path.join(bucket_url, fname)\n",
    "csvpath"
   ]
  },
  {
   "attachments": {},
   "cell_type": "markdown",
   "metadata": {},
   "source": [
    "Test whether gcs object exists"
   ]
  },
  {
   "cell_type": "code",
   "execution_count": 8,
   "metadata": {},
   "outputs": [],
   "source": [
    "from pathlib import Path"
   ]
  },
  {
   "cell_type": "code",
   "execution_count": 7,
   "metadata": {},
   "outputs": [],
   "source": [
    "from google.cloud.storage import Client, Blob"
   ]
  },
  {
   "cell_type": "code",
   "execution_count": 4,
   "metadata": {},
   "outputs": [],
   "source": [
    "gcs = Client(project=\"de-zoom-83\")"
   ]
  },
  {
   "cell_type": "code",
   "execution_count": 6,
   "metadata": {},
   "outputs": [
    {
     "name": "stdout",
     "output_type": "stream",
     "text": [
      "<Bucket: dataproc-staging-us-west1-861494848006-wheyfjcm>\n",
      "<Bucket: dataproc-temp-us-west1-861494848006-o2e0uj5a>\n",
      "<Bucket: de-zoom-prefect>\n",
      "<Bucket: dtc_data_lake_de-zoom-83>\n",
      "<Bucket: service-call-tf-states>\n",
      "<Bucket: service-calls-data-lake>\n",
      "<Bucket: tf-states-de-zoom>\n"
     ]
    }
   ],
   "source": [
    "for b in gcs.list_buckets():\n",
    "    print(b)"
   ]
  },
  {
   "cell_type": "code",
   "execution_count": 14,
   "metadata": {},
   "outputs": [],
   "source": [
    "bucket_name = \"service-calls-data-lake\"\n",
    "# fpath = Path(\"../data/city-wards-boundary.geojson\")\n",
    "fpath = Path(\"../data/toronto_fsa.geojson\")\n",
    "# use os.path.join to avoid messing with gs:// double slash\n",
    "# do not need bucket name in beginning\n",
    "gcsobj = os.path.join(\"geojson\", fpath.name)\n",
    "bucket_client = gcs.bucket(bucket_name)\n",
    "blob_client = bucket_client.blob(gcsobj)\n",
    "blob_client.upload_from_filename(fpath)"
   ]
  },
  {
   "cell_type": "code",
   "execution_count": 15,
   "metadata": {},
   "outputs": [],
   "source": [
    "from tempfile import TemporaryDirectory"
   ]
  },
  {
   "cell_type": "code",
   "execution_count": 16,
   "metadata": {},
   "outputs": [
    {
     "name": "stdout",
     "output_type": "stream",
     "text": [
      "/tmp/tmpdlxb1lmf\n",
      "/tmp/tmp1juacnbk\n"
     ]
    }
   ],
   "source": [
    "with TemporaryDirectory() as tmp1:\n",
    "    print(tmp1)\n",
    "    with TemporaryDirectory() as tmp2:\n",
    "        print(tmp2)"
   ]
  },
  {
   "cell_type": "code",
   "execution_count": 17,
   "metadata": {},
   "outputs": [],
   "source": [
    "import pandas as pd"
   ]
  },
  {
   "cell_type": "code",
   "execution_count": 18,
   "metadata": {},
   "outputs": [],
   "source": [
    "df = pd.DataFrame([[4, 9]] * 3, columns=[\"A\", \"B\"])\n",
    "gcspq = f\"gs://{bucket_name}/raw/pq/test.parquet\"\n",
    "df.to_parquet(path=gcspq)"
   ]
  },
  {
   "attachments": {},
   "cell_type": "markdown",
   "metadata": {},
   "source": [
    "Testing for errors when parsing ward name and ID number"
   ]
  },
  {
   "cell_type": "code",
   "execution_count": 11,
   "metadata": {},
   "outputs": [
    {
     "name": "stdout",
     "output_type": "stream",
     "text": [
      "error:  substring not found\n",
      "Ward field did not have '(' to search for ID\n",
      "None 0\n"
     ]
    }
   ],
   "source": [
    "ward = \"some msg\"\n",
    "try:\n",
    "    idx = ward.index(\"(\")\n",
    "    ward_name = ward[: idx - 1]\n",
    "    ward_id = int(ward[idx + 1 : idx + 3])\n",
    "\n",
    "except ValueError as e:\n",
    "    print(\"error: \", e)\n",
    "    if \"substring not found\" in str(e):\n",
    "        print(\"Ward field did not have '(' to search for ID\")\n",
    "        ward_name = \"None\"\n",
    "        ward_id = 0\n",
    "finally:\n",
    "    print(ward_name, ward_id)"
   ]
  },
  {
   "cell_type": "code",
   "execution_count": 14,
   "metadata": {},
   "outputs": [
    {
     "name": "stdout",
     "output_type": "stream",
     "text": [
      "msg: substring not found\n",
      "type: <class 'ValueError'>\n",
      "str: substring not found\n",
      "repr: ValueError('substring not found')\n",
      "yay\n"
     ]
    }
   ],
   "source": [
    "try:\n",
    "    raise ValueError(\"substring not found\")\n",
    "except ValueError as e:\n",
    "    print(f\"msg: {e}\\ntype: {type(e)}\\nstr: {str(e)}\\nrepr: {repr(e)}\")\n",
    "    if \"substring not found\" in repr(e):\n",
    "        print(\"yay\")"
   ]
  },
  {
   "cell_type": "code",
   "execution_count": 9,
   "metadata": {},
   "outputs": [
    {
     "name": "stdout",
     "output_type": "stream",
     "text": [
      "['__cause__', '__class__', '__context__', '__delattr__', '__dict__', '__dir__', '__doc__', '__eq__', '__format__', '__ge__', '__getattribute__', '__gt__', '__hash__', '__init__', '__init_subclass__', '__le__', '__lt__', '__ne__', '__new__', '__reduce__', '__reduce_ex__', '__repr__', '__setattr__', '__setstate__', '__sizeof__', '__str__', '__subclasshook__', '__suppress_context__', '__traceback__', 'args', 'with_traceback']\n"
     ]
    }
   ],
   "source": [
    "print(dir(ValueError()))"
   ]
  },
  {
   "cell_type": "code",
   "execution_count": null,
   "metadata": {},
   "outputs": [],
   "source": []
  }
 ],
 "metadata": {
  "kernelspec": {
   "display_name": "to-service-qAcdV8BS-py3.10",
   "language": "python",
   "name": "python3"
  },
  "language_info": {
   "codemirror_mode": {
    "name": "ipython",
    "version": 3
   },
   "file_extension": ".py",
   "mimetype": "text/x-python",
   "name": "python",
   "nbconvert_exporter": "python",
   "pygments_lexer": "ipython3",
   "version": "3.10.6"
  },
  "orig_nbformat": 4
 },
 "nbformat": 4,
 "nbformat_minor": 2
}
